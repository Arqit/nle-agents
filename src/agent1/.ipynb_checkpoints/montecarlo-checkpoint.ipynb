{
 "cells": [
  {
   "cell_type": "code",
   "execution_count": 730,
   "metadata": {},
   "outputs": [],
   "source": [
    "import numpy as np\n",
    "from collections import defaultdict\n",
    "import os\n",
    "\n",
    "import numpy as np\n",
    "from copy import deepcopy\n",
    "from tqdm import tqdm\n",
    "import nle\n",
    "import gym\n",
    "from matplotlib import animation\n",
    "\n",
    "class Tree:\n",
    "    def __init__(self):\n",
    "        self.dictionary = defaultdict(lambda: {})\n",
    "        self.stateCount = 0\n",
    "        self.root = 0\n",
    "        self.AddState()\n",
    "        \n",
    "        '''\n",
    "        We need the state count to add new children. We can't\n",
    "        just take length of states because it gets pruned and\n",
    "        states will get over written\n",
    "        '''\n",
    "\n",
    "    '''Only keep lowest actions to get to state'''\n",
    "    def AddState(self, a=[], p=None): # a child node\n",
    "        index = self.stateCount\n",
    "        self[index][\"parent\"] = p\n",
    "        self[index][\"actions\"] = a\n",
    "        self[index][\"isTerminal\"] = False\n",
    "        self[index][\"children\"] = []\n",
    "        self[index][\"reward\"] = 0\n",
    "        self[index][\"visits\"] = 0\n",
    "        self.stateCount += 1\n",
    "\n",
    "    def backup(self, delta, state):\n",
    "        #backup a reward when a terminal state is reached\n",
    "        current = state\n",
    "        while current != None:\n",
    "            self[current][\"visits\"] += 1\n",
    "            self[current][\"reward\"] += delta\n",
    "            current = self[current][\"parent\"]\n",
    "\n",
    "    def addChild(self,parent,child):\n",
    "        if self[child][\"parent\"] == None: #check that ch\n",
    "            self[child][\"parent\"] = parent\n",
    "            self[parent][\"children\"].append(child)\n",
    "\n",
    "    def getChild(self,current,state): #use actions\n",
    "        for key in state.keys():\n",
    "            if (type(state[key])==np.ndarray):\n",
    "                state[key] = state[key].tolist()\n",
    "        for i in range(len(self[current][\"children\"])):\n",
    "            if np.all(self[self[current][\"children\"][i]][\"state\"] == state):\n",
    "                return self[current][\"children\"][i]\n",
    "        return None\n",
    "    \n",
    "    def bestChild(self,current,c): #UCB\n",
    "        \n",
    "        '''\n",
    "        Sometimes the best node is the terminal node i.e. the game is over. In that \n",
    "        case then that node cannot be given as \"best child\" and the next 'best child'\n",
    "        must be found. If no best children are available then the algorithm must track back up.\n",
    "        '''\n",
    "        \n",
    "        first = np.divide([self[self[current][\"children\"][i]][\"reward\"] for i in range(len(self[current][\"children\"]))],[self[self[current][\"children\"][i]][\"visits\"] for i in range(len(self[current][\"children\"]))])\n",
    "        second = np.sqrt(np.divide(2*np.log(self[current][\"visits\"]),[self[self[current][\"children\"][i]][\"visits\"] for i in range(len(self[current][\"children\"]))]))\n",
    "        return self[current][\"children\"][np.argmax(first+c*second)]\n",
    "    \n",
    "    def __del__(self):\n",
    "        del self.dictionary\n",
    "\n",
    "    def __getitem__(self, index):\n",
    "        return self.dictionary[index]\n",
    "\n"
   ]
  },
  {
   "cell_type": "code",
   "execution_count": 714,
   "metadata": {},
   "outputs": [],
   "source": [
    "class MyAgent():\n",
    "    def __init__(self, observation_space, action_space,seed,depth,env_name):\n",
    "        self.observation_space = observation_space\n",
    "        self.action_space = action_space\n",
    "        self.env = gym.make(env_name)\n",
    "        self.seed = seed\n",
    "        self.reset() #THIS \n",
    "        self.tree = None\n",
    "        self.actions = []\n",
    "        self.depth = depth\n",
    "        self.startingObservation = None\n",
    "        \n",
    "        # TODO Initialise your agent's models\n",
    "\n",
    "        # for example, if your agent had a Pytorch model it must be load here\n",
    "        # model.load_state_dict(torch.load( 'path_to_network_model_file', map_location=torch.device(device)))\n",
    "\n",
    "    def act(self):\n",
    "\n",
    "        return self.UCTS()\n",
    "    \n",
    "    def resetAgent(self):\n",
    "        self.reset()\n",
    "        self.actions = []\n",
    "        del self.tree\n",
    "        self.tree = None\n",
    "\n",
    "    def DeletePrior(self,bc):\n",
    "        acts = self.tree[bc]['actions'] \n",
    "        keys = list(self.tree.dictionary.keys())\n",
    "        actCount = len(acts)\n",
    "        for ind in keys :\n",
    "            if acts[:actCount] != self.tree[ind]['actions'][:actCount]: #are you the best move or it's decendant?\n",
    "                _ = self.tree.dictionary.pop(ind)\n",
    "        self.tree.root = bc\n",
    "        self.tree[bc]['parent'] = None\n",
    "\n",
    "    \n",
    "    def reset(self):\n",
    "        # TODO check environment seeding method. \n",
    "        self.env.seed(self.seed)\n",
    "        self.env.reset()\n",
    "\n",
    "    def UCTS(self):\n",
    "        if self.tree == None:\n",
    "            self.tree = Tree()\n",
    "        #give all actions taken to arrive at curren node to the current root\n",
    "        self.tree[self.tree.root][\"actions\"] = self.actions\n",
    "        for _ in (range(self.depth)): \n",
    "            v_1 = self.treePolicy(self.tree.root)\n",
    "            delta = self.defaultPolicy(v_1)\n",
    "            self.tree.backup(delta, v_1)\n",
    "        \n",
    "        best_child = self.tree.bestChild(self.tree.root,0) #select best child without using exploration ?\n",
    "        a = self.tree[best_child][\"actions\"][-1]\n",
    "        self.DeletePrior(best_child)\n",
    "        self.actions.append(a)\n",
    "        return a\n",
    "\n",
    "\n",
    "\n",
    "    def defaultPolicy(self, state):\n",
    "        '''This function performs a rollout down a path using\n",
    "        a random policy. The reward for the path is returned\n",
    "        so that it can be backed up. '''\n",
    "        self.StepEnvironment(self.tree[state]['parent']) \n",
    "        _,total,_,_ = self.env.step(self.tree[state]['actions'][-1])\n",
    "        \n",
    "        done = self.tree[state]['isTerminal']\n",
    "        \n",
    "        if done:\n",
    "            return total#self.tree[state]['reward']\n",
    "\n",
    "        while not done:\n",
    "            action = np.random.choice(self.action_space.n)\n",
    "            state, reward, done, _ = self.env.step(action)\n",
    "            total += reward\n",
    "            \n",
    "        return total\n",
    "    \n",
    "    '''Takes in a state and loops through the state's action list\n",
    "    from the beginning;\n",
    "    WHY DOES IT NEED TO RETURN ANYTHING?\n",
    "    '''\n",
    "    def StepEnvironment(self, state):\n",
    "        '''\n",
    "        Get the state's environment to be where you would be in the\n",
    "        environment if you followed all the steps from the root to the \n",
    "        current node\n",
    "        '''\n",
    "#         print('\\nstep',state)\n",
    "        self.reset()\n",
    "        action_list = self.tree[state][\"actions\"]\n",
    "        for i in action_list:\n",
    "            state,reward,_,_ = self.env.step(i)\n",
    "\n",
    "            \n",
    "        \n",
    "    def expand(self,state):\n",
    "        '''\n",
    "            Adds a single child to state. The child is\n",
    "            the state that is reached when taking an action a' from\n",
    "            state where a' is an action that has not already been\n",
    "            played. \n",
    "        '''\n",
    "        actions = [self.tree[self.tree[state][\"children\"][i]][\"actions\"][-1] for i in range(len(self.tree[state][\"children\"]))] #actions that have been played\n",
    "        allActions = self.FisherYatesShuffle(np.arange(self.action_space.n)) #ensures random all action\n",
    "        temp = deepcopy(self.tree[state][\"actions\"])\n",
    "        # iterate through current list of actions\n",
    "        for i in allActions:\n",
    "            if i not in actions:\n",
    "                self.StepEnvironment(state)\n",
    "                _, reward, done, _= self.env.step(i)\n",
    "                temp.append(i)\n",
    "                child = self.tree.stateCount\n",
    "                self.tree.AddState(a = deepcopy(temp)) \n",
    "                self.tree.addChild(state,child)\n",
    "                self.tree[child][\"isTerminal\"] = done\n",
    "                return child\n",
    "\n",
    "    def treePolicy(self,state): #nxa\n",
    "        \"\"\"\n",
    "        Expands the tree until a terminal node is reached.\n",
    "        \"\"\"\n",
    "\n",
    "        while self.tree[state][\"isTerminal\"] == False:\n",
    "            \n",
    "            if len(self.tree[state][\"children\"]) < self.action_space.n:\n",
    "                #expansion phase\n",
    "                return self.expand(state)\n",
    "            else:\n",
    "                #selection phase\n",
    "                \n",
    "                state = self.tree.bestChild(state, 1)\n",
    "\n",
    "        return state\n",
    "\n",
    "        \n",
    "\n",
    "\n",
    "    def FisherYatesShuffle(self, arr):\n",
    "        for i in range(0,len(arr)-2):\n",
    "            j = np.random.randint(len(arr)-i)+i\n",
    "            temp = arr[i]\n",
    "            arr[i] = arr[j]\n",
    "            arr[j] = temp\n",
    "        return arr\n",
    "\n",
    "    def __del__(self):\n",
    "        self.env.close()\n",
    "        del self.tree"
   ]
  },
  {
   "cell_type": "code",
   "execution_count": 746,
   "metadata": {},
   "outputs": [
    {
     "name": "stderr",
     "output_type": "stream",
     "text": [
      "100%|██████████| 1000/1000 [00:06<00:00, 154.30it/s]\n"
     ]
    }
   ],
   "source": [
    "#run mcts on blackjack\n",
    "rewards = []\n",
    "done = False\n",
    "for  j in tqdm(range(1000)):\n",
    "    bj = gym.make(\"Blackjack-v0\")\n",
    "    bj.seed(j)\n",
    "    bj.reset()\n",
    "    agent = MyAgent(bj.observation_space,bj.action_space,j,10,\"Blackjack-v0\")\n",
    "    done = False\n",
    "    while done == False:\n",
    "        a = agent.act()\n",
    "        state,reward,done, _ = bj.step(a)\n",
    "        rewards.append(reward)"
   ]
  },
  {
   "cell_type": "code",
   "execution_count": 747,
   "metadata": {},
   "outputs": [
    {
     "name": "stderr",
     "output_type": "stream",
     "text": [
      "100%|██████████| 1000/1000 [00:00<00:00, 45024.52it/s]\n"
     ]
    }
   ],
   "source": [
    "#run mcts on \n",
    "rewards2 = []\n",
    "done = False\n",
    "for  j in tqdm(range(1000)):\n",
    "    done = False\n",
    "    while done == False:\n",
    "        state,reward,done, _ = bj.step(np.random.choice([0,1]))\n",
    "        rewards2.append(reward)"
   ]
  },
  {
   "cell_type": "code",
   "execution_count": 757,
   "metadata": {},
   "outputs": [
    {
     "data": {
      "image/png": "[encoded data removed]",
      "text/plain": [
       "<Figure size 432x288 with 1 Axes>"
      ]
     },
     "metadata": {
      "needs_background": "light"
     },
     "output_type": "display_data"
    }
   ],
   "source": [
    "plt.title('Random agent rewards')\n",
    "plt.hist(rewards2)\n",
    "plt.hist(rewards)\n",
    "plt.legend(['random agent','monte agent'])\n",
    "plt.xlabel('steps')\n",
    "plt.ylabel('rewards')\n",
    "plt.show()"
   ]
  },
  {
   "cell_type": "markdown",
   "metadata": {},
   "source": [
    "# Cartpole"
   ]
  },
  {
   "cell_type": "code",
   "execution_count": 732,
   "metadata": {},
   "outputs": [],
   "source": [
    "def save_frames_as_gif(frames, path='./', filename='cp2.gif'):\n",
    "\n",
    "    #function to animate the frames\n",
    "    plt.figure(figsize=(frames[0].shape[1] / 72.0, frames[0].shape[0] / 72.0), dpi=72)\n",
    "\n",
    "    patch = plt.imshow(frames[0])\n",
    "    plt.axis('off')\n",
    "\n",
    "    def animate(i):\n",
    "        patch.set_data(frames[i])\n",
    "\n",
    "    anim = animation.FuncAnimation(plt.gcf(), animate, frames = len(frames), interval=50)\n",
    "    a = anim.save(path + filename, writer='imagemagick', fps=60)"
   ]
  },
  {
   "cell_type": "code",
   "execution_count": 742,
   "metadata": {},
   "outputs": [
    {
     "name": "stderr",
     "output_type": "stream",
     "text": [
      "100%|█████████▉| 199/200 [00:08<00:00, 22.61it/s]\n"
     ]
    },
    {
     "data": {
      "image/png": "[encoded data removed]",
      "text/plain": [
       "<Figure size 432x288 with 1 Axes>"
      ]
     },
     "metadata": {
      "needs_background": "light"
     },
     "output_type": "display_data"
    }
   ],
   "source": [
    "_, ax = plt.subplots(1, 1)\n",
    "cartpole = gym.make('CartPole-v0')\n",
    "cp_seed = 3\n",
    "cartpole.seed(cp_seed)\n",
    "state = cartpole.reset()\n",
    "img = ax.imshow(cartpole.render(mode='rgb_array'))\n",
    "done = False\n",
    "Frames = []\n",
    "agent = MyAgent(cartpole.observation_space,cartpole.action_space,cp_seed,10,'CartPole-v0')\n",
    "mcts_cartpole_rewards = []\n",
    "\n",
    "for i in tqdm(range(200)): #the env is solved if you're upright for more than 199 steps\n",
    "\n",
    "    a = agent.act()\n",
    "    frame = cartpole.render(mode='rgb_array')\n",
    "    Frames.append(frame)\n",
    "    state, reward, done, _ = cartpole.step(a)      \n",
    "    mcts_cartpole_rewards.append(reward)\n",
    "    if done:\n",
    "        break\n",
    "cartpole.close()"
   ]
  },
  {
   "cell_type": "code",
   "execution_count": 738,
   "metadata": {},
   "outputs": [
    {
     "data": {
      "image/png": "[encoded data removed]",
      "text/plain": [
       "<Figure size 600x400 with 1 Axes>"
      ]
     },
     "metadata": {
      "needs_background": "light"
     },
     "output_type": "display_data"
    }
   ],
   "source": [
    "#to save the gif\n",
    "save_frames_as_gif(Frames,filename='mcts_cartpole.gif')"
   ]
  },
  {
   "cell_type": "code",
   "execution_count": 744,
   "metadata": {},
   "outputs": [
    {
     "name": "stderr",
     "output_type": "stream",
     "text": [
      " 10%|▉         | 19/200 [00:00<00:00, 193.76it/s]\n"
     ]
    },
    {
     "data": {
      "image/png": "[encoded data removed]",
      "text/plain": [
       "<Figure size 432x288 with 1 Axes>"
      ]
     },
     "metadata": {
      "needs_background": "light"
     },
     "output_type": "display_data"
    }
   ],
   "source": [
    "#random agent as control\n",
    "_, ax = plt.subplots(1, 1)\n",
    "cartpole = gym.make('CartPole-v0')\n",
    "cp_seed = 3\n",
    "cartpole.seed(cp_seed)\n",
    "state = cartpole.reset()\n",
    "img = ax.imshow(cartpole.render(mode='rgb_array'))\n",
    "done = False\n",
    "Frames = []\n",
    "random_cartpole_rewards = []\n",
    "\n",
    "for i in tqdm(range(200)): #the env is solved if you're upright for more than 199 steps\n",
    "\n",
    "    a = np.random.choice([0,1])\n",
    "    frame = cartpole.render(mode='rgb_array')\n",
    "    Frames.append(frame)\n",
    "    state, reward, done, _ = cartpole.step(a)      \n",
    "    random_cartpole_rewards.append(reward)\n",
    "    if done:\n",
    "        break\n",
    "cartpole.close()"
   ]
  },
  {
   "cell_type": "code",
   "execution_count": 734,
   "metadata": {},
   "outputs": [
    {
     "data": {
      "image/png": "[encoded data removed]",
      "text/plain": [
       "<Figure size 600x400 with 1 Axes>"
      ]
     },
     "metadata": {
      "needs_background": "light"
     },
     "output_type": "display_data"
    }
   ],
   "source": [
    "#to save the gif\n",
    "save_frames_as_gif(Frames,filename='random_cartpole.gif')"
   ]
  },
  {
   "cell_type": "code",
   "execution_count": 756,
   "metadata": {},
   "outputs": [
    {
     "data": {
      "image/png": "[encoded data removed]",
      "text/plain": [
       "<Figure size 432x288 with 1 Axes>"
      ]
     },
     "metadata": {
      "needs_background": "light"
     },
     "output_type": "display_data"
    }
   ],
   "source": [
    "plt.title('Random agent rewards')\n",
    "plt.plot(random_cartpole_rewards,linewidth=10)\n",
    "plt.plot(mcts_cartpole_rewards,linewidth=2)\n",
    "plt.legend(['random agent','monte agent'])\n",
    "plt.xlabel('steps')\n",
    "plt.ylabel('rewards')\n",
    "plt.show()"
   ]
  }
 ],
 "metadata": {
  "kernelspec": {
   "display_name": "nle",
   "language": "python",
   "name": "nle"
  },
  "language_info": {
   "codemirror_mode": {
    "name": "ipython",
    "version": 3
   },
   "file_extension": ".py",
   "mimetype": "text/x-python",
   "name": "python",
   "nbconvert_exporter": "python",
   "pygments_lexer": "ipython3",
   "version": "3.8.5"
  }
 },
 "nbformat": 4,
 "nbformat_minor": 4
}
