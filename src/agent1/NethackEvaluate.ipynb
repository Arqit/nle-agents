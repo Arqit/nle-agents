{
 "cells": [
  {
   "cell_type": "code",
   "execution_count": 729,
   "metadata": {},
   "outputs": [],
   "source": [
    "import numpy as np\n",
    "import gym\n",
    "import nle\n",
    "import random\n",
    "from importlib import reload\n",
    "import MyAgent\n",
    "reload(MyAgent)\n",
    "import wandb\n",
    "import json\n",
    "import os\n",
    "from numpyencoder import NumpyEncoder\n",
    "from tqdm import tqdm\n",
    "import matplotlib.pyplot as plt\n"
   ]
  },
  {
   "cell_type": "code",
   "execution_count": 730,
   "metadata": {},
   "outputs": [],
   "source": [
    "conf = {\n",
    "    'depth':20,\n",
    "    'seed':24,\n",
    "    'action_space':[1,2,3,4,9,10,11,12],\n",
    "    'max_rollout_step':800,\n",
    "    'max_rollout_reward':2,\n",
    "    'movement_penalty':-0.2,\n",
    "    'min_rollout_reward':-20,\n",
    "    \n",
    "}\n",
    "wandb.config = conf"
   ]
  },
  {
   "cell_type": "code",
   "execution_count": 731,
   "metadata": {},
   "outputs": [
    {
     "data": {
      "text/html": [
       "Finishing last run (ID:oe1nt0f5) before initializing another..."
      ],
      "text/plain": [
       "<IPython.core.display.HTML object>"
      ]
     },
     "metadata": {},
     "output_type": "display_data"
    },
    {
     "data": {
      "text/html": [
       "<br/>Waiting for W&B process to finish, PID 17910<br/>Program ended successfully."
      ],
      "text/plain": [
       "<IPython.core.display.HTML object>"
      ]
     },
     "metadata": {},
     "output_type": "display_data"
    },
    {
     "data": {
      "text/html": [
       "Find user logs for this run at: <code>/tmp/nlenpll2y44/wandb/run-20201128_132958-oe1nt0f5/logs/debug.log</code>"
      ],
      "text/plain": [
       "<IPython.core.display.HTML object>"
      ]
     },
     "metadata": {},
     "output_type": "display_data"
    },
    {
     "data": {
      "text/html": [
       "Find internal logs for this run at: <code>/tmp/nlenpll2y44/wandb/run-20201128_132958-oe1nt0f5/logs/debug-internal.log</code>"
      ],
      "text/plain": [
       "<IPython.core.display.HTML object>"
      ]
     },
     "metadata": {},
     "output_type": "display_data"
    },
    {
     "data": {
      "text/html": [
       "<h3>Run summary:</h3><br/><style>\n",
       "    table.wandb td:nth-child(1) { padding: 0 10px; text-align: right }\n",
       "    </style><table class=\"wandb\">\n",
       "<tr><td>episode_return</td><td>350.34</td></tr><tr><td>reward</td><td>0.0</td></tr><tr><td>mean_rollout_lengths</td><td>19.84765</td></tr><tr><td>mean_rollout_rewards</td><td>27.09033</td></tr><tr><td>action</td><td>10</td></tr><tr><td>_step</td><td>826</td></tr><tr><td>_runtime</td><td>1007</td></tr><tr><td>_timestamp</td><td>1606564008</td></tr></table>"
      ],
      "text/plain": [
       "<IPython.core.display.HTML object>"
      ]
     },
     "metadata": {},
     "output_type": "display_data"
    },
    {
     "data": {
      "text/html": [
       "<h3>Run history:</h3><br/><style>\n",
       "    table.wandb td:nth-child(1) { padding: 0 10px; text-align: right }\n",
       "    </style><table class=\"wandb\">\n",
       "<tr><td>episode_return</td><td>▁▁▁▁▁▁▁▁▁▁▁▁▁▁▁▃▃▃▃▃▃▃▃▃▃▄▅▅▅▅▆▆▆▆▇▇████</td></tr><tr><td>reward</td><td>▁▁▁▁▁▁▁▁▁▁▁▁▁▁▁▁▁▁▁▁▁▁▁▁▁▁▁▁▁▁▁▁▁█▁▁▁▁▁▁</td></tr><tr><td>mean_rollout_lengths</td><td>█▆▄▃▃▂▂▂▁▁▁▁▁▁▁▁▁▁▁▁▁▁▁▁▁▁▁▁▁▁▁▁▁▁▁▁▁▁▁▁</td></tr><tr><td>mean_rollout_rewards</td><td>▁▃▃▄▅▆▇▇▇▇█████████████████████████▇▇▇▇▇</td></tr><tr><td>action</td><td>▆▁▆█▆▆▄▁▁▁█▂▂▆█▄▂▅▂▆▂▁▂▁▁█▅▆██▆▂▁█▅▂▁▅▅▂</td></tr><tr><td>_step</td><td>▁▁▁▁▂▂▂▂▂▃▃▃▃▃▃▄▄▄▄▄▅▅▅▅▅▅▆▆▆▆▆▇▇▇▇▇▇███</td></tr><tr><td>_runtime</td><td>▁▁▁▁▁▁▂▂▂▂▂▂▂▂▂▂▂▂▃▃▃▃▃▃▄▄▄▄▄▄▄▆▆▆▆▇▇▇██</td></tr><tr><td>_timestamp</td><td>▁▁▁▁▁▁▂▂▂▂▂▂▂▂▂▂▂▂▃▃▃▃▃▃▄▄▄▄▄▄▄▆▆▆▆▇▇▇██</td></tr></table><br/>"
      ],
      "text/plain": [
       "<IPython.core.display.HTML object>"
      ]
     },
     "metadata": {},
     "output_type": "display_data"
    },
    {
     "data": {
      "text/html": [
       "Synced 5 W&B file(s), 0 media file(s), 0 artifact file(s) and 0 other file(s)"
      ],
      "text/plain": [
       "<IPython.core.display.HTML object>"
      ]
     },
     "metadata": {},
     "output_type": "display_data"
    },
    {
     "data": {
      "text/html": [
       "\n",
       "                    <br/>Synced <strong style=\"color:#cdcd00\">fallen-voice-17</strong>: <a href=\"https://wandb.ai/ag_/nle_mcts_agent/runs/oe1nt0f5\" target=\"_blank\">https://wandb.ai/ag_/nle_mcts_agent/runs/oe1nt0f5</a><br/>\n",
       "                "
      ],
      "text/plain": [
       "<IPython.core.display.HTML object>"
      ]
     },
     "metadata": {},
     "output_type": "display_data"
    },
    {
     "data": {
      "text/html": [
       "...Successfully finished last run (ID:oe1nt0f5). Initializing new run:<br/><br/>"
      ],
      "text/plain": [
       "<IPython.core.display.HTML object>"
      ]
     },
     "metadata": {},
     "output_type": "display_data"
    },
    {
     "data": {
      "text/html": [
       "\n",
       "                Tracking run with wandb version 0.10.11<br/>\n",
       "                Syncing run <strong style=\"color:#cdcd00\">zany-fog-18</strong> to <a href=\"https://wandb.ai\" target=\"_blank\">Weights & Biases</a> <a href=\"https://docs.wandb.com/integrations/jupyter.html\" target=\"_blank\">(Documentation)</a>.<br/>\n",
       "                Project page: <a href=\"https://wandb.ai/ag_/nle_mcts_agent\" target=\"_blank\">https://wandb.ai/ag_/nle_mcts_agent</a><br/>\n",
       "                Run page: <a href=\"https://wandb.ai/ag_/nle_mcts_agent/runs/3t5bt6x5\" target=\"_blank\">https://wandb.ai/ag_/nle_mcts_agent/runs/3t5bt6x5</a><br/>\n",
       "                Run data is saved locally in <code>/tmp/nlenpll2y44/wandb/run-20201128_134907-3t5bt6x5</code><br/><br/>\n",
       "            "
      ],
      "text/plain": [
       "<IPython.core.display.HTML object>"
      ]
     },
     "metadata": {},
     "output_type": "display_data"
    },
    {
     "data": {
      "text/html": [
       "<h1>Run(3t5bt6x5)</h1><p></p><iframe src=\"https://wandb.ai/ag_/nle_mcts_agent/runs/3t5bt6x5\" style=\"border:none;width:100%;height:400px\"></iframe>"
      ],
      "text/plain": [
       "<wandb.sdk.wandb_run.Run at 0x7f42a8f77b50>"
      ]
     },
     "execution_count": 731,
     "metadata": {},
     "output_type": "execute_result"
    }
   ],
   "source": [
    "wandb.init(project='nle_mcts_agent',config = conf)"
   ]
  },
  {
   "cell_type": "code",
   "execution_count": 733,
   "metadata": {},
   "outputs": [],
   "source": [
    "# Initialise environment\n",
    "env = gym.make(\"NetHackScore-v0\",savedir=None)\n",
    "# Number of times each seed will be run\n",
    "rewards = []\n",
    "directory = os.getcwd()\n",
    "# env.print_action_meanings()\n",
    "seed_rewards = []\n",
    "seed = wandb.config.seed\n",
    "done = False\n",
    "episode_return = 0.0\n",
    "env.seed(seed,seed,False)\n",
    "state = env.reset()\n",
    "count = 0\n",
    "agent =  MyAgent.MyAgent(env.observation_space, env.action_space, seeds=env.get_seeds(),depth = wandb.config.depth)"
   ]
  },
  {
   "cell_type": "code",
   "execution_count": null,
   "metadata": {},
   "outputs": [],
   "source": [
    "while not done:\n",
    "    action = agent.act(None)\n",
    "    new_state, reward, done, _ = env.step(action)\n",
    "    wandb.log({'episode_return':episode_return,\n",
    "               'reward':reward,\n",
    "               'mean_rollout_lengths':np.mean(agent.rollout_lengths),\n",
    "               'mean_rollout_rewards':np.mean(agent.rollout_rewards),\n",
    "               'action':action,\n",
    "              })\n",
    "    episode_return += reward\n",
    "    if done:\n",
    "        print(\"Done\")\n",
    "        break\n"
   ]
  },
  {
   "cell_type": "code",
   "execution_count": 727,
   "metadata": {},
   "outputs": [
    {
     "name": "stdout",
     "output_type": "stream",
     "text": [
      "b''\n",
      "5 gold pieces\u0000\u0000\u0000\u0000\u0000\u0000\u0000\u0000\u0000\u0000\u0000\u0000\u0000\u0000\u0000\u0000\u0000\u0000\u0000\u0000\u0000\u0000\u0000\u0000\u0000\u0000\u0000\u0000\u0000\u0000\u0000\u0000\u0000\u0000\u0000\u0000\u0000\u0000\u0000\u0000\u0000\u0000\u0000\u0000\u0000\u0000\u0000\u0000\u0000\u0000\u0000\u0000\u0000\u0000\u0000\u0000\u0000\u0000\u0000\u0000\u0000\u0000\u0000\u0000\u0000\u0000\u0000\n",
      "an uncursed +2 pair of leather gloves (being worn)\u0000\u0000\u0000\u0000\u0000\u0000\u0000\u0000\u0000\u0000\u0000\u0000\u0000\u0000\u0000\u0000\u0000\u0000\u0000\u0000\u0000\u0000\u0000\u0000\u0000\u0000\u0000\u0000\u0000\u0000\n",
      "an uncursed +1 robe (being worn)\u0000\u0000\u0000\u0000\u0000\u0000\u0000\u0000\u0000\u0000\u0000\u0000\u0000\u0000\u0000\u0000\u0000\u0000\u0000\u0000\u0000\u0000\u0000\u0000\u0000\u0000\u0000\u0000\u0000\u0000\u0000\u0000\u0000\u0000\u0000\u0000\u0000\u0000\u0000\u0000\u0000\u0000\u0000\u0000\u0000\u0000\u0000\u0000\n",
      "a blessed spellbook of protection\u0000\u0000\u0000\u0000\u0000\u0000\u0000\u0000\u0000\u0000\u0000\u0000\u0000\u0000\u0000\u0000\u0000\u0000\u0000\u0000\u0000\u0000\u0000\u0000\u0000\u0000\u0000\u0000\u0000\u0000\u0000\u0000\u0000\u0000\u0000\u0000\u0000\u0000\u0000\u0000\u0000\u0000\u0000\u0000\u0000\u0000\u0000\n",
      "an uncursed scroll of destroy armor\u0000\u0000\u0000\u0000\u0000\u0000\u0000\u0000\u0000\u0000\u0000\u0000\u0000\u0000\u0000\u0000\u0000\u0000\u0000\u0000\u0000\u0000\u0000\u0000\u0000\u0000\u0000\u0000\u0000\u0000\u0000\u0000\u0000\u0000\u0000\u0000\u0000\u0000\u0000\u0000\u0000\u0000\u0000\u0000\u0000\n",
      "3 uncursed potions of healing\u0000\u0000\u0000\u0000\u0000\u0000\u0000\u0000\u0000\u0000\u0000\u0000\u0000\u0000\u0000\u0000\u0000\u0000\u0000\u0000\u0000\u0000\u0000\u0000\u0000\u0000\u0000\u0000\u0000\u0000\u0000\u0000\u0000\u0000\u0000\u0000\u0000\u0000\u0000\u0000\u0000\u0000\u0000\u0000\u0000\u0000\u0000\u0000\u0000\u0000\u0000\n",
      "5 uncursed food rations\u0000\u0000\u0000\u0000\u0000\u0000\u0000\u0000\u0000\u0000\u0000\u0000\u0000\u0000\u0000\u0000\u0000\u0000\u0000\u0000\u0000\u0000\u0000\u0000\u0000\u0000\u0000\u0000\u0000\u0000\u0000\u0000\u0000\u0000\u0000\u0000\u0000\u0000\u0000\u0000\u0000\u0000\u0000\u0000\u0000\u0000\u0000\u0000\u0000\u0000\u0000\u0000\u0000\u0000\u0000\u0000\u0000\n",
      "6 uncursed apples\u0000\u0000\u0000\u0000\u0000\u0000\u0000\u0000\u0000\u0000\u0000\u0000\u0000\u0000\u0000\u0000\u0000\u0000\u0000\u0000\u0000\u0000\u0000\u0000\u0000\u0000\u0000\u0000\u0000\u0000\u0000\u0000\u0000\u0000\u0000\u0000\u0000\u0000\u0000\u0000\u0000\u0000\u0000\u0000\u0000\u0000\u0000\u0000\u0000\u0000\u0000\u0000\u0000\u0000\u0000\u0000\u0000\u0000\u0000\u0000\u0000\u0000\u0000\n",
      "5 uncursed oranges\u0000\u0000\u0000\u0000\u0000\u0000\u0000\u0000\u0000\u0000\u0000\u0000\u0000\u0000\u0000\u0000\u0000\u0000\u0000\u0000\u0000\u0000\u0000\u0000\u0000\u0000\u0000\u0000\u0000\u0000\u0000\u0000\u0000\u0000\u0000\u0000\u0000\u0000\u0000\u0000\u0000\u0000\u0000\u0000\u0000\u0000\u0000\u0000\u0000\u0000\u0000\u0000\u0000\u0000\u0000\u0000\u0000\u0000\u0000\u0000\u0000\u0000\n",
      "3 uncursed fortune cookies\u0000\u0000\u0000\u0000\u0000\u0000\u0000\u0000\u0000\u0000\u0000\u0000\u0000\u0000\u0000\u0000\u0000\u0000\u0000\u0000\u0000\u0000\u0000\u0000\u0000\u0000\u0000\u0000\u0000\u0000\u0000\u0000\u0000\u0000\u0000\u0000\u0000\u0000\u0000\u0000\u0000\u0000\u0000\u0000\u0000\u0000\u0000\u0000\u0000\u0000\u0000\u0000\u0000\u0000\n",
      "an uncursed potion of water\u0000\u0000\u0000\u0000\u0000\u0000\u0000\u0000\u0000\u0000\u0000\u0000\u0000\u0000\u0000\u0000\u0000\u0000\u0000\u0000\u0000\u0000\u0000\u0000\u0000\u0000\u0000\u0000\u0000\u0000\u0000\u0000\u0000\u0000\u0000\u0000\u0000\u0000\u0000\u0000\u0000\u0000\u0000\u0000\u0000\u0000\u0000\u0000\u0000\u0000\u0000\u0000\u0000\n",
      "an uncursed potion of polymorph\u0000\u0000\u0000\u0000\u0000\u0000\u0000\u0000\u0000\u0000\u0000\u0000\u0000\u0000\u0000\u0000\u0000\u0000\u0000\u0000\u0000\u0000\u0000\u0000\u0000\u0000\u0000\u0000\u0000\u0000\u0000\u0000\u0000\u0000\u0000\u0000\u0000\u0000\u0000\u0000\u0000\u0000\u0000\u0000\u0000\u0000\u0000\u0000\u0000\n",
      "\u001b[0;30m\u0000\u001b[0m\u001b[0;30m\u0000\u001b[0m\u001b[0;30m\u0000\u001b[0m\u001b[0;30m\u0000\u001b[0m\u001b[0;30m\u0000\u001b[0m\u001b[0;30m\u0000\u001b[0m\u001b[0;30m\u0000\u001b[0m\u001b[0;30m\u0000\u001b[0m\u001b[0;30m\u0000\u001b[0m\u001b[0;30m\u0000\u001b[0m\u001b[0;30m\u0000\u001b[0m\u001b[0;30m\u0000\u001b[0m\u001b[0;30m\u0000\u001b[0m\u001b[0;30m\u0000\u001b[0m\u001b[0;30m\u0000\u001b[0m\u001b[0;30m\u0000\u001b[0m\u001b[0;30m\u0000\u001b[0m\u001b[0;30m\u0000\u001b[0m\u001b[0;30m\u0000\u001b[0m\u001b[0;30m\u0000\u001b[0m\u001b[0;30m\u0000\u001b[0m\u001b[0;30m\u0000\u001b[0m\u001b[0;30m\u0000\u001b[0m\u001b[0;30m\u0000\u001b[0m\u001b[0;30m\u0000\u001b[0m\u001b[0;30m\u0000\u001b[0m\u001b[0;30m\u0000\u001b[0m\u001b[0;30m\u0000\u001b[0m\u001b[0;30m\u0000\u001b[0m\u001b[0;30m\u0000\u001b[0m\u001b[0;30m\u0000\u001b[0m\u001b[0;30m\u0000\u001b[0m\u001b[0;30m\u0000\u001b[0m\u001b[0;30m\u0000\u001b[0m\u001b[0;30m\u0000\u001b[0m\u001b[0;30m\u0000\u001b[0m\u001b[0;30m\u0000\u001b[0m\u001b[0;30m\u0000\u001b[0m\u001b[0;30m\u0000\u001b[0m\u001b[0;30m\u0000\u001b[0m\u001b[0;30m\u0000\u001b[0m\u001b[0;30m\u0000\u001b[0m\u001b[0;30m\u0000\u001b[0m\u001b[0;30m\u0000\u001b[0m\u001b[0;30m\u0000\u001b[0m\u001b[0;30m\u0000\u001b[0m\u001b[0;30m\u0000\u001b[0m\u001b[0;30m\u0000\u001b[0m\u001b[0;30m\u0000\u001b[0m\u001b[0;30m\u0000\u001b[0m\u001b[0;30m\u0000\u001b[0m\u001b[0;30m\u0000\u001b[0m\u001b[0;30m\u0000\u001b[0m\u001b[0;30m\u0000\u001b[0m\u001b[0;30m\u0000\u001b[0m\u001b[0;30m\u0000\u001b[0m\u001b[0;30m\u0000\u001b[0m\u001b[0;30m\u0000\u001b[0m\u001b[0;30m\u0000\u001b[0m\u001b[0;30m\u0000\u001b[0m\u001b[0;30m\u0000\u001b[0m\u001b[0;30m\u0000\u001b[0m\u001b[0;30m\u0000\u001b[0m\u001b[0;30m\u0000\u001b[0m\u001b[0;30m\u0000\u001b[0m\u001b[0;30m\u0000\u001b[0m\u001b[0;30m\u0000\u001b[0m\u001b[0;30m\u0000\u001b[0m\u001b[0;30m\u0000\u001b[0m\u001b[0;30m\u0000\u001b[0m\u001b[0;30m\u0000\u001b[0m\u001b[0;30m\u0000\u001b[0m\u001b[0;30m\u0000\u001b[0m\u001b[0;30m\u0000\u001b[0m\u001b[0;30m\u0000\u001b[0m\u001b[0;30m\u0000\u001b[0m\u001b[0;30m\u0000\u001b[0m\u001b[0;30m\u0000\u001b[0m\u001b[0;30m\u0000\u001b[0m\n",
      "\u001b[0;30m\u0000\u001b[0m\u001b[0;30m\u0000\u001b[0m\u001b[0;30m\u0000\u001b[0m\u001b[0;30m\u0000\u001b[0m\u001b[0;30m\u0000\u001b[0m\u001b[0;30m\u0000\u001b[0m\u001b[0;30m\u0000\u001b[0m\u001b[0;30m\u0000\u001b[0m\u001b[0;30m\u0000\u001b[0m\u001b[0;30m\u0000\u001b[0m\u001b[0;30m\u0000\u001b[0m\u001b[0;30m\u0000\u001b[0m\u001b[0;30m\u0000\u001b[0m\u001b[0;30m\u0000\u001b[0m\u001b[0;30m\u0000\u001b[0m\u001b[0;30m\u0000\u001b[0m\u001b[0;30m\u0000\u001b[0m\u001b[0;30m\u0000\u001b[0m\u001b[0;30m\u0000\u001b[0m\u001b[0;30m\u0000\u001b[0m\u001b[0;30m\u0000\u001b[0m\u001b[0;30m\u0000\u001b[0m\u001b[0;30m\u0000\u001b[0m\u001b[0;30m\u0000\u001b[0m\u001b[0;30m\u0000\u001b[0m\u001b[0;30m\u0000\u001b[0m\u001b[0;30m\u0000\u001b[0m\u001b[0;30m\u0000\u001b[0m\u001b[0;30m\u0000\u001b[0m\u001b[0;30m\u0000\u001b[0m\u001b[0;30m\u0000\u001b[0m\u001b[0;30m\u0000\u001b[0m\u001b[0;30m\u0000\u001b[0m\u001b[0;30m\u0000\u001b[0m\u001b[0;30m\u0000\u001b[0m\u001b[0;30m\u0000\u001b[0m\u001b[0;30m\u0000\u001b[0m\u001b[0;30m\u0000\u001b[0m\u001b[0;30m\u0000\u001b[0m\u001b[0;30m\u0000\u001b[0m\u001b[0;30m\u0000\u001b[0m\u001b[0;30m\u0000\u001b[0m\u001b[0;30m\u0000\u001b[0m\u001b[0;30m\u0000\u001b[0m\u001b[0;30m\u0000\u001b[0m\u001b[0;30m\u0000\u001b[0m\u001b[0;30m\u0000\u001b[0m\u001b[0;30m\u0000\u001b[0m\u001b[0;30m\u0000\u001b[0m\u001b[0;30m\u0000\u001b[0m\u001b[0;30m\u0000\u001b[0m\u001b[0;30m\u0000\u001b[0m\u001b[0;30m\u0000\u001b[0m\u001b[0;30m\u0000\u001b[0m\u001b[0;30m\u0000\u001b[0m\u001b[0;30m\u0000\u001b[0m\u001b[0;30m\u0000\u001b[0m\u001b[0;30m\u0000\u001b[0m\u001b[0;30m\u0000\u001b[0m\u001b[0;30m\u0000\u001b[0m\u001b[0;30m\u0000\u001b[0m\u001b[0;30m\u0000\u001b[0m\u001b[0;30m\u0000\u001b[0m\u001b[0;30m\u0000\u001b[0m\u001b[0;30m\u0000\u001b[0m\u001b[0;30m\u0000\u001b[0m\u001b[0;30m\u0000\u001b[0m\u001b[0;30m\u0000\u001b[0m\u001b[0;30m\u0000\u001b[0m\u001b[0;30m\u0000\u001b[0m\u001b[0;30m\u0000\u001b[0m\u001b[0;30m\u0000\u001b[0m\u001b[0;30m\u0000\u001b[0m\u001b[0;30m\u0000\u001b[0m\u001b[0;30m\u0000\u001b[0m\u001b[0;30m\u0000\u001b[0m\u001b[0;30m\u0000\u001b[0m\u001b[0;30m\u0000\u001b[0m\u001b[0;30m\u0000\u001b[0m\n",
      "\u001b[0;30m\u0000\u001b[0m\u001b[0;30m\u0000\u001b[0m\u001b[0;30m\u0000\u001b[0m\u001b[0;30m\u0000\u001b[0m\u001b[0;30m\u0000\u001b[0m\u001b[0;30m\u0000\u001b[0m\u001b[0;30m\u0000\u001b[0m\u001b[0;30m\u0000\u001b[0m\u001b[0;30m\u0000\u001b[0m\u001b[0;30m\u0000\u001b[0m\u001b[0;30m\u0000\u001b[0m\u001b[0;30m\u0000\u001b[0m\u001b[0;30m\u0000\u001b[0m\u001b[0;30m\u0000\u001b[0m\u001b[0;30m\u0000\u001b[0m\u001b[0;30m\u0000\u001b[0m\u001b[0;30m\u0000\u001b[0m\u001b[0;30m\u0000\u001b[0m\u001b[0;30m\u0000\u001b[0m\u001b[0;30m\u0000\u001b[0m\u001b[0;30m\u0000\u001b[0m\u001b[0;30m\u0000\u001b[0m\u001b[0;30m\u0000\u001b[0m\u001b[0;30m\u0000\u001b[0m\u001b[0;30m\u0000\u001b[0m\u001b[0;30m\u0000\u001b[0m\u001b[0;30m\u0000\u001b[0m\u001b[0;30m\u0000\u001b[0m\u001b[0;30m\u0000\u001b[0m\u001b[0;30m\u0000\u001b[0m\u001b[0;30m\u0000\u001b[0m\u001b[0;30m\u0000\u001b[0m\u001b[0;30m\u0000\u001b[0m\u001b[0;30m\u0000\u001b[0m\u001b[0;30m\u0000\u001b[0m\u001b[0;30m\u0000\u001b[0m\u001b[0;30m\u0000\u001b[0m\u001b[0;30m\u0000\u001b[0m\u001b[0;30m\u0000\u001b[0m\u001b[0;30m\u0000\u001b[0m\u001b[0;30m\u0000\u001b[0m\u001b[0;30m\u0000\u001b[0m\u001b[0;30m\u0000\u001b[0m\u001b[0;30m\u0000\u001b[0m\u001b[0;30m\u0000\u001b[0m\u001b[0;30m\u0000\u001b[0m\u001b[0;30m\u0000\u001b[0m\u001b[0;30m\u0000\u001b[0m\u001b[0;30m\u0000\u001b[0m\u001b[0;30m\u0000\u001b[0m\u001b[0;30m\u0000\u001b[0m\u001b[0;30m\u0000\u001b[0m\u001b[0;30m\u0000\u001b[0m\u001b[0;30m\u0000\u001b[0m\u001b[0;30m\u0000\u001b[0m\u001b[0;30m\u0000\u001b[0m\u001b[0;30m\u0000\u001b[0m\u001b[0;30m\u0000\u001b[0m\u001b[0;30m\u0000\u001b[0m\u001b[0;30m\u0000\u001b[0m\u001b[0;30m\u0000\u001b[0m\u001b[0;30m\u0000\u001b[0m\u001b[0;30m\u0000\u001b[0m\u001b[0;30m\u0000\u001b[0m\u001b[0;30m\u0000\u001b[0m\u001b[0;30m\u0000\u001b[0m\u001b[0;30m\u0000\u001b[0m\u001b[0;30m\u0000\u001b[0m\u001b[0;30m\u0000\u001b[0m\u001b[0;30m\u0000\u001b[0m\u001b[0;30m\u0000\u001b[0m\u001b[0;30m\u0000\u001b[0m\u001b[0;30m\u0000\u001b[0m\u001b[0;30m\u0000\u001b[0m\u001b[0;30m\u0000\u001b[0m\u001b[0;30m\u0000\u001b[0m\u001b[0;30m\u0000\u001b[0m\u001b[0;30m\u0000\u001b[0m\u001b[0;30m\u0000\u001b[0m\n",
      "\u001b[0;30m\u0000\u001b[0m\u001b[0;30m\u0000\u001b[0m\u001b[0;30m\u0000\u001b[0m\u001b[0;30m\u0000\u001b[0m\u001b[0;30m\u0000\u001b[0m\u001b[0;30m\u0000\u001b[0m\u001b[0;30m\u0000\u001b[0m\u001b[0;30m\u0000\u001b[0m\u001b[0;30m\u0000\u001b[0m\u001b[0;30m\u0000\u001b[0m\u001b[0;30m\u0000\u001b[0m\u001b[0;30m\u0000\u001b[0m\u001b[0;30m\u0000\u001b[0m\u001b[0;30m\u0000\u001b[0m\u001b[0;30m\u0000\u001b[0m\u001b[0;30m\u0000\u001b[0m\u001b[0;30m\u0000\u001b[0m\u001b[0;30m\u0000\u001b[0m\u001b[0;30m\u0000\u001b[0m\u001b[0;30m\u0000\u001b[0m\u001b[0;30m\u0000\u001b[0m\u001b[0;30m\u0000\u001b[0m\u001b[0;30m\u0000\u001b[0m\u001b[0;30m\u0000\u001b[0m\u001b[0;30m\u0000\u001b[0m\u001b[0;30m\u0000\u001b[0m\u001b[0;30m\u0000\u001b[0m\u001b[0;30m\u0000\u001b[0m\u001b[0;30m\u0000\u001b[0m\u001b[0;30m\u0000\u001b[0m\u001b[0;30m\u0000\u001b[0m\u001b[0;30m\u0000\u001b[0m\u001b[0;30m\u0000\u001b[0m\u001b[0;30m\u0000\u001b[0m\u001b[0;30m\u0000\u001b[0m\u001b[0;30m\u0000\u001b[0m\u001b[0;30m\u0000\u001b[0m\u001b[0;30m\u0000\u001b[0m\u001b[0;30m\u0000\u001b[0m\u001b[0;30m\u0000\u001b[0m\u001b[0;30m\u0000\u001b[0m\u001b[0;30m\u0000\u001b[0m\u001b[0;30m\u0000\u001b[0m\u001b[0;30m\u0000\u001b[0m\u001b[0;30m\u0000\u001b[0m\u001b[0;30m\u0000\u001b[0m\u001b[0;30m\u0000\u001b[0m\u001b[0;30m\u0000\u001b[0m\u001b[0;30m\u0000\u001b[0m\u001b[0;30m\u0000\u001b[0m\u001b[0;30m\u0000\u001b[0m\u001b[0;30m\u0000\u001b[0m\u001b[0;30m\u0000\u001b[0m\u001b[0;30m\u0000\u001b[0m\u001b[0;30m\u0000\u001b[0m\u001b[0;30m\u0000\u001b[0m\u001b[0;30m\u0000\u001b[0m\u001b[0;30m\u0000\u001b[0m\u001b[0;30m\u0000\u001b[0m\u001b[0;30m\u0000\u001b[0m\u001b[0;30m\u0000\u001b[0m\u001b[0;30m\u0000\u001b[0m\u001b[0;30m\u0000\u001b[0m\u001b[0;30m\u0000\u001b[0m\u001b[0;30m\u0000\u001b[0m\u001b[0;30m\u0000\u001b[0m\u001b[0;30m\u0000\u001b[0m\u001b[0;30m\u0000\u001b[0m\u001b[0;30m\u0000\u001b[0m\u001b[0;30m\u0000\u001b[0m\u001b[0;30m\u0000\u001b[0m\u001b[0;30m\u0000\u001b[0m\u001b[0;30m\u0000\u001b[0m\u001b[0;30m\u0000\u001b[0m\u001b[0;30m\u0000\u001b[0m\u001b[0;30m\u0000\u001b[0m\u001b[0;30m\u0000\u001b[0m\u001b[0;30m\u0000\u001b[0m\u001b[0;30m\u0000\u001b[0m\n",
      "\u001b[0;30m\u0000\u001b[0m\u001b[0;30m\u0000\u001b[0m\u001b[0;30m\u0000\u001b[0m\u001b[0;30m\u0000\u001b[0m\u001b[0;30m\u0000\u001b[0m\u001b[0;30m\u0000\u001b[0m\u001b[0;30m\u0000\u001b[0m\u001b[0;30m\u0000\u001b[0m\u001b[0;30m\u0000\u001b[0m\u001b[0;30m\u0000\u001b[0m\u001b[0;30m\u0000\u001b[0m\u001b[0;30m\u0000\u001b[0m\u001b[0;30m\u0000\u001b[0m\u001b[0;30m\u0000\u001b[0m\u001b[0;30m\u0000\u001b[0m\u001b[0;30m\u0000\u001b[0m\u001b[0;30m\u0000\u001b[0m\u001b[0;30m\u0000\u001b[0m\u001b[0;30m\u0000\u001b[0m\u001b[0;30m\u0000\u001b[0m\u001b[0;30m\u0000\u001b[0m\u001b[0;30m\u0000\u001b[0m\u001b[0;30m\u0000\u001b[0m\u001b[0;30m\u0000\u001b[0m\u001b[0;30m\u0000\u001b[0m\u001b[0;30m\u0000\u001b[0m\u001b[0;30m\u0000\u001b[0m\u001b[0;30m\u0000\u001b[0m\u001b[0;30m\u0000\u001b[0m\u001b[0;30m\u0000\u001b[0m\u001b[0;30m\u0000\u001b[0m\u001b[0;30m\u0000\u001b[0m\u001b[0;30m\u0000\u001b[0m\u001b[0;30m\u0000\u001b[0m\u001b[0;30m\u0000\u001b[0m\u001b[0;30m\u0000\u001b[0m\u001b[0;30m\u0000\u001b[0m\u001b[0;30m\u0000\u001b[0m\u001b[0;30m\u0000\u001b[0m\u001b[0;30m\u0000\u001b[0m\u001b[0;30m\u0000\u001b[0m\u001b[0;30m\u0000\u001b[0m\u001b[0;30m\u0000\u001b[0m\u001b[0;30m\u0000\u001b[0m\u001b[0;30m\u0000\u001b[0m\u001b[0;30m\u0000\u001b[0m\u001b[0;30m\u0000\u001b[0m\u001b[0;30m\u0000\u001b[0m\u001b[0;30m\u0000\u001b[0m\u001b[0;30m\u0000\u001b[0m\u001b[0;30m\u0000\u001b[0m\u001b[0;30m\u0000\u001b[0m\u001b[0;30m\u0000\u001b[0m\u001b[0;30m\u0000\u001b[0m\u001b[0;30m\u0000\u001b[0m\u001b[0;30m\u0000\u001b[0m\u001b[0;30m\u0000\u001b[0m\u001b[0;30m\u0000\u001b[0m\u001b[0;30m\u0000\u001b[0m\u001b[0;30m\u0000\u001b[0m\u001b[0;30m\u0000\u001b[0m\u001b[0;30m\u0000\u001b[0m\u001b[0;30m\u0000\u001b[0m\u001b[0;30m\u0000\u001b[0m\u001b[0;30m\u0000\u001b[0m\u001b[0;30m\u0000\u001b[0m\u001b[0;30m\u0000\u001b[0m\u001b[0;30m\u0000\u001b[0m\u001b[0;30m\u0000\u001b[0m\u001b[0;30m\u0000\u001b[0m\u001b[0;30m\u0000\u001b[0m\u001b[0;30m\u0000\u001b[0m\u001b[0;30m\u0000\u001b[0m\u001b[0;30m\u0000\u001b[0m\u001b[0;30m\u0000\u001b[0m\u001b[0;30m\u0000\u001b[0m\u001b[0;30m\u0000\u001b[0m\u001b[0;30m\u0000\u001b[0m\u001b[0;30m\u0000\u001b[0m\n",
      "\u001b[0;30m\u0000\u001b[0m\u001b[0;30m\u0000\u001b[0m\u001b[0;30m\u0000\u001b[0m\u001b[0;30m\u0000\u001b[0m\u001b[0;30m\u0000\u001b[0m\u001b[0;30m\u0000\u001b[0m\u001b[0;30m\u0000\u001b[0m\u001b[0;30m\u0000\u001b[0m\u001b[0;30m\u0000\u001b[0m\u001b[0;30m\u0000\u001b[0m\u001b[0;30m\u0000\u001b[0m\u001b[0;30m\u0000\u001b[0m\u001b[0;30m\u0000\u001b[0m\u001b[0;30m\u0000\u001b[0m\u001b[0;30m\u0000\u001b[0m\u001b[0;30m\u0000\u001b[0m\u001b[0;30m\u0000\u001b[0m\u001b[0;30m\u0000\u001b[0m\u001b[0;30m\u0000\u001b[0m\u001b[0;30m\u0000\u001b[0m\u001b[0;30m\u0000\u001b[0m\u001b[0;30m\u0000\u001b[0m\u001b[0;30m\u0000\u001b[0m\u001b[0;30m\u0000\u001b[0m\u001b[0;30m\u0000\u001b[0m\u001b[0;30m\u0000\u001b[0m\u001b[0;30m\u0000\u001b[0m\u001b[0;30m\u0000\u001b[0m\u001b[0;30m\u0000\u001b[0m\u001b[0;30m\u0000\u001b[0m\u001b[0;30m\u0000\u001b[0m\u001b[0;30m\u0000\u001b[0m\u001b[0;30m\u0000\u001b[0m\u001b[0;30m\u0000\u001b[0m\u001b[0;30m\u0000\u001b[0m\u001b[0;30m\u0000\u001b[0m\u001b[0;30m\u0000\u001b[0m\u001b[0;30m\u0000\u001b[0m\u001b[0;30m\u0000\u001b[0m\u001b[0;30m\u0000\u001b[0m\u001b[0;30m\u0000\u001b[0m\u001b[0;30m\u0000\u001b[0m\u001b[0;30m\u0000\u001b[0m\u001b[0;30m\u0000\u001b[0m\u001b[0;30m\u0000\u001b[0m\u001b[0;30m\u0000\u001b[0m\u001b[0;30m\u0000\u001b[0m\u001b[0;30m\u0000\u001b[0m\u001b[0;30m\u0000\u001b[0m\u001b[0;30m\u0000\u001b[0m\u001b[0;30m\u0000\u001b[0m\u001b[0;30m\u0000\u001b[0m\u001b[0;30m\u0000\u001b[0m\u001b[0;30m\u0000\u001b[0m\u001b[0;30m\u0000\u001b[0m\u001b[0;30m\u0000\u001b[0m\u001b[0;30m\u0000\u001b[0m\u001b[0;30m\u0000\u001b[0m\u001b[0;30m\u0000\u001b[0m\u001b[0;30m\u0000\u001b[0m\u001b[0;30m\u0000\u001b[0m\u001b[0;30m\u0000\u001b[0m\u001b[0;30m\u0000\u001b[0m\u001b[0;30m\u0000\u001b[0m\u001b[0;30m\u0000\u001b[0m\u001b[0;30m\u0000\u001b[0m\u001b[0;30m\u0000\u001b[0m\u001b[0;30m\u0000\u001b[0m\u001b[0;30m\u0000\u001b[0m\u001b[0;30m\u0000\u001b[0m\u001b[0;30m\u0000\u001b[0m\u001b[0;30m\u0000\u001b[0m\u001b[0;30m\u0000\u001b[0m\u001b[0;30m\u0000\u001b[0m\u001b[0;30m\u0000\u001b[0m\u001b[0;30m\u0000\u001b[0m\u001b[0;30m\u0000\u001b[0m\u001b[0;30m\u0000\u001b[0m\u001b[0;30m\u0000\u001b[0m\n",
      "\u001b[0;30m\u0000\u001b[0m\u001b[0;30m\u0000\u001b[0m\u001b[0;30m\u0000\u001b[0m\u001b[0;30m\u0000\u001b[0m\u001b[0;30m\u0000\u001b[0m\u001b[0;30m\u0000\u001b[0m\u001b[0;30m\u0000\u001b[0m\u001b[0;30m\u0000\u001b[0m\u001b[0;30m\u0000\u001b[0m\u001b[0;30m\u0000\u001b[0m\u001b[0;30m\u0000\u001b[0m\u001b[0;30m\u0000\u001b[0m\u001b[0;30m\u0000\u001b[0m\u001b[0;30m\u0000\u001b[0m\u001b[0;30m\u0000\u001b[0m\u001b[0;30m\u0000\u001b[0m\u001b[0;30m\u0000\u001b[0m\u001b[0;30m\u0000\u001b[0m\u001b[0;30m\u0000\u001b[0m\u001b[0;30m\u0000\u001b[0m\u001b[0;30m\u0000\u001b[0m\u001b[0;30m\u0000\u001b[0m\u001b[0;30m\u0000\u001b[0m\u001b[0;30m\u0000\u001b[0m\u001b[0;30m\u0000\u001b[0m\u001b[0;30m\u0000\u001b[0m\u001b[0;30m\u0000\u001b[0m\u001b[0;30m\u0000\u001b[0m\u001b[0;30m\u0000\u001b[0m\u001b[0;30m\u0000\u001b[0m\u001b[0;30m\u0000\u001b[0m\u001b[0;30m\u0000\u001b[0m\u001b[0;30m\u0000\u001b[0m\u001b[0;30m\u0000\u001b[0m\u001b[0;30m\u0000\u001b[0m\u001b[0;30m\u0000\u001b[0m\u001b[0;30m\u0000\u001b[0m\u001b[0;30m\u0000\u001b[0m\u001b[0;30m\u0000\u001b[0m\u001b[0;30m\u0000\u001b[0m\u001b[0;30m\u0000\u001b[0m\u001b[0;30m\u0000\u001b[0m\u001b[0;30m\u0000\u001b[0m\u001b[0;30m\u0000\u001b[0m\u001b[0;30m\u0000\u001b[0m\u001b[0;30m\u0000\u001b[0m\u001b[0;30m\u0000\u001b[0m\u001b[0;30m\u0000\u001b[0m\u001b[0;30m\u0000\u001b[0m\u001b[0;30m\u0000\u001b[0m\u001b[0;30m\u0000\u001b[0m\u001b[0;30m\u0000\u001b[0m\u001b[0;30m\u0000\u001b[0m\u001b[0;30m\u0000\u001b[0m\u001b[0;30m\u0000\u001b[0m\u001b[0;30m\u0000\u001b[0m\u001b[0;30m\u0000\u001b[0m\u001b[0;30m\u0000\u001b[0m\u001b[0;30m\u0000\u001b[0m\u001b[0;30m\u0000\u001b[0m\u001b[0;30m\u0000\u001b[0m\u001b[0;30m\u0000\u001b[0m\u001b[0;30m\u0000\u001b[0m\u001b[0;30m\u0000\u001b[0m\u001b[0;30m\u0000\u001b[0m\u001b[0;30m\u0000\u001b[0m\u001b[0;30m\u0000\u001b[0m\u001b[0;30m\u0000\u001b[0m\u001b[0;30m\u0000\u001b[0m\u001b[0;30m\u0000\u001b[0m\u001b[0;30m\u0000\u001b[0m\u001b[0;30m\u0000\u001b[0m\u001b[0;30m\u0000\u001b[0m\u001b[0;30m\u0000\u001b[0m\u001b[0;30m\u0000\u001b[0m\u001b[0;30m\u0000\u001b[0m\u001b[0;30m\u0000\u001b[0m\u001b[0;30m\u0000\u001b[0m\u001b[0;30m\u0000\u001b[0m\n",
      "\u001b[0;30m\u0000\u001b[0m\u001b[0;30m\u0000\u001b[0m\u001b[0;30m\u0000\u001b[0m\u001b[0;30m\u0000\u001b[0m\u001b[0;30m\u0000\u001b[0m\u001b[0;30m\u0000\u001b[0m\u001b[0;30m\u0000\u001b[0m\u001b[0;30m\u0000\u001b[0m\u001b[0;30m\u0000\u001b[0m\u001b[0;30m\u0000\u001b[0m\u001b[0;30m\u0000\u001b[0m\u001b[0;30m\u0000\u001b[0m\u001b[0;30m\u0000\u001b[0m\u001b[0;30m\u0000\u001b[0m\u001b[0;30m\u0000\u001b[0m\u001b[0;30m\u0000\u001b[0m\u001b[0;30m\u0000\u001b[0m\u001b[0;30m\u0000\u001b[0m\u001b[0;30m\u0000\u001b[0m\u001b[0;30m\u0000\u001b[0m\u001b[0;30m\u0000\u001b[0m\u001b[0;30m\u0000\u001b[0m\u001b[0;30m\u0000\u001b[0m\u001b[0;30m\u0000\u001b[0m\u001b[0;30m\u0000\u001b[0m\u001b[0;30m\u0000\u001b[0m\u001b[0;30m\u0000\u001b[0m\u001b[0;30m\u0000\u001b[0m\u001b[0;30m\u0000\u001b[0m\u001b[0;30m\u0000\u001b[0m\u001b[0;30m\u0000\u001b[0m\u001b[0;30m\u0000\u001b[0m\u001b[0;30m\u0000\u001b[0m\u001b[0;30m\u0000\u001b[0m\u001b[0;30m\u0000\u001b[0m\u001b[0;30m\u0000\u001b[0m\u001b[0;30m\u0000\u001b[0m\u001b[0;30m\u0000\u001b[0m\u001b[0;30m\u0000\u001b[0m\u001b[0;30m\u0000\u001b[0m\u001b[0;30m\u0000\u001b[0m\u001b[0;30m\u0000\u001b[0m\u001b[0;30m\u0000\u001b[0m\u001b[0;30m\u0000\u001b[0m\u001b[0;30m\u0000\u001b[0m\u001b[0;30m\u0000\u001b[0m\u001b[0;30m\u0000\u001b[0m\u001b[0;30m\u0000\u001b[0m\u001b[0;30m\u0000\u001b[0m\u001b[0;30m\u0000\u001b[0m\u001b[0;30m\u0000\u001b[0m\u001b[0;30m\u0000\u001b[0m\u001b[0;30m\u0000\u001b[0m\u001b[0;30m\u0000\u001b[0m\u001b[0;30m\u0000\u001b[0m\u001b[0;30m\u0000\u001b[0m\u001b[0;30m\u0000\u001b[0m\u001b[0;30m\u0000\u001b[0m\u001b[0;30m\u0000\u001b[0m\u001b[0;30m\u0000\u001b[0m\u001b[0;30m\u0000\u001b[0m\u001b[0;30m\u0000\u001b[0m\u001b[0;30m\u0000\u001b[0m\u001b[0;30m\u0000\u001b[0m\u001b[0;30m\u0000\u001b[0m\u001b[0;30m\u0000\u001b[0m\u001b[0;30m\u0000\u001b[0m\u001b[0;30m\u0000\u001b[0m\u001b[0;30m\u0000\u001b[0m\u001b[0;30m\u0000\u001b[0m\u001b[0;30m\u0000\u001b[0m\u001b[0;30m\u0000\u001b[0m\u001b[0;30m\u0000\u001b[0m\u001b[0;30m\u0000\u001b[0m\u001b[0;30m\u0000\u001b[0m\u001b[0;30m\u0000\u001b[0m\u001b[0;30m\u0000\u001b[0m\u001b[0;30m\u0000\u001b[0m\u001b[0;30m\u0000\u001b[0m\n"
     ]
    },
    {
     "name": "stdout",
     "output_type": "stream",
     "text": [
      "\u001b[0;30m\u0000\u001b[0m\u001b[0;30m\u0000\u001b[0m\u001b[0;30m\u0000\u001b[0m\u001b[0;30m\u0000\u001b[0m\u001b[0;30m\u0000\u001b[0m\u001b[0;30m\u0000\u001b[0m\u001b[0;30m\u0000\u001b[0m\u001b[0;30m\u0000\u001b[0m\u001b[0;30m\u0000\u001b[0m\u001b[0;30m\u0000\u001b[0m\u001b[0;30m\u0000\u001b[0m\u001b[0;30m\u0000\u001b[0m\u001b[0;30m\u0000\u001b[0m\u001b[0;30m\u0000\u001b[0m\u001b[0;30m\u0000\u001b[0m\u001b[0;30m\u0000\u001b[0m\u001b[0;30m\u0000\u001b[0m\u001b[0;30m\u0000\u001b[0m\u001b[0;30m\u0000\u001b[0m\u001b[0;30m\u0000\u001b[0m\u001b[0;30m\u0000\u001b[0m\u001b[0;30m\u0000\u001b[0m\u001b[0;30m\u0000\u001b[0m\u001b[0;30m\u0000\u001b[0m\u001b[0;30m\u0000\u001b[0m\u001b[0;30m\u0000\u001b[0m\u001b[0;30m\u0000\u001b[0m\u001b[0;30m\u0000\u001b[0m\u001b[0;30m\u0000\u001b[0m\u001b[0;30m\u0000\u001b[0m\u001b[0;30m\u0000\u001b[0m\u001b[0;30m\u0000\u001b[0m\u001b[0;30m\u0000\u001b[0m\u001b[0;30m\u0000\u001b[0m\u001b[0;30m\u0000\u001b[0m\u001b[0;30m\u0000\u001b[0m\u001b[0;30m\u0000\u001b[0m\u001b[0;30m\u0000\u001b[0m\u001b[0;30m\u0000\u001b[0m\u001b[0;30m\u0000\u001b[0m\u001b[0;30m\u0000\u001b[0m\u001b[0;30m\u0000\u001b[0m\u001b[0;30m\u0000\u001b[0m\u001b[0;30m\u0000\u001b[0m\u001b[0;30m\u0000\u001b[0m\u001b[0;30m\u0000\u001b[0m\u001b[0;30m\u0000\u001b[0m\u001b[0;30m\u0000\u001b[0m\u001b[0;30m\u0000\u001b[0m\u001b[0;30m\u0000\u001b[0m\u001b[0;30m\u0000\u001b[0m\u001b[0;30m\u0000\u001b[0m\u001b[0;30m\u0000\u001b[0m\u001b[0;30m\u0000\u001b[0m\u001b[0;30m\u0000\u001b[0m\u001b[0;30m\u0000\u001b[0m\u001b[0;30m\u0000\u001b[0m\u001b[0;30m\u0000\u001b[0m\u001b[0;30m\u0000\u001b[0m\u001b[0;30m\u0000\u001b[0m\u001b[0;30m\u0000\u001b[0m\u001b[0;30m\u0000\u001b[0m\u001b[0;30m\u0000\u001b[0m\u001b[0;30m\u0000\u001b[0m\u001b[0;30m\u0000\u001b[0m\u001b[0;30m\u0000\u001b[0m\u001b[0;30m\u0000\u001b[0m\u001b[0;30m\u0000\u001b[0m\u001b[0;30m\u0000\u001b[0m\u001b[0;30m\u0000\u001b[0m\u001b[0;30m\u0000\u001b[0m\u001b[0;30m\u0000\u001b[0m\u001b[0;30m\u0000\u001b[0m\u001b[0;30m\u0000\u001b[0m\u001b[0;30m\u0000\u001b[0m\u001b[0;30m\u0000\u001b[0m\u001b[0;30m\u0000\u001b[0m\u001b[0;30m\u0000\u001b[0m\u001b[0;30m\u0000\u001b[0m\n",
      "\u001b[0;30m\u0000\u001b[0m\u001b[0;30m\u0000\u001b[0m\u001b[0;30m\u0000\u001b[0m\u001b[0;30m\u0000\u001b[0m\u001b[0;30m\u0000\u001b[0m\u001b[0;30m\u0000\u001b[0m\u001b[0;30m\u0000\u001b[0m\u001b[0;30m\u0000\u001b[0m\u001b[0;30m\u0000\u001b[0m\u001b[0;30m\u0000\u001b[0m\u001b[0;30m\u0000\u001b[0m\u001b[0;30m\u0000\u001b[0m\u001b[0;30m\u0000\u001b[0m\u001b[0;30m\u0000\u001b[0m\u001b[0;30m\u0000\u001b[0m\u001b[0;30m\u0000\u001b[0m\u001b[0;30m\u0000\u001b[0m\u001b[0;30m\u0000\u001b[0m\u001b[0;30m\u0000\u001b[0m\u001b[0;30m\u0000\u001b[0m\u001b[0;30m\u0000\u001b[0m\u001b[0;30m\u0000\u001b[0m\u001b[0;30m\u0000\u001b[0m\u001b[0;30m\u0000\u001b[0m\u001b[0;30m\u0000\u001b[0m\u001b[0;30m\u0000\u001b[0m\u001b[0;30m\u0000\u001b[0m\u001b[0;30m\u0000\u001b[0m\u001b[0;30m\u0000\u001b[0m\u001b[0;30m\u0000\u001b[0m\u001b[0;30m\u0000\u001b[0m\u001b[0;30m\u0000\u001b[0m\u001b[0;30m\u0000\u001b[0m\u001b[0;30m\u0000\u001b[0m\u001b[0;30m\u0000\u001b[0m\u001b[0;30m\u0000\u001b[0m\u001b[0;30m\u0000\u001b[0m\u001b[0;30m\u0000\u001b[0m\u001b[0;30m\u0000\u001b[0m\u001b[0;30m\u0000\u001b[0m\u001b[0;30m\u0000\u001b[0m\u001b[0;30m\u0000\u001b[0m\u001b[0;30m\u0000\u001b[0m\u001b[0;30m\u0000\u001b[0m\u001b[0;30m\u0000\u001b[0m\u001b[0;30m\u0000\u001b[0m\u001b[0;30m\u0000\u001b[0m\u001b[0;30m\u0000\u001b[0m\u001b[0;30m\u0000\u001b[0m\u001b[0;30m\u0000\u001b[0m\u001b[0;30m\u0000\u001b[0m\u001b[0;30m\u0000\u001b[0m\u001b[0;30m\u0000\u001b[0m\u001b[0;30m\u0000\u001b[0m\u001b[0;30m\u0000\u001b[0m\u001b[0;30m\u0000\u001b[0m\u001b[0;30m\u0000\u001b[0m\u001b[0;30m\u0000\u001b[0m\u001b[0;30m\u0000\u001b[0m\u001b[0;30m\u0000\u001b[0m\u001b[0;30m\u0000\u001b[0m\u001b[0;30m\u0000\u001b[0m\u001b[0;30m\u0000\u001b[0m\u001b[0;30m\u0000\u001b[0m\u001b[0;30m\u0000\u001b[0m\u001b[0;30m\u0000\u001b[0m\u001b[0;30m\u0000\u001b[0m\u001b[0;30m\u0000\u001b[0m\u001b[0;30m\u0000\u001b[0m\u001b[0;30m\u0000\u001b[0m\u001b[0;30m\u0000\u001b[0m\u001b[0;30m\u0000\u001b[0m\u001b[0;30m\u0000\u001b[0m\u001b[0;30m\u0000\u001b[0m\u001b[0;30m\u0000\u001b[0m\u001b[0;30m\u0000\u001b[0m\u001b[0;30m\u0000\u001b[0m\u001b[0;30m\u0000\u001b[0m\u001b[0;30m\u0000\u001b[0m\n",
      "\u001b[0;30m\u0000\u001b[0m\u001b[0;30m\u0000\u001b[0m\u001b[0;30m\u0000\u001b[0m\u001b[0;30m\u0000\u001b[0m\u001b[0;30m\u0000\u001b[0m\u001b[0;30m\u0000\u001b[0m\u001b[0;30m\u0000\u001b[0m\u001b[0;30m\u0000\u001b[0m\u001b[0;30m\u0000\u001b[0m\u001b[0;30m\u0000\u001b[0m\u001b[0;30m\u0000\u001b[0m\u001b[0;30m\u0000\u001b[0m\u001b[0;30m\u0000\u001b[0m\u001b[0;30m\u0000\u001b[0m\u001b[0;30m\u0000\u001b[0m\u001b[0;30m\u0000\u001b[0m\u001b[0;30m\u0000\u001b[0m\u001b[0;30m\u0000\u001b[0m\u001b[0;30m\u0000\u001b[0m\u001b[0;30m\u0000\u001b[0m\u001b[0;30m\u0000\u001b[0m\u001b[0;30m\u0000\u001b[0m\u001b[0;30m\u0000\u001b[0m\u001b[0;30m\u0000\u001b[0m\u001b[0;30m\u0000\u001b[0m\u001b[0;30m\u0000\u001b[0m\u001b[0;30m\u0000\u001b[0m\u001b[0;30m\u0000\u001b[0m\u001b[0;30m\u0000\u001b[0m\u001b[0;30m\u0000\u001b[0m\u001b[0;30m\u0000\u001b[0m\u001b[0;30m\u0000\u001b[0m\u001b[0;30m\u0000\u001b[0m\u001b[0;30m\u0000\u001b[0m\u001b[0;30m\u0000\u001b[0m\u001b[0;30m\u0000\u001b[0m\u001b[0;30m\u0000\u001b[0m\u001b[0;30m\u0000\u001b[0m\u001b[0;30m\u0000\u001b[0m\u001b[0;30m\u0000\u001b[0m\u001b[0;30m\u0000\u001b[0m\u001b[0;30m\u0000\u001b[0m\u001b[0;30m\u0000\u001b[0m\u001b[0;30m\u0000\u001b[0m\u001b[0;30m\u0000\u001b[0m\u001b[0;30m\u0000\u001b[0m\u001b[0;30m\u0000\u001b[0m\u001b[0;30m\u0000\u001b[0m\u001b[0;30m\u0000\u001b[0m\u001b[0;30m\u0000\u001b[0m\u001b[0;30m\u0000\u001b[0m\u001b[0;30m\u0000\u001b[0m\u001b[0;30m\u0000\u001b[0m\u001b[0;30m\u0000\u001b[0m\u001b[0;30m\u0000\u001b[0m\u001b[0;30m\u0000\u001b[0m\u001b[0;30m\u0000\u001b[0m\u001b[0;30m\u0000\u001b[0m\u001b[0;30m\u0000\u001b[0m\u001b[0;30m\u0000\u001b[0m\u001b[0;30m\u0000\u001b[0m\u001b[0;30m\u0000\u001b[0m\u001b[0;30m\u0000\u001b[0m\u001b[0;30m\u0000\u001b[0m\u001b[0;30m\u0000\u001b[0m\u001b[0;30m\u0000\u001b[0m\u001b[0;30m\u0000\u001b[0m\u001b[0;30m\u0000\u001b[0m\u001b[0;30m\u0000\u001b[0m\u001b[0;30m\u0000\u001b[0m\u001b[0;30m\u0000\u001b[0m\u001b[0;30m\u0000\u001b[0m\u001b[0;30m\u0000\u001b[0m\u001b[0;30m\u0000\u001b[0m\u001b[0;30m\u0000\u001b[0m\u001b[0;30m\u0000\u001b[0m\u001b[0;30m\u0000\u001b[0m\u001b[0;30m\u0000\u001b[0m\u001b[0;30m\u0000\u001b[0m\n",
      "\u001b[0;30m\u0000\u001b[0m\u001b[0;30m\u0000\u001b[0m\u001b[0;30m\u0000\u001b[0m\u001b[0;30m\u0000\u001b[0m\u001b[0;30m\u0000\u001b[0m\u001b[0;30m\u0000\u001b[0m\u001b[0;30m\u0000\u001b[0m\u001b[0;30m\u0000\u001b[0m\u001b[0;30m\u0000\u001b[0m\u001b[0;30m\u0000\u001b[0m\u001b[0;30m\u0000\u001b[0m\u001b[0;30m\u0000\u001b[0m\u001b[0;30m\u0000\u001b[0m\u001b[0;30m\u0000\u001b[0m\u001b[0;30m\u0000\u001b[0m\u001b[0;30m\u0000\u001b[0m\u001b[0;30m\u0000\u001b[0m\u001b[0;30m\u0000\u001b[0m\u001b[0;30m\u0000\u001b[0m\u001b[0;30m\u0000\u001b[0m\u001b[0;30m\u0000\u001b[0m\u001b[0;30m\u0000\u001b[0m\u001b[0;30m\u0000\u001b[0m\u001b[0;30m\u0000\u001b[0m\u001b[0;30m\u0000\u001b[0m\u001b[0;30m\u0000\u001b[0m\u001b[0;30m\u0000\u001b[0m\u001b[0;30m\u0000\u001b[0m\u001b[0;30m\u0000\u001b[0m\u001b[0;30m\u0000\u001b[0m\u001b[0;30m\u0000\u001b[0m\u001b[0;30m\u0000\u001b[0m\u001b[0;30m\u0000\u001b[0m\u001b[0;30m\u0000\u001b[0m\u001b[0;30m\u0000\u001b[0m\u001b[0;30m\u0000\u001b[0m\u001b[0;30m\u0000\u001b[0m\u001b[0;30m\u0000\u001b[0m\u001b[0;30m\u0000\u001b[0m\u001b[0;30m\u0000\u001b[0m\u001b[0;30m\u0000\u001b[0m\u001b[0;30m\u0000\u001b[0m\u001b[0;30m\u0000\u001b[0m\u001b[0;30m\u0000\u001b[0m\u001b[0;30m\u0000\u001b[0m\u001b[0;30m\u0000\u001b[0m\u001b[0;30m\u0000\u001b[0m\u001b[0;30m\u0000\u001b[0m\u001b[0;30m\u0000\u001b[0m\u001b[0;30m\u0000\u001b[0m\u001b[0;30m\u0000\u001b[0m\u001b[0;30m\u0000\u001b[0m\u001b[0;30m\u0000\u001b[0m\u001b[0;30m\u0000\u001b[0m\u001b[0;30m\u0000\u001b[0m\u001b[0;30m\u0000\u001b[0m\u001b[0;30m\u0000\u001b[0m\u001b[0;30m\u0000\u001b[0m\u001b[0;30m\u0000\u001b[0m\u001b[0;30m\u0000\u001b[0m\u001b[0;30m\u0000\u001b[0m\u001b[0;30m\u0000\u001b[0m\u001b[0;30m\u0000\u001b[0m\u001b[0;30m\u0000\u001b[0m\u001b[0;30m\u0000\u001b[0m\u001b[0;30m\u0000\u001b[0m\u001b[0;30m\u0000\u001b[0m\u001b[0;30m\u0000\u001b[0m\u001b[0;30m\u0000\u001b[0m\u001b[0;30m\u0000\u001b[0m\u001b[0;30m\u0000\u001b[0m\u001b[0;30m\u0000\u001b[0m\u001b[0;30m\u0000\u001b[0m\u001b[0;30m\u0000\u001b[0m\u001b[0;30m\u0000\u001b[0m\u001b[0;30m\u0000\u001b[0m\u001b[0;30m\u0000\u001b[0m\u001b[0;30m\u0000\u001b[0m\u001b[0;30m\u0000\u001b[0m\n",
      "\u001b[0;30m\u0000\u001b[0m\u001b[0;30m\u0000\u001b[0m\u001b[0;30m\u0000\u001b[0m\u001b[0;30m\u0000\u001b[0m\u001b[0;30m\u0000\u001b[0m\u001b[0;30m\u0000\u001b[0m\u001b[0;30m\u0000\u001b[0m\u001b[0;30m\u0000\u001b[0m\u001b[0;30m\u0000\u001b[0m\u001b[0;30m\u0000\u001b[0m\u001b[0;30m\u0000\u001b[0m\u001b[0;30m\u0000\u001b[0m\u001b[0;30m\u0000\u001b[0m\u001b[0;30m\u0000\u001b[0m\u001b[0;30m\u0000\u001b[0m\u001b[0;30m\u0000\u001b[0m\u001b[0;30m\u0000\u001b[0m\u001b[0;30m\u0000\u001b[0m\u001b[0;30m\u0000\u001b[0m\u001b[0;30m\u0000\u001b[0m\u001b[0;30m\u0000\u001b[0m\u001b[0;30m\u0000\u001b[0m\u001b[0;30m\u0000\u001b[0m\u001b[0;30m\u0000\u001b[0m\u001b[0;30m\u0000\u001b[0m\u001b[0;30m\u0000\u001b[0m\u001b[0;30m\u0000\u001b[0m\u001b[0;30m\u0000\u001b[0m\u001b[0;30m\u0000\u001b[0m\u001b[0;30m\u0000\u001b[0m\u001b[0;30m\u0000\u001b[0m\u001b[0;30m\u0000\u001b[0m\u001b[0;30m\u0000\u001b[0m\u001b[0;30m\u0000\u001b[0m\u001b[0;30m\u0000\u001b[0m\u001b[0;30m\u0000\u001b[0m\u001b[0;30m\u0000\u001b[0m\u001b[0;30m\u0000\u001b[0m\u001b[0;30m\u0000\u001b[0m\u001b[0;30m\u0000\u001b[0m\u001b[0;30m\u0000\u001b[0m\u001b[0;30m\u0000\u001b[0m\u001b[0;30m\u0000\u001b[0m\u001b[0;30m\u0000\u001b[0m\u001b[0;30m\u0000\u001b[0m\u001b[0;30m\u0000\u001b[0m\u001b[0;30m\u0000\u001b[0m\u001b[0;30m\u0000\u001b[0m\u001b[0;30m\u0000\u001b[0m\u001b[0;30m\u0000\u001b[0m\u001b[0;30m\u0000\u001b[0m\u001b[0;30m\u0000\u001b[0m\u001b[0;30m\u0000\u001b[0m\u001b[0;30m\u0000\u001b[0m\u001b[0;30m\u0000\u001b[0m\u001b[0;30m\u0000\u001b[0m\u001b[0;30m\u0000\u001b[0m\u001b[0;30m\u0000\u001b[0m\u001b[0;30m\u0000\u001b[0m\u001b[0;30m\u0000\u001b[0m\u001b[0;30m\u0000\u001b[0m\u001b[0;30m\u0000\u001b[0m\u001b[0;30m\u0000\u001b[0m\u001b[0;30m\u0000\u001b[0m\u001b[0;30m\u0000\u001b[0m\u001b[0;30m\u0000\u001b[0m\u001b[0;30m\u0000\u001b[0m\u001b[0;30m\u0000\u001b[0m\u001b[0;30m\u0000\u001b[0m\u001b[0;30m\u0000\u001b[0m\u001b[0;30m\u0000\u001b[0m\u001b[0;30m\u0000\u001b[0m\u001b[0;30m\u0000\u001b[0m\u001b[0;30m\u0000\u001b[0m\u001b[0;30m\u0000\u001b[0m\u001b[0;30m\u0000\u001b[0m\u001b[0;30m\u0000\u001b[0m\u001b[0;30m\u0000\u001b[0m\u001b[0;30m\u0000\u001b[0m\n",
      "\u001b[0;30m\u0000\u001b[0m\u001b[0;30m\u0000\u001b[0m\u001b[0;30m\u0000\u001b[0m\u001b[0;30m\u0000\u001b[0m\u001b[0;30m\u0000\u001b[0m\u001b[0;30m\u0000\u001b[0m\u001b[0;30m\u0000\u001b[0m\u001b[0;30m\u0000\u001b[0m\u001b[0;30m\u0000\u001b[0m\u001b[0;30m\u0000\u001b[0m\u001b[0;30m\u0000\u001b[0m\u001b[0;30m\u0000\u001b[0m\u001b[0;30m\u0000\u001b[0m\u001b[0;30m\u0000\u001b[0m\u001b[0;30m\u0000\u001b[0m\u001b[0;30m\u0000\u001b[0m\u001b[0;30m\u0000\u001b[0m\u001b[0;30m\u0000\u001b[0m\u001b[0;30m\u0000\u001b[0m\u001b[0;30m\u0000\u001b[0m\u001b[0;30m\u0000\u001b[0m\u001b[0;30m\u0000\u001b[0m\u001b[0;30m\u0000\u001b[0m\u001b[0;30m\u0000\u001b[0m\u001b[0;30m\u0000\u001b[0m\u001b[0;30m\u0000\u001b[0m\u001b[0;30m\u0000\u001b[0m\u001b[0;30m\u0000\u001b[0m\u001b[0;30m\u0000\u001b[0m\u001b[0;30m\u0000\u001b[0m\u001b[0;30m\u0000\u001b[0m\u001b[0;30m\u0000\u001b[0m\u001b[0;30m\u0000\u001b[0m\u001b[0;30m\u0000\u001b[0m\u001b[0;30m\u0000\u001b[0m\u001b[0;30m\u0000\u001b[0m\u001b[0;30m\u0000\u001b[0m\u001b[0;30m\u0000\u001b[0m\u001b[0;30m\u0000\u001b[0m\u001b[0;30m\u0000\u001b[0m\u001b[0;30m\u0000\u001b[0m\u001b[0;30m\u0000\u001b[0m\u001b[0;30m\u0000\u001b[0m\u001b[0;30m\u0000\u001b[0m\u001b[0;30m\u0000\u001b[0m\u001b[0;30m\u0000\u001b[0m\u001b[0;30m\u0000\u001b[0m\u001b[0;30m\u0000\u001b[0m\u001b[0;30m\u0000\u001b[0m\u001b[0;30m\u0000\u001b[0m\u001b[0;30m\u0000\u001b[0m\u001b[0;30m\u0000\u001b[0m\u001b[0;30m\u0000\u001b[0m\u001b[0;30m\u0000\u001b[0m\u001b[0;30m\u0000\u001b[0m\u001b[0;30m\u0000\u001b[0m\u001b[0;30m\u0000\u001b[0m\u001b[0;30m\u0000\u001b[0m\u001b[0;30m\u0000\u001b[0m\u001b[0;30m\u0000\u001b[0m\u001b[0;30m\u0000\u001b[0m\u001b[0;30m\u0000\u001b[0m\u001b[0;30m\u0000\u001b[0m\u001b[0;30m\u0000\u001b[0m\u001b[0;30m\u0000\u001b[0m\u001b[0;30m\u0000\u001b[0m\u001b[0;30m\u0000\u001b[0m\u001b[0;30m\u0000\u001b[0m\u001b[0;30m\u0000\u001b[0m\u001b[0;30m\u0000\u001b[0m\u001b[0;30m\u0000\u001b[0m\u001b[0;30m\u0000\u001b[0m\u001b[0;30m\u0000\u001b[0m\u001b[0;30m\u0000\u001b[0m\u001b[0;30m\u0000\u001b[0m\u001b[0;30m\u0000\u001b[0m\u001b[0;30m\u0000\u001b[0m\u001b[0;30m\u0000\u001b[0m\u001b[0;30m\u0000\u001b[0m\n",
      "\u001b[0;30m\u0000\u001b[0m\u001b[0;30m\u0000\u001b[0m\u001b[0;30m\u0000\u001b[0m\u001b[0;30m\u0000\u001b[0m\u001b[0;30m\u0000\u001b[0m\u001b[0;30m\u0000\u001b[0m\u001b[0;30m\u0000\u001b[0m\u001b[0;30m\u0000\u001b[0m\u001b[0;30m\u0000\u001b[0m\u001b[0;30m\u0000\u001b[0m\u001b[0;30m\u0000\u001b[0m\u001b[0;30m\u0000\u001b[0m\u001b[0;30m\u0000\u001b[0m\u001b[0;30m\u0000\u001b[0m\u001b[0;30m\u0000\u001b[0m\u001b[0;30m\u0000\u001b[0m\u001b[0;30m\u0000\u001b[0m\u001b[0;30m\u0000\u001b[0m\u001b[0;30m\u0000\u001b[0m\u001b[0;30m\u0000\u001b[0m\u001b[0;30m\u0000\u001b[0m\u001b[0;30m\u0000\u001b[0m\u001b[0;30m\u0000\u001b[0m\u001b[0;30m\u0000\u001b[0m\u001b[0;30m\u0000\u001b[0m\u001b[0;30m\u0000\u001b[0m\u001b[0;30m\u0000\u001b[0m\u001b[0;30m\u0000\u001b[0m\u001b[0;30m\u0000\u001b[0m\u001b[0;30m\u0000\u001b[0m\u001b[0;30m\u0000\u001b[0m\u001b[0;30m\u0000\u001b[0m\u001b[0;30m\u0000\u001b[0m\u001b[0;30m\u0000\u001b[0m\u001b[0;30m\u0000\u001b[0m\u001b[0;30m\u0000\u001b[0m\u001b[0;30m\u0000\u001b[0m\u001b[0;30m\u0000\u001b[0m\u001b[0;30m\u0000\u001b[0m\u001b[0;30m\u0000\u001b[0m\u001b[0;30m\u0000\u001b[0m\u001b[0;30m\u0000\u001b[0m\u001b[0;30m\u0000\u001b[0m\u001b[0;30m\u0000\u001b[0m\u001b[0;30m\u0000\u001b[0m\u001b[0;30m\u0000\u001b[0m\u001b[0;30m\u0000\u001b[0m\u001b[0;30m\u0000\u001b[0m\u001b[0;30m\u0000\u001b[0m\u001b[0;30m\u0000\u001b[0m\u001b[0;30m\u0000\u001b[0m\u001b[0;30m\u0000\u001b[0m\u001b[0;30m\u0000\u001b[0m\u001b[0;30m\u0000\u001b[0m\u001b[0;30m\u0000\u001b[0m\u001b[0;30m\u0000\u001b[0m\u001b[0;30m\u0000\u001b[0m\u001b[0;30m\u0000\u001b[0m\u001b[0;30m\u0000\u001b[0m\u001b[0;30m\u0000\u001b[0m\u001b[0;30m\u0000\u001b[0m\u001b[0;30m\u0000\u001b[0m\u001b[0;30m\u0000\u001b[0m\u001b[0;30m\u0000\u001b[0m\u001b[0;30m\u0000\u001b[0m\u001b[0;30m\u0000\u001b[0m\u001b[0;30m\u0000\u001b[0m\u001b[0;30m\u0000\u001b[0m\u001b[0;30m\u0000\u001b[0m\u001b[0;30m\u0000\u001b[0m\u001b[0;30m\u0000\u001b[0m\u001b[0;30m\u0000\u001b[0m\u001b[0;30m\u0000\u001b[0m\u001b[0;30m\u0000\u001b[0m\u001b[0;30m\u0000\u001b[0m\u001b[0;30m\u0000\u001b[0m\u001b[0;30m\u0000\u001b[0m\u001b[0;30m\u0000\u001b[0m\u001b[0;30m\u0000\u001b[0m\n",
      "\u001b[0;30m\u0000\u001b[0m\u001b[0;30m\u0000\u001b[0m\u001b[0;30m\u0000\u001b[0m\u001b[0;30m\u0000\u001b[0m\u001b[0;30m\u0000\u001b[0m\u001b[0;30m\u0000\u001b[0m\u001b[0;30m\u0000\u001b[0m\u001b[0;30m\u0000\u001b[0m\u001b[0;30m\u0000\u001b[0m\u001b[0;30m\u0000\u001b[0m\u001b[0;30m\u0000\u001b[0m\u001b[0;30m\u0000\u001b[0m\u001b[0;30m\u0000\u001b[0m\u001b[0;30m\u0000\u001b[0m\u001b[0;30m\u0000\u001b[0m\u001b[0;30m\u0000\u001b[0m\u001b[0;30m\u0000\u001b[0m\u001b[0;30m\u0000\u001b[0m\u001b[0;30m\u0000\u001b[0m\u001b[0;30m\u0000\u001b[0m\u001b[0;30m\u0000\u001b[0m\u001b[0;30m\u0000\u001b[0m\u001b[0;30m\u0000\u001b[0m\u001b[0;30m\u0000\u001b[0m\u001b[0;30m\u0000\u001b[0m\u001b[0;30m\u0000\u001b[0m\u001b[0;30m\u0000\u001b[0m\u001b[0;30m\u0000\u001b[0m\u001b[0;30m\u0000\u001b[0m\u001b[0;30m\u0000\u001b[0m\u001b[0;30m\u0000\u001b[0m\u001b[0;30m\u0000\u001b[0m\u001b[0;30m\u0000\u001b[0m\u001b[0;30m\u0000\u001b[0m\u001b[0;30m\u0000\u001b[0m\u001b[0;30m\u0000\u001b[0m\u001b[0;30m\u0000\u001b[0m\u001b[0;30m\u0000\u001b[0m\u001b[0;30m\u0000\u001b[0m\u001b[0;30m\u0000\u001b[0m\u001b[0;30m\u0000\u001b[0m\u001b[0;30m\u0000\u001b[0m\u001b[0;30m\u0000\u001b[0m\u001b[0;30m\u0000\u001b[0m\u001b[0;30m\u0000\u001b[0m\u001b[0;30m\u0000\u001b[0m\u001b[0;30m\u0000\u001b[0m\u001b[0;30m\u0000\u001b[0m\u001b[0;30m\u0000\u001b[0m\u001b[0;30m\u0000\u001b[0m\u001b[0;30m\u0000\u001b[0m\u001b[0;30m\u0000\u001b[0m\u001b[0;30m\u0000\u001b[0m\u001b[0;30m\u0000\u001b[0m\u001b[0;30m\u0000\u001b[0m\u001b[0;30m\u0000\u001b[0m\u001b[0;30m\u0000\u001b[0m\u001b[0;30m\u0000\u001b[0m\u001b[0;30m\u0000\u001b[0m\u001b[0;30m\u0000\u001b[0m\u001b[0;30m\u0000\u001b[0m\u001b[0;30m\u0000\u001b[0m\u001b[0;30m\u0000\u001b[0m\u001b[0;30m\u0000\u001b[0m\u001b[0;30m\u0000\u001b[0m\u001b[0;30m\u0000\u001b[0m\u001b[0;30m\u0000\u001b[0m\u001b[0;30m\u0000\u001b[0m\u001b[0;30m\u0000\u001b[0m\u001b[0;30m\u0000\u001b[0m\u001b[0;30m\u0000\u001b[0m\u001b[0;30m\u0000\u001b[0m\u001b[0;30m\u0000\u001b[0m\u001b[0;30m\u0000\u001b[0m\u001b[0;30m\u0000\u001b[0m\u001b[0;30m\u0000\u001b[0m\u001b[0;30m\u0000\u001b[0m\u001b[0;30m\u0000\u001b[0m\u001b[0;30m\u0000\u001b[0m\n",
      "\u001b[0;30m\u0000\u001b[0m\u001b[0;30m\u0000\u001b[0m\u001b[0;30m\u0000\u001b[0m\u001b[0;30m\u0000\u001b[0m\u001b[0;30m\u0000\u001b[0m\u001b[0;30m\u0000\u001b[0m\u001b[0;30m\u0000\u001b[0m\u001b[0;30m\u0000\u001b[0m\u001b[0;30m\u0000\u001b[0m\u001b[0;30m\u0000\u001b[0m\u001b[0;30m\u0000\u001b[0m\u001b[0;30m\u0000\u001b[0m\u001b[0;30m\u0000\u001b[0m\u001b[0;30m\u0000\u001b[0m\u001b[0;30m\u0000\u001b[0m\u001b[0;30m\u0000\u001b[0m\u001b[0;30m\u0000\u001b[0m\u001b[0;30m\u0000\u001b[0m\u001b[0;30m\u0000\u001b[0m\u001b[0;30m\u0000\u001b[0m\u001b[0;30m\u0000\u001b[0m\u001b[0;30m\u0000\u001b[0m\u001b[0;30m\u0000\u001b[0m\u001b[0;30m\u0000\u001b[0m\u001b[0;30m\u0000\u001b[0m\u001b[0;30m\u0000\u001b[0m\u001b[0;30m\u0000\u001b[0m\u001b[0;30m\u0000\u001b[0m\u001b[0;30m\u0000\u001b[0m\u001b[0;30m\u0000\u001b[0m\u001b[0;30m\u0000\u001b[0m\u001b[0;30m\u0000\u001b[0m\u001b[0;30m\u0000\u001b[0m\u001b[0;30m\u0000\u001b[0m\u001b[0;30m\u0000\u001b[0m\u001b[0;30m\u0000\u001b[0m\u001b[0;30m\u0000\u001b[0m\u001b[0;30m\u0000\u001b[0m\u001b[0;30m\u0000\u001b[0m\u001b[0;30m\u0000\u001b[0m\u001b[0;30m\u0000\u001b[0m\u001b[0;30m\u0000\u001b[0m\u001b[0;30m\u0000\u001b[0m\u001b[0;30m\u0000\u001b[0m\u001b[0;30m\u0000\u001b[0m\u001b[0;30m\u0000\u001b[0m\u001b[0;30m\u0000\u001b[0m\u001b[0;30m\u0000\u001b[0m\u001b[0;30m\u0000\u001b[0m\u001b[0;30m\u0000\u001b[0m\u001b[0;30m\u0000\u001b[0m\u001b[0;30m\u0000\u001b[0m\u001b[0;30m\u0000\u001b[0m\u001b[0;30m\u0000\u001b[0m\u001b[0;30m\u0000\u001b[0m\u001b[0;30m\u0000\u001b[0m\u001b[0;30m\u0000\u001b[0m\u001b[0;30m\u0000\u001b[0m\u001b[0;30m\u0000\u001b[0m\u001b[0;30m\u0000\u001b[0m\u001b[0;30m\u0000\u001b[0m\u001b[0;30m\u0000\u001b[0m\u001b[0;30m\u0000\u001b[0m\u001b[0;30m\u0000\u001b[0m\u001b[0;30m\u0000\u001b[0m\u001b[0;30m\u0000\u001b[0m\u001b[0;30m\u0000\u001b[0m\u001b[0;30m\u0000\u001b[0m\u001b[0;30m\u0000\u001b[0m\u001b[0;30m\u0000\u001b[0m\u001b[0;30m\u0000\u001b[0m\u001b[0;30m\u0000\u001b[0m\u001b[0;30m\u0000\u001b[0m\u001b[0;30m\u0000\u001b[0m\u001b[0;30m\u0000\u001b[0m\u001b[0;30m\u0000\u001b[0m\u001b[0;30m\u0000\u001b[0m\u001b[0;30m\u0000\u001b[0m\u001b[0;30m\u0000\u001b[0m\n",
      "\u001b[0;30m\u0000\u001b[0m\u001b[0;30m\u0000\u001b[0m\u001b[0;30m\u0000\u001b[0m\u001b[0;30m\u0000\u001b[0m\u001b[0;30m\u0000\u001b[0m\u001b[0;30m\u0000\u001b[0m\u001b[0;30m\u0000\u001b[0m\u001b[0;30m\u0000\u001b[0m\u001b[0;30m\u0000\u001b[0m\u001b[0;30m\u0000\u001b[0m\u001b[0;30m\u0000\u001b[0m\u001b[0;30m\u0000\u001b[0m\u001b[0;30m\u0000\u001b[0m\u001b[0;30m\u0000\u001b[0m\u001b[0;30m\u0000\u001b[0m\u001b[0;30m\u0000\u001b[0m\u001b[0;30m\u0000\u001b[0m\u001b[0;30m\u0000\u001b[0m\u001b[0;30m\u0000\u001b[0m\u001b[0;30m\u0000\u001b[0m\u001b[0;30m\u0000\u001b[0m\u001b[0;30m\u0000\u001b[0m\u001b[0;30m\u0000\u001b[0m\u001b[0;30m\u0000\u001b[0m\u001b[0;30m\u0000\u001b[0m\u001b[0;30m\u0000\u001b[0m\u001b[0;30m\u0000\u001b[0m\u001b[0;30m\u0000\u001b[0m\u001b[0;30m\u0000\u001b[0m\u001b[0;30m\u0000\u001b[0m\u001b[0;30m\u0000\u001b[0m\u001b[0;30m\u0000\u001b[0m\u001b[0;30m\u0000\u001b[0m\u001b[0;30m\u0000\u001b[0m\u001b[0;30m\u0000\u001b[0m\u001b[0;30m\u0000\u001b[0m\u001b[0;30m\u0000\u001b[0m\u001b[0;30m\u0000\u001b[0m\u001b[0;30m\u0000\u001b[0m\u001b[0;30m\u0000\u001b[0m\u001b[0;30m\u0000\u001b[0m\u001b[0;30m\u0000\u001b[0m\u001b[0;30m\u0000\u001b[0m\u001b[0;30m\u0000\u001b[0m\u001b[0;30m\u0000\u001b[0m\u001b[0;30m\u0000\u001b[0m\u001b[0;30m\u0000\u001b[0m\u001b[0;30m\u0000\u001b[0m\u001b[0;30m\u0000\u001b[0m\u001b[0;30m\u0000\u001b[0m\u001b[0;30m\u0000\u001b[0m\u001b[0;30m\u0000\u001b[0m\u001b[0;30m\u0000\u001b[0m\u001b[0;30m\u0000\u001b[0m\u001b[0;30m\u0000\u001b[0m\u001b[0;30m\u0000\u001b[0m\u001b[0;30m\u0000\u001b[0m\u001b[0;30m\u0000\u001b[0m\u001b[0;30m\u0000\u001b[0m\u001b[0;30m\u0000\u001b[0m\u001b[0;30m\u0000\u001b[0m\u001b[0;30m\u0000\u001b[0m\u001b[0;30m\u0000\u001b[0m\u001b[0;30m\u0000\u001b[0m\u001b[0;30m\u0000\u001b[0m\u001b[0;30m\u0000\u001b[0m\u001b[0;30m\u0000\u001b[0m\u001b[0;30m\u0000\u001b[0m\u001b[0;30m\u0000\u001b[0m\u001b[0;30m\u0000\u001b[0m\u001b[0;30m\u0000\u001b[0m\u001b[0;30m\u0000\u001b[0m\u001b[0;30m\u0000\u001b[0m\u001b[0;30m\u0000\u001b[0m\u001b[0;30m\u0000\u001b[0m\u001b[0;30m\u0000\u001b[0m\u001b[0;30m\u0000\u001b[0m\u001b[0;30m\u0000\u001b[0m\u001b[0;30m\u0000\u001b[0m\n",
      "\u001b[0;30m\u0000\u001b[0m\u001b[0;30m\u0000\u001b[0m\u001b[0;30m\u0000\u001b[0m\u001b[0;30m\u0000\u001b[0m\u001b[0;30m\u0000\u001b[0m\u001b[0;30m\u0000\u001b[0m\u001b[0;30m\u0000\u001b[0m\u001b[0;30m\u0000\u001b[0m\u001b[0;30m\u0000\u001b[0m\u001b[0;30m\u0000\u001b[0m\u001b[0;30m\u0000\u001b[0m\u001b[0;30m\u0000\u001b[0m\u001b[0;30m\u0000\u001b[0m\u001b[0;30m\u0000\u001b[0m\u001b[0;30m\u0000\u001b[0m\u001b[0;30m\u0000\u001b[0m\u001b[0;30m\u0000\u001b[0m\u001b[0;30m\u0000\u001b[0m\u001b[0;30m\u0000\u001b[0m\u001b[0;30m\u0000\u001b[0m\u001b[0;30m\u0000\u001b[0m\u001b[0;30m\u0000\u001b[0m\u001b[0;30m\u0000\u001b[0m\u001b[0;30m\u0000\u001b[0m\u001b[0;30m\u0000\u001b[0m\u001b[0;30m\u0000\u001b[0m\u001b[0;30m\u0000\u001b[0m\u001b[0;30m\u0000\u001b[0m\u001b[0;30m\u0000\u001b[0m\u001b[0;30m\u0000\u001b[0m\u001b[0;30m\u0000\u001b[0m\u001b[0;30m\u0000\u001b[0m\u001b[0;30m\u0000\u001b[0m\u001b[0;30m\u0000\u001b[0m\u001b[0;30m\u0000\u001b[0m\u001b[0;30m\u0000\u001b[0m\u001b[0;30m\u0000\u001b[0m\u001b[0;30m\u0000\u001b[0m\u001b[0;30m\u0000\u001b[0m\u001b[0;30m\u0000\u001b[0m\u001b[0;30m\u0000\u001b[0m\u001b[0;30m\u0000\u001b[0m\u001b[0;30m\u0000\u001b[0m\u001b[0;30m\u0000\u001b[0m\u001b[0;30m\u0000\u001b[0m\u001b[0;30m\u0000\u001b[0m\u001b[0;30m\u0000\u001b[0m\u001b[0;30m\u0000\u001b[0m\u001b[0;30m\u0000\u001b[0m\u001b[0;30m\u0000\u001b[0m\u001b[0;30m\u0000\u001b[0m\u001b[0;30m\u0000\u001b[0m\u001b[0;30m\u0000\u001b[0m\u001b[0;30m\u0000\u001b[0m\u001b[0;30m\u0000\u001b[0m\u001b[0;30m\u0000\u001b[0m\u001b[0;30m\u0000\u001b[0m\u001b[0;30m\u0000\u001b[0m\u001b[0;30m\u0000\u001b[0m\u001b[0;30m\u0000\u001b[0m\u001b[0;30m\u0000\u001b[0m\u001b[0;30m\u0000\u001b[0m\u001b[0;30m\u0000\u001b[0m\u001b[0;30m\u0000\u001b[0m\u001b[0;30m\u0000\u001b[0m\u001b[0;30m\u0000\u001b[0m\u001b[0;30m\u0000\u001b[0m\u001b[0;30m\u0000\u001b[0m\u001b[0;30m\u0000\u001b[0m\u001b[0;30m\u0000\u001b[0m\u001b[0;30m\u0000\u001b[0m\u001b[0;30m\u0000\u001b[0m\u001b[0;30m\u0000\u001b[0m\u001b[0;30m\u0000\u001b[0m\u001b[0;30m\u0000\u001b[0m\u001b[0;30m\u0000\u001b[0m\u001b[0;30m\u0000\u001b[0m\u001b[0;30m\u0000\u001b[0m\u001b[0;30m\u0000\u001b[0m\n",
      "\u001b[0;30m\u0000\u001b[0m\u001b[0;30m\u0000\u001b[0m\u001b[0;30m\u0000\u001b[0m\u001b[0;30m\u0000\u001b[0m\u001b[0;30m\u0000\u001b[0m\u001b[0;30m\u0000\u001b[0m\u001b[0;30m\u0000\u001b[0m\u001b[0;30m\u0000\u001b[0m\u001b[0;30m\u0000\u001b[0m\u001b[0;30m\u0000\u001b[0m\u001b[0;30m\u0000\u001b[0m\u001b[0;30m\u0000\u001b[0m\u001b[0;30m\u0000\u001b[0m\u001b[0;30m\u0000\u001b[0m\u001b[0;30m\u0000\u001b[0m\u001b[0;30m\u0000\u001b[0m\u001b[0;30m\u0000\u001b[0m\u001b[0;30m\u0000\u001b[0m\u001b[0;30m\u0000\u001b[0m\u001b[0;30m\u0000\u001b[0m\u001b[0;30m\u0000\u001b[0m\u001b[0;30m\u0000\u001b[0m\u001b[0;30m\u0000\u001b[0m\u001b[0;30m\u0000\u001b[0m\u001b[0;30m\u0000\u001b[0m\u001b[0;30m\u0000\u001b[0m\u001b[0;30m\u0000\u001b[0m\u001b[0;30m\u0000\u001b[0m\u001b[0;30m\u0000\u001b[0m\u001b[0;30m\u0000\u001b[0m\u001b[0;30m\u0000\u001b[0m\u001b[0;30m\u0000\u001b[0m\u001b[0;30m\u0000\u001b[0m\u001b[0;30m\u0000\u001b[0m\u001b[0;30m\u0000\u001b[0m\u001b[0;30m\u0000\u001b[0m\u001b[0;30m\u0000\u001b[0m\u001b[0;30m\u0000\u001b[0m\u001b[0;30m\u0000\u001b[0m\u001b[0;30m\u0000\u001b[0m\u001b[0;30m\u0000\u001b[0m\u001b[0;30m\u0000\u001b[0m\u001b[0;30m\u0000\u001b[0m\u001b[0;30m\u0000\u001b[0m\u001b[0;30m\u0000\u001b[0m\u001b[0;30m\u0000\u001b[0m\u001b[0;30m\u0000\u001b[0m\u001b[0;30m\u0000\u001b[0m\u001b[0;30m\u0000\u001b[0m\u001b[0;30m\u0000\u001b[0m\u001b[0;30m\u0000\u001b[0m\u001b[0;30m\u0000\u001b[0m\u001b[0;30m\u0000\u001b[0m\u001b[0;30m\u0000\u001b[0m\u001b[0;30m\u0000\u001b[0m\u001b[0;30m\u0000\u001b[0m\u001b[0;30m\u0000\u001b[0m\u001b[0;30m\u0000\u001b[0m\u001b[0;30m\u0000\u001b[0m\u001b[0;30m\u0000\u001b[0m\u001b[0;30m\u0000\u001b[0m\u001b[0;30m\u0000\u001b[0m\u001b[0;30m\u0000\u001b[0m\u001b[0;30m\u0000\u001b[0m\u001b[0;30m\u0000\u001b[0m\u001b[0;30m\u0000\u001b[0m\u001b[0;30m\u0000\u001b[0m\u001b[0;30m\u0000\u001b[0m\u001b[0;30m\u0000\u001b[0m\u001b[0;30m\u0000\u001b[0m\u001b[0;30m\u0000\u001b[0m\u001b[0;30m\u0000\u001b[0m\u001b[0;30m\u0000\u001b[0m\u001b[0;30m\u0000\u001b[0m\u001b[0;30m\u0000\u001b[0m\u001b[0;30m\u0000\u001b[0m\u001b[0;30m\u0000\u001b[0m\u001b[0;30m\u0000\u001b[0m\u001b[0;30m\u0000\u001b[0m\n",
      "\u001b[0;30m\u0000\u001b[0m\u001b[0;30m\u0000\u001b[0m\u001b[0;30m\u0000\u001b[0m\u001b[0;30m\u0000\u001b[0m\u001b[0;30m\u0000\u001b[0m\u001b[0;30m\u0000\u001b[0m\u001b[0;30m\u0000\u001b[0m\u001b[0;30m\u0000\u001b[0m\u001b[0;30m\u0000\u001b[0m\u001b[0;30m\u0000\u001b[0m\u001b[0;30m\u0000\u001b[0m\u001b[0;30m\u0000\u001b[0m\u001b[0;30m\u0000\u001b[0m\u001b[0;30m\u0000\u001b[0m\u001b[0;30m\u0000\u001b[0m\u001b[0;30m\u0000\u001b[0m\u001b[0;30m\u0000\u001b[0m\u001b[0;30m\u0000\u001b[0m\u001b[0;30m\u0000\u001b[0m\u001b[0;30m\u0000\u001b[0m\u001b[0;30m\u0000\u001b[0m\u001b[0;30m\u0000\u001b[0m\u001b[0;30m\u0000\u001b[0m\u001b[0;30m\u0000\u001b[0m\u001b[0;30m\u0000\u001b[0m\u001b[0;30m\u0000\u001b[0m\u001b[0;30m\u0000\u001b[0m\u001b[0;30m\u0000\u001b[0m\u001b[0;30m\u0000\u001b[0m\u001b[0;30m\u0000\u001b[0m\u001b[0;30m\u0000\u001b[0m\u001b[0;30m\u0000\u001b[0m\u001b[0;30m\u0000\u001b[0m\u001b[0;30m\u0000\u001b[0m\u001b[0;30m\u0000\u001b[0m\u001b[0;30m\u0000\u001b[0m\u001b[0;30m\u0000\u001b[0m\u001b[0;30m\u0000\u001b[0m\u001b[0;30m\u0000\u001b[0m\u001b[0;30m\u0000\u001b[0m\u001b[0;30m\u0000\u001b[0m\u001b[0;30m\u0000\u001b[0m\u001b[0;30m\u0000\u001b[0m\u001b[0;30m\u0000\u001b[0m\u001b[0;30m\u0000\u001b[0m\u001b[0;30m\u0000\u001b[0m\u001b[0;30m\u0000\u001b[0m\u001b[0;30m\u0000\u001b[0m\u001b[0;30m\u0000\u001b[0m\u001b[0;30m\u0000\u001b[0m\u001b[0;30m\u0000\u001b[0m\u001b[0;30m\u0000\u001b[0m\u001b[0;30m\u0000\u001b[0m\u001b[0;30m\u0000\u001b[0m\u001b[0;30m\u0000\u001b[0m\u001b[0;30m\u0000\u001b[0m\u001b[0;30m\u0000\u001b[0m\u001b[0;30m\u0000\u001b[0m\u001b[0;30m\u0000\u001b[0m\u001b[0;30m\u0000\u001b[0m\u001b[0;30m\u0000\u001b[0m\u001b[0;30m\u0000\u001b[0m\u001b[0;30m\u0000\u001b[0m\u001b[0;30m\u0000\u001b[0m\u001b[0;30m\u0000\u001b[0m\u001b[0;30m\u0000\u001b[0m\u001b[0;30m\u0000\u001b[0m\u001b[0;30m\u0000\u001b[0m\u001b[0;30m\u0000\u001b[0m\u001b[0;30m\u0000\u001b[0m\u001b[0;30m\u0000\u001b[0m\u001b[0;30m\u0000\u001b[0m\u001b[0;30m\u0000\u001b[0m\u001b[0;30m\u0000\u001b[0m\u001b[0;30m\u0000\u001b[0m\u001b[0;30m\u0000\u001b[0m\u001b[0;30m\u0000\u001b[0m\u001b[0;30m\u0000\u001b[0m\u001b[0;30m\u0000\u001b[0m\n"
     ]
    }
   ],
   "source": [
    "agent.env.render()"
   ]
  },
  {
   "cell_type": "code",
   "execution_count": 724,
   "metadata": {},
   "outputs": [
    {
     "ename": "TypeError",
     "evalue": "StepEnvironment() missing 1 required positional argument: 'state'",
     "output_type": "error",
     "traceback": [
      "\u001b[0;31m---------------------------------------------------------------------------\u001b[0m",
      "\u001b[0;31mTypeError\u001b[0m                                 Traceback (most recent call last)",
      "\u001b[0;32m<ipython-input-724-8e978cf7b9a4>\u001b[0m in \u001b[0;36m<module>\u001b[0;34m\u001b[0m\n\u001b[0;32m----> 1\u001b[0;31m \u001b[0ms\u001b[0m\u001b[0;34m,\u001b[0m\u001b[0mr\u001b[0m\u001b[0;34m,\u001b[0m\u001b[0md\u001b[0m \u001b[0;34m=\u001b[0m \u001b[0magent\u001b[0m\u001b[0;34m.\u001b[0m\u001b[0mStepEnvironment\u001b[0m\u001b[0;34m(\u001b[0m\u001b[0;34m)\u001b[0m\u001b[0;34m\u001b[0m\u001b[0;34m\u001b[0m\u001b[0m\n\u001b[0m",
      "\u001b[0;31mTypeError\u001b[0m: StepEnvironment() missing 1 required positional argument: 'state'"
     ]
    }
   ],
   "source": [
    "s,r,d = agent.StepEnvironment()"
   ]
  },
  {
   "cell_type": "code",
   "execution_count": 670,
   "metadata": {},
   "outputs": [
    {
     "ename": "ValueError",
     "evalue": "operands could not be broadcast together with shapes (9,) (0,) ",
     "output_type": "error",
     "traceback": [
      "\u001b[0;31m---------------------------------------------------------------------------\u001b[0m",
      "\u001b[0;31mValueError\u001b[0m                                Traceback (most recent call last)",
      "\u001b[0;32m<ipython-input-670-32f697e8a938>\u001b[0m in \u001b[0;36m<module>\u001b[0;34m\u001b[0m\n\u001b[1;32m      1\u001b[0m \u001b[0mlatest_state\u001b[0m \u001b[0;34m=\u001b[0m \u001b[0magent\u001b[0m\u001b[0;34m.\u001b[0m\u001b[0mStepEnvironment\u001b[0m\u001b[0;34m(\u001b[0m\u001b[0;36m3888\u001b[0m\u001b[0;34m)\u001b[0m\u001b[0;34m\u001b[0m\u001b[0;34m\u001b[0m\u001b[0m\n\u001b[0;32m----> 2\u001b[0;31m \u001b[0mpossible_moves\u001b[0m\u001b[0;34m,\u001b[0m\u001b[0mdescend\u001b[0m \u001b[0;34m=\u001b[0m \u001b[0magent\u001b[0m\u001b[0;34m.\u001b[0m\u001b[0mgetLegalMoves\u001b[0m\u001b[0;34m(\u001b[0m\u001b[0mlatest_state\u001b[0m\u001b[0;34m)\u001b[0m\u001b[0;34m\u001b[0m\u001b[0;34m\u001b[0m\u001b[0m\n\u001b[0m",
      "\u001b[0;32m~/Documents/Reinforcement_Learning/Assignment/nle-agents/src/agent1/MyAgent.py\u001b[0m in \u001b[0;36mgetLegalMoves\u001b[0;34m(self, state)\u001b[0m\n\u001b[1;32m    283\u001b[0m         \u001b[0mlegals\u001b[0m \u001b[0;34m=\u001b[0m \u001b[0mnp\u001b[0m\u001b[0;34m.\u001b[0m\u001b[0mones\u001b[0m\u001b[0;34m(\u001b[0m\u001b[0mlen\u001b[0m\u001b[0;34m(\u001b[0m\u001b[0mlegals\u001b[0m\u001b[0;34m)\u001b[0m\u001b[0;34m,\u001b[0m\u001b[0mdtype\u001b[0m\u001b[0;34m=\u001b[0m\u001b[0mnp\u001b[0m\u001b[0;34m.\u001b[0m\u001b[0mint8\u001b[0m\u001b[0;34m)\u001b[0m \u001b[0;34m-\u001b[0m \u001b[0mlegals\u001b[0m\u001b[0;34m\u001b[0m\u001b[0;34m\u001b[0m\u001b[0m\n\u001b[1;32m    284\u001b[0m         \u001b[0mclose_move\u001b[0m \u001b[0;34m=\u001b[0m \u001b[0;34m[\u001b[0m\u001b[0;36m8\u001b[0m\u001b[0;34m,\u001b[0m\u001b[0;36m1\u001b[0m\u001b[0;34m,\u001b[0m\u001b[0;36m5\u001b[0m\u001b[0;34m,\u001b[0m\u001b[0;36m4\u001b[0m\u001b[0;34m,\u001b[0m\u001b[0;36m19\u001b[0m\u001b[0;34m,\u001b[0m\u001b[0;36m2\u001b[0m\u001b[0;34m,\u001b[0m\u001b[0;36m7\u001b[0m\u001b[0;34m,\u001b[0m\u001b[0;36m3\u001b[0m\u001b[0;34m,\u001b[0m\u001b[0;36m6\u001b[0m\u001b[0;34m]\u001b[0m \u001b[0;31m#first eight positions\u001b[0m\u001b[0;34m\u001b[0m\u001b[0;34m\u001b[0m\u001b[0m\n\u001b[0;32m--> 285\u001b[0;31m         \u001b[0mlegal_close\u001b[0m \u001b[0;34m=\u001b[0m \u001b[0mnp\u001b[0m\u001b[0;34m.\u001b[0m\u001b[0munique\u001b[0m\u001b[0;34m(\u001b[0m\u001b[0mclose_move\u001b[0m\u001b[0;34m*\u001b[0m\u001b[0mlegals\u001b[0m\u001b[0;34m)\u001b[0m\u001b[0;34m[\u001b[0m\u001b[0;36m1\u001b[0m\u001b[0;34m:\u001b[0m\u001b[0;34m-\u001b[0m\u001b[0;36m1\u001b[0m\u001b[0;34m]\u001b[0m\u001b[0;34m\u001b[0m\u001b[0;34m\u001b[0m\u001b[0m\n\u001b[0m\u001b[1;32m    286\u001b[0m         \u001b[0mlong_move\u001b[0m \u001b[0;34m=\u001b[0m \u001b[0;34m[\u001b[0m\u001b[0;36m16\u001b[0m\u001b[0;34m,\u001b[0m\u001b[0;36m9\u001b[0m\u001b[0;34m,\u001b[0m\u001b[0;36m13\u001b[0m\u001b[0;34m,\u001b[0m\u001b[0;36m12\u001b[0m\u001b[0;34m,\u001b[0m\u001b[0;36m19\u001b[0m\u001b[0;34m,\u001b[0m\u001b[0;36m10\u001b[0m\u001b[0;34m,\u001b[0m\u001b[0;36m15\u001b[0m\u001b[0;34m,\u001b[0m\u001b[0;36m11\u001b[0m\u001b[0;34m,\u001b[0m\u001b[0;36m14\u001b[0m\u001b[0;34m]\u001b[0m \u001b[0;31m#long eight positions\u001b[0m\u001b[0;34m\u001b[0m\u001b[0;34m\u001b[0m\u001b[0m\n\u001b[1;32m    287\u001b[0m         \u001b[0mlegal_long\u001b[0m \u001b[0;34m=\u001b[0m \u001b[0mnp\u001b[0m\u001b[0;34m.\u001b[0m\u001b[0munique\u001b[0m\u001b[0;34m(\u001b[0m\u001b[0mlong_move\u001b[0m\u001b[0;34m*\u001b[0m\u001b[0mlegals\u001b[0m\u001b[0;34m)\u001b[0m\u001b[0;34m[\u001b[0m\u001b[0;36m1\u001b[0m\u001b[0;34m:\u001b[0m\u001b[0;34m-\u001b[0m\u001b[0;36m1\u001b[0m\u001b[0;34m]\u001b[0m\u001b[0;34m\u001b[0m\u001b[0;34m\u001b[0m\u001b[0m\n",
      "\u001b[0;31mValueError\u001b[0m: operands could not be broadcast together with shapes (9,) (0,) "
     ]
    }
   ],
   "source": [
    "latest_state = agent.StepEnvironment(3888)\n",
    "possible_moves,descend = agent.getLegalMoves(latest_state)"
   ]
  },
  {
   "cell_type": "code",
   "execution_count": 532,
   "metadata": {},
   "outputs": [],
   "source": [
    "# import time\n",
    "# start = time.time()\n",
    "\n",
    "# action = agent.act(None)\n",
    "# # \n",
    "# done = time.time()\n",
    "# elapsed = done - start\n",
    "# print(elapsed)\n",
    "# print(action)"
   ]
  },
  {
   "cell_type": "code",
   "execution_count": 533,
   "metadata": {},
   "outputs": [],
   "source": [
    "# agent.tree.dictionary"
   ]
  },
  {
   "cell_type": "code",
   "execution_count": 534,
   "metadata": {},
   "outputs": [],
   "source": [
    "# print(agent.tree.dictionary)"
   ]
  },
  {
   "cell_type": "code",
   "execution_count": 535,
   "metadata": {},
   "outputs": [],
   "source": [
    "# this = {0: {'parent': None, 'actions': [], 'isTerminal': False, 'children': [1, 2, 3, 4, 5, 6, 7, 8, 9, 10, 11, 12, 13, 14, 15, 16, 17, 18, 19, 20, 21, 22, 23], 'reward': 1561.3099999999974, 'visits': 100}, 1: {'parent': 0, 'actions': [1], 'isTerminal': False, 'children': [], 'reward': 0, 'visits': 1, 'is_good': False}, 2: {'parent': 0, 'actions': [14], 'isTerminal': False, 'children': [], 'reward': 3.0600000000000107, 'visits': 1, 'is_good': True}, 3: {'parent': 0, 'actions': [7], 'isTerminal': False, 'children': [], 'reward': 7.090000000000012, 'visits': 1, 'is_good': True}, 4: {'parent': 0, 'actions': [5], 'isTerminal': False, 'children': [], 'reward': 0, 'visits': 1, 'is_good': False}, 5: {'parent': 0, 'actions': [3], 'isTerminal': False, 'children': [34, 66, 67, 68, 69, 70, 71, 72, 73, 74, 75, 76, 77, 78, 79, 80, 81, 82, 83, 84, 85, 86, 87], 'reward': 877.2299999999981, 'visits': 37, 'is_good': True}, 6: {'parent': 0, 'actions': [13], 'isTerminal': False, 'children': [], 'reward': 0, 'visits': 1, 'is_good': False}, 7: {'parent': 0, 'actions': [0], 'isTerminal': False, 'children': [], 'reward': 0, 'visits': 1, 'is_good': False}, 8: {'parent': 0, 'actions': [22], 'isTerminal': False, 'children': [], 'reward': 0, 'visits': 1, 'is_good': False}, 9: {'parent': 0, 'actions': [19], 'isTerminal': False, 'children': [], 'reward': 0, 'visits': 1, 'is_good': False}, 10: {'parent': 0, 'actions': [6], 'isTerminal': False, 'children': [], 'reward': -1.300000000000001, 'visits': 1, 'is_good': True}, 11: {'parent': 0, 'actions': [10], 'isTerminal': False, 'children': [37], 'reward': 25.379999999999928, 'visits': 2, 'is_good': True}, 12: {'parent': 0, 'actions': [2], 'isTerminal': False, 'children': [24, 26, 27, 28, 29, 30, 31, 33, 36, 43, 45, 46, 47, 48, 49, 52, 53, 54, 55, 56, 59, 60, 63], 'reward': 382.37999999999977, 'visits': 25, 'is_good': True}, 13: {'parent': 0, 'actions': [20], 'isTerminal': False, 'children': [], 'reward': 0, 'visits': 1, 'is_good': False}, 14: {'parent': 0, 'actions': [17], 'isTerminal': False, 'children': [], 'reward': 0, 'visits': 1, 'is_good': False}, 15: {'parent': 0, 'actions': [21], 'isTerminal': False, 'children': [], 'reward': 0, 'visits': 1, 'is_good': False}, 16: {'parent': 0, 'actions': [9], 'isTerminal': False, 'children': [], 'reward': 0, 'visits': 1, 'is_good': False}, 17: {'parent': 0, 'actions': [4], 'isTerminal': False, 'children': [25, 38, 39, 40, 41, 44, 50, 51, 57, 61, 62, 65], 'reward': 182.0799999999999, 'visits': 13, 'is_good': True}, 18: {'parent': 0, 'actions': [8], 'isTerminal': False, 'children': [], 'reward': 0, 'visits': 1, 'is_good': False}, 19: {'parent': 0, 'actions': [11], 'isTerminal': False, 'children': [42], 'reward': 24.58999999999982, 'visits': 2, 'is_good': True}, 20: {'parent': 0, 'actions': [12], 'isTerminal': False, 'children': [32, 58], 'reward': 33.570000000000064, 'visits': 3, 'is_good': True}, 21: {'parent': 0, 'actions': [15], 'isTerminal': False, 'children': [35], 'reward': 27.229999999999908, 'visits': 2, 'is_good': True}, 22: {'parent': 0, 'actions': [16], 'isTerminal': False, 'children': [], 'reward': 0, 'visits': 1, 'is_good': False}, 23: {'parent': 0, 'actions': [18], 'isTerminal': False, 'children': [], 'reward': 0, 'visits': 1, 'is_good': False}, 24: {'parent': 12, 'actions': [2, 14], 'isTerminal': False, 'children': [], 'reward': -0.6700000000000004, 'visits': 1, 'is_good': True}, 25: {'parent': 17, 'actions': [4, 15], 'isTerminal': False, 'children': [], 'reward': -0.3000000000000001, 'visits': 1, 'is_good': True}, 26: {'parent': 12, 'actions': [2, 11], 'isTerminal': False, 'children': [], 'reward': 65.86999999999989, 'visits': 1, 'is_good': True}, 27: {'parent': 12, 'actions': [2, 3], 'isTerminal': False, 'children': [], 'reward': 66.29999999999978, 'visits': 1, 'is_good': True}, 28: {'parent': 12, 'actions': [2, 22], 'isTerminal': False, 'children': [], 'reward': 0, 'visits': 1, 'is_good': False}, 29: {'parent': 12, 'actions': [2, 7], 'isTerminal': False, 'children': [], 'reward': 52.860000000000326, 'visits': 1, 'is_good': True}, 30: {'parent': 12, 'actions': [2, 5], 'isTerminal': False, 'children': [], 'reward': 0, 'visits': 1, 'is_good': False}, 31: {'parent': 12, 'actions': [2, 19], 'isTerminal': False, 'children': [], 'reward': 0, 'visits': 1, 'is_good': False}, 32: {'parent': 20, 'actions': [12, 12], 'isTerminal': False, 'children': [], 'reward': 0, 'visits': 1, 'is_good': False}, 33: {'parent': 12, 'actions': [2, 1], 'isTerminal': False, 'children': [], 'reward': 0, 'visits': 1, 'is_good': False}, 34: {'parent': 5, 'actions': [3, 9], 'isTerminal': False, 'children': [], 'reward': 0, 'visits': 1, 'is_good': False}, 35: {'parent': 21, 'actions': [15, 7], 'isTerminal': False, 'children': [], 'reward': 0, 'visits': 1, 'is_good': False}, 36: {'parent': 12, 'actions': [2, 15], 'isTerminal': False, 'children': [], 'reward': -0.6200000000000003, 'visits': 1, 'is_good': True}, 37: {'parent': 11, 'actions': [10, 19], 'isTerminal': False, 'children': [], 'reward': 0, 'visits': 1, 'is_good': False}, 38: {'parent': 17, 'actions': [4, 2], 'isTerminal': False, 'children': [], 'reward': 26.849999999999945, 'visits': 1, 'is_good': True}, 39: {'parent': 17, 'actions': [4, 4], 'isTerminal': False, 'children': [], 'reward': 71.01000000000002, 'visits': 1, 'is_good': True}, 40: {'parent': 17, 'actions': [4, 16], 'isTerminal': False, 'children': [], 'reward': 0, 'visits': 1, 'is_good': False}, 41: {'parent': 17, 'actions': [4, 13], 'isTerminal': False, 'children': [], 'reward': 0, 'visits': 1, 'is_good': False}, 42: {'parent': 19, 'actions': [11, 21], 'isTerminal': False, 'children': [], 'reward': 0, 'visits': 1, 'is_good': False}, 43: {'parent': 12, 'actions': [2, 17], 'isTerminal': False, 'children': [], 'reward': 0, 'visits': 1, 'is_good': False}, 44: {'parent': 17, 'actions': [4, 1], 'isTerminal': False, 'children': [], 'reward': 0, 'visits': 1, 'is_good': False}, 45: {'parent': 12, 'actions': [2, 6], 'isTerminal': False, 'children': [64], 'reward': 72.69000000000004, 'visits': 2, 'is_good': True}, 46: {'parent': 12, 'actions': [2, 16], 'isTerminal': False, 'children': [], 'reward': 0, 'visits': 1, 'is_good': False}, 47: {'parent': 12, 'actions': [2, 13], 'isTerminal': False, 'children': [], 'reward': 0, 'visits': 1, 'is_good': False}, 48: {'parent': 12, 'actions': [2, 2], 'isTerminal': False, 'children': [], 'reward': 3.5800000000000063, 'visits': 1, 'is_good': True}, 49: {'parent': 12, 'actions': [2, 18], 'isTerminal': False, 'children': [], 'reward': 0, 'visits': 1, 'is_good': False}, 50: {'parent': 17, 'actions': [4, 10], 'isTerminal': False, 'children': [], 'reward': 13.730000000000043, 'visits': 1, 'is_good': True}, 51: {'parent': 17, 'actions': [4, 9], 'isTerminal': False, 'children': [], 'reward': 0, 'visits': 1, 'is_good': False}, 52: {'parent': 12, 'actions': [2, 10], 'isTerminal': False, 'children': [], 'reward': 24.920000000000005, 'visits': 1, 'is_good': True}, 53: {'parent': 12, 'actions': [2, 0], 'isTerminal': False, 'children': [], 'reward': 0, 'visits': 1, 'is_good': False}, 54: {'parent': 12, 'actions': [2, 12], 'isTerminal': False, 'children': [], 'reward': 25.14000000000003, 'visits': 1, 'is_good': True}, 55: {'parent': 12, 'actions': [2, 21], 'isTerminal': False, 'children': [], 'reward': 0, 'visits': 1, 'is_good': False}, 56: {'kickdir': 4, 'parent': 12, 'actions': [2, 20], 'isTerminal': False, 'children': [], 'reward': 0, 'visits': 1, 'is_good': False}, 57: {'parent': 17, 'actions': [4, 0], 'isTerminal': False, 'children': [], 'reward': 0, 'visits': 1, 'is_good': False}, 58: {'parent': 20, 'actions': [12, 4], 'isTerminal': False, 'children': [], 'reward': 0, 'visits': 1, 'is_good': False}, 59: {'parent': 12, 'actions': [2, 8], 'isTerminal': False, 'children': [], 'reward': 0, 'visits': 1, 'is_good': False}, 60: {'parent': 12, 'actions': [2, 4], 'isTerminal': False, 'children': [], 'reward': 1.6200000000000272, 'visits': 1, 'is_good': True}, 61: {'parent': 17, 'actions': [4, 12], 'isTerminal': False, 'children': [], 'reward': 18.599999999999987, 'visits': 1, 'is_good': True}, 62: {'parent': 17, 'actions': [4, 22], 'isTerminal': False, 'children': [], 'reward': 0, 'visits': 1, 'is_good': False}, 63: {'parent': 12, 'actions': [2, 9], 'isTerminal': False, 'children': [], 'reward': 0, 'visits': 1, 'is_good': False}, 64: {'parent': 45, 'actions': [2, 6, 2], 'isTerminal': False, 'children': [], 'reward': -0.4200000000000002, 'visits': 1, 'is_good': True}, 65: {'parent': 17, 'actions': [4, 19], 'isTerminal': False, 'children': [], 'reward': 0, 'visits': 1, 'is_good': False}, 66: {'parent': 5, 'actions': [3, 3], 'isTerminal': False, 'children': [99], 'reward': 51.74000000000008, 'visits': 2, 'is_good': True}, 67: {'kickdir': 6, 'parent': 5, 'actions': [3, 20], 'isTerminal': False, 'children': [], 'reward': 0, 'visits': 1, 'is_good': False}, 68: {'parent': 5, 'actions': [3, 21], 'isTerminal': False, 'children': [], 'reward': 0, 'visits': 1, 'is_good': False}, 69: {'parent': 5, 'actions': [3, 13], 'isTerminal': False, 'children': [], 'reward': 36.600000000000065, 'visits': 1, 'is_good': True}, 70: {'parent': 5, 'actions': [3, 2], 'isTerminal': False, 'children': [88, 93, 98], 'reward': 183.14999999999995, 'visits': 4, 'is_good': True}, 71: {'parent': 5, 'actions': [3, 19], 'isTerminal': False, 'children': [], 'reward': 0, 'visits': 1, 'is_good': False}, 72: {'parent': 5, 'actions': [3, 18], 'isTerminal': False, 'children': [], 'reward': 0, 'visits': 1, 'is_good': False}, 73: {'parent': 5, 'actions': [3, 4], 'isTerminal': False, 'children': [], 'reward': 3.6200000000000037, 'visits': 1, 'is_good': True}, 74: {'parent': 5, 'actions': [3, 22], 'isTerminal': False, 'children': [], 'reward': 0, 'visits': 1, 'is_good': False}, 75: {'parent': 5, 'actions': [3, 5], 'isTerminal': False, 'children': [], 'reward': 25.87000000000002, 'visits': 1, 'is_good': True}, 76: {'parent': 5, 'actions': [3, 7], 'isTerminal': False, 'children': [89, 91, 92, 94, 95, 96, 100], 'reward': 367.3399999999996, 'visits': 8, 'is_good': True}, 77: {'parent': 5, 'actions': [3, 16], 'isTerminal': False, 'children': [90, 97], 'reward': 116.28999999999904, 'visits': 3, 'is_good': True}, 78: {'parent': 5, 'actions': [3, 15], 'isTerminal': False, 'children': [], 'reward': 29.009999999999785, 'visits': 1, 'is_good': True}, 79: {'parent': 5, 'actions': [3, 17], 'isTerminal': False, 'children': [], 'reward': 0, 'visits': 1, 'is_good': False}, 80: {'parent': 5, 'actions': [3, 10], 'isTerminal': False, 'children': [], 'reward': -0.3200000000000001, 'visits': 1, 'is_good': True}, 81: {'parent': 5, 'actions': [3, 0], 'isTerminal': False, 'children': [], 'reward': 0, 'visits': 1, 'is_good': False}, 82: {'parent': 5, 'actions': [3, 11], 'isTerminal': False, 'children': [], 'reward': 3.280000000000012, 'visits': 1, 'is_good': True}, 83: {'parent': 5, 'actions': [3, 14], 'isTerminal': False, 'children': [], 'reward': -0.26000000000000006, 'visits': 1, 'is_good': True}, 84: {'parent': 5, 'actions': [3, 12], 'isTerminal': False, 'children': [], 'reward': 31.16999999999989, 'visits': 1, 'is_good': True}, 85: {'parent': 5, 'actions': [3, 6], 'isTerminal': False, 'children': [], 'reward': 3.6000000000000023, 'visits': 1, 'is_good': True}, 86: {'parent': 5, 'actions': [3, 8], 'isTerminal': False, 'children': [], 'reward': -1.5700000000000012, 'visits': 1, 'is_good': True}, 87: {'parent': 5, 'actions': [3, 1], 'isTerminal': False, 'children': [], 'reward': 0, 'visits': 1, 'is_good': False}, 88: {'parent': 70, 'actions': [3, 2, 22], 'isTerminal': False, 'children': [], 'reward': 0, 'visits': 1, 'is_good': False}, 89: {'parent': 76, 'actions': [3, 7, 2], 'isTerminal': False, 'children': [], 'reward': 45.33000000000001, 'visits': 1, 'is_good': True}, 90: {'parent': 77, 'actions': [3, 16, 12], 'isTerminal': False, 'children': [], 'reward': 3.0800000000000045, 'visits': 1, 'is_good': True}, 91: {'parent': 76, 'actions': [3, 7, 12], 'isTerminal': False, 'children': [], 'reward': 61.35000000000018, 'visits': 1, 'is_good': True}, 92: {'parent': 76, 'actions': [3, 7, 17], 'isTerminal': False, 'children': [], 'reward': 0, 'visits': 1, 'is_good': False}, 93: {'parent': 70, 'actions': [3, 2, 9], 'isTerminal': False, 'children': [], 'reward': 0, 'visits': 1, 'is_good': False}, 94: {'parent': 76, 'actions': [3, 7, 5], 'isTerminal': False, 'children': [], 'reward': 97.36999999999912, 'visits': 1, 'is_good': True}, 95: {'parent': 76, 'actions': [3, 7, 11], 'isTerminal': False, 'children': [], 'reward': 23.50999999999999, 'visits': 1, 'is_good': True}, 96: {'parent': 76, 'actions': [3, 7, 9], 'isTerminal': False, 'children': [], 'reward': 0, 'visits': 1, 'is_good': False}, 97: {'parent': 77, 'actions': [3, 16, 1], 'isTerminal': False, 'children': [], 'reward': 0, 'visits': 1, 'is_good': False}, 98: {'parent': 70, 'actions': [3, 2, 2], 'isTerminal': False, 'children': [], 'reward': 21.929999999999854, 'visits': 1, 'is_good': True}, 99: {'parent': 66, 'actions': [3, 3, 18], 'isTerminal': False, 'children': [], 'reward': 0, 'visits': 1, 'is_good': False}, 100: {'parent': 76, 'actions': [3, 7, 1], 'isTerminal': False, 'children': [], 'reward': 0, 'visits': 1, 'is_good': False}}"
   ]
  },
  {
   "cell_type": "code",
   "execution_count": 536,
   "metadata": {},
   "outputs": [],
   "source": [
    "# with open('myfile.txt', 'w') as f:\n",
    "#     print(mydictionary, file=f)"
   ]
  },
  {
   "cell_type": "code",
   "execution_count": 537,
   "metadata": {},
   "outputs": [],
   "source": [
    "# agent.tree.dictionary"
   ]
  },
  {
   "cell_type": "code",
   "execution_count": 538,
   "metadata": {},
   "outputs": [],
   "source": [
    "# while not doned:\n",
    "#     # pass state to agent and let agent decide action\n",
    "#     action = agent.act(None)\n",
    "#     print(action)\n",
    "#     new_state, reward, done, _ = env.step(action)\n",
    "#     episode_return += reward\n",
    "#     env.render()\n",
    "#     #wandb.log({\"Reward\": reward, \"Seed\" : seed})\n",
    "#     state = new_state\n",
    "#     #env.render()\n",
    "#     #wandb.log({\"Epsiode-Return\": episode_return, \"Seed\" : seed})\n",
    "#     count+=1\n",
    "# #     break\n",
    "#     if count %200 == 0:\n",
    "#         break\n",
    "#         #env.render()\n",
    "# #         agent.save(episode_return,directory)\n",
    "#     print(action, episode_return)"
   ]
  },
  {
   "cell_type": "code",
   "execution_count": 14,
   "metadata": {},
   "outputs": [],
   "source": [
    "with open('4diragent.txt', 'w') as f:\n",
    "    print(agent.tree.dictionary, file=f)"
   ]
  },
  {
   "cell_type": "code",
   "execution_count": 194,
   "metadata": {},
   "outputs": [
    {
     "data": {
      "text/plain": [
       "755.5454545454545"
      ]
     },
     "execution_count": 194,
     "metadata": {},
     "output_type": "execute_result"
    }
   ],
   "source": [
    "np.mean(agent.rollout_lengths)"
   ]
  },
  {
   "cell_type": "code",
   "execution_count": 634,
   "metadata": {},
   "outputs": [
    {
     "ename": "ValueError",
     "evalue": "18 is not in list",
     "output_type": "error",
     "traceback": [
      "\u001b[0;31m---------------------------------------------------------------------------\u001b[0m",
      "\u001b[0;31mValueError\u001b[0m                                Traceback (most recent call last)",
      "\u001b[0;32m<ipython-input-634-4fe29fe7f939>\u001b[0m in \u001b[0;36m<module>\u001b[0;34m\u001b[0m\n\u001b[0;32m----> 1\u001b[0;31m \u001b[0mact_set\u001b[0m \u001b[0;34m=\u001b[0m \u001b[0magent\u001b[0m\u001b[0;34m.\u001b[0m\u001b[0mactions\u001b[0m\u001b[0;34m[\u001b[0m\u001b[0;36m0\u001b[0m\u001b[0;34m:\u001b[0m\u001b[0;34m(\u001b[0m\u001b[0magent\u001b[0m\u001b[0;34m.\u001b[0m\u001b[0mactions\u001b[0m\u001b[0;34m.\u001b[0m\u001b[0mindex\u001b[0m\u001b[0;34m(\u001b[0m\u001b[0;36m18\u001b[0m\u001b[0;34m)\u001b[0m\u001b[0;34m)\u001b[0m\u001b[0;34m+\u001b[0m\u001b[0;36m1\u001b[0m\u001b[0;34m]\u001b[0m\u001b[0;34m\u001b[0m\u001b[0;34m\u001b[0m\u001b[0m\n\u001b[0m",
      "\u001b[0;31mValueError\u001b[0m: 18 is not in list"
     ]
    }
   ],
   "source": [
    "act_set = agent.actions[0:(agent.actions.index(18))+1]"
   ]
  },
  {
   "cell_type": "code",
   "execution_count": 630,
   "metadata": {},
   "outputs": [
    {
     "name": "stderr",
     "output_type": "stream",
     "text": [
      "100%|██████████| 266/266 [00:00<00:00, 7768.64it/s]\n"
     ]
    }
   ],
   "source": [
    "for i,a in enumerate(tqdm(act_set)):\n",
    "\n",
    "    action = a\n",
    "    new_state, reward, done, _ = env.step(action)\n",
    "    wandb.log({'episode_return':episode_return,\n",
    "               'reward':reward,\n",
    "               'mean_rollout_lengths':np.mean(agent.rollout_lengths),\n",
    "               'mean_rollout_rewards':np.mean(agent.rollout_rewards),\n",
    "               'action':action,\n",
    "              })\n",
    "    episode_return += reward\n",
    "    state = new_state"
   ]
  },
  {
   "cell_type": "code",
   "execution_count": 631,
   "metadata": {},
   "outputs": [
    {
     "data": {
      "text/plain": [
       "[11,\n",
       " 4,\n",
       " 10,\n",
       " 2,\n",
       " 12,\n",
       " 2,\n",
       " 12,\n",
       " 12,\n",
       " 10,\n",
       " 2,\n",
       " 4,\n",
       " 10,\n",
       " 2,\n",
       " 12,\n",
       " 10,\n",
       " 3,\n",
       " 2,\n",
       " 2,\n",
       " 2,\n",
       " 2,\n",
       " 1,\n",
       " 1,\n",
       " 2,\n",
       " 4,\n",
       " 9,\n",
       " 9,\n",
       " 9,\n",
       " 3,\n",
       " 1,\n",
       " 2,\n",
       " 4,\n",
       " 3,\n",
       " 9,\n",
       " 1,\n",
       " 11,\n",
       " 4,\n",
       " 10,\n",
       " 2,\n",
       " 12,\n",
       " 2,\n",
       " 12,\n",
       " 2,\n",
       " 4,\n",
       " 2,\n",
       " 2,\n",
       " 1,\n",
       " 2,\n",
       " 9,\n",
       " 3,\n",
       " 9,\n",
       " 11,\n",
       " 4,\n",
       " 2,\n",
       " 4,\n",
       " 10,\n",
       " 4,\n",
       " 12,\n",
       " 3,\n",
       " 9,\n",
       " 2,\n",
       " 3,\n",
       " 12,\n",
       " 1,\n",
       " 12,\n",
       " 4,\n",
       " 4,\n",
       " 2,\n",
       " 4,\n",
       " 11,\n",
       " 9,\n",
       " 1,\n",
       " 4,\n",
       " 3,\n",
       " 4,\n",
       " 3,\n",
       " 1,\n",
       " 11,\n",
       " 10,\n",
       " 4,\n",
       " 9,\n",
       " 10,\n",
       " 4,\n",
       " 11,\n",
       " 4,\n",
       " 1,\n",
       " 3,\n",
       " 12,\n",
       " 2,\n",
       " 9,\n",
       " 1,\n",
       " 9,\n",
       " 9,\n",
       " 3,\n",
       " 11,\n",
       " 4,\n",
       " 1,\n",
       " 12,\n",
       " 10,\n",
       " 4,\n",
       " 12,\n",
       " 3,\n",
       " 11,\n",
       " 12,\n",
       " 9,\n",
       " 2,\n",
       " 4,\n",
       " 2,\n",
       " 2,\n",
       " 4,\n",
       " 2,\n",
       " 4,\n",
       " 4,\n",
       " 9,\n",
       " 11,\n",
       " 4,\n",
       " 9,\n",
       " 11,\n",
       " 2,\n",
       " 12,\n",
       " 11,\n",
       " 12,\n",
       " 11,\n",
       " 4,\n",
       " 4,\n",
       " 12,\n",
       " 4,\n",
       " 1,\n",
       " 9,\n",
       " 12,\n",
       " 12,\n",
       " 4,\n",
       " 2,\n",
       " 1,\n",
       " 2,\n",
       " 4,\n",
       " 10,\n",
       " 2,\n",
       " 11,\n",
       " 3,\n",
       " 1,\n",
       " 4,\n",
       " 4,\n",
       " 4,\n",
       " 1,\n",
       " 3,\n",
       " 1,\n",
       " 4,\n",
       " 10,\n",
       " 3,\n",
       " 2,\n",
       " 11,\n",
       " 2,\n",
       " 11,\n",
       " 2,\n",
       " 2,\n",
       " 4,\n",
       " 2,\n",
       " 4,\n",
       " 2,\n",
       " 4,\n",
       " 1,\n",
       " 3,\n",
       " 10,\n",
       " 9,\n",
       " 10,\n",
       " 11,\n",
       " 3,\n",
       " 1,\n",
       " 1,\n",
       " 1,\n",
       " 4,\n",
       " 4,\n",
       " 10,\n",
       " 1,\n",
       " 3,\n",
       " 3,\n",
       " 4,\n",
       " 12,\n",
       " 11,\n",
       " 4,\n",
       " 12,\n",
       " 3,\n",
       " 9,\n",
       " 1,\n",
       " 1,\n",
       " 12,\n",
       " 9,\n",
       " 2,\n",
       " 3,\n",
       " 10,\n",
       " 12,\n",
       " 10,\n",
       " 10,\n",
       " 10,\n",
       " 4,\n",
       " 2,\n",
       " 4,\n",
       " 2,\n",
       " 4,\n",
       " 12,\n",
       " 9,\n",
       " 10,\n",
       " 12,\n",
       " 4,\n",
       " 10,\n",
       " 2,\n",
       " 1,\n",
       " 1,\n",
       " 4,\n",
       " 4,\n",
       " 1,\n",
       " 2,\n",
       " 3,\n",
       " 9,\n",
       " 12,\n",
       " 2,\n",
       " 2,\n",
       " 11,\n",
       " 11,\n",
       " 4,\n",
       " 2,\n",
       " 12,\n",
       " 9,\n",
       " 1,\n",
       " 9,\n",
       " 11,\n",
       " 2,\n",
       " 2,\n",
       " 12,\n",
       " 12,\n",
       " 2,\n",
       " 4,\n",
       " 4,\n",
       " 3,\n",
       " 11,\n",
       " 2,\n",
       " 10,\n",
       " 2,\n",
       " 10,\n",
       " 4,\n",
       " 4,\n",
       " 2,\n",
       " 4,\n",
       " 12,\n",
       " 10,\n",
       " 9,\n",
       " 4,\n",
       " 2,\n",
       " 4,\n",
       " 2,\n",
       " 1,\n",
       " 1,\n",
       " 9,\n",
       " 1,\n",
       " 9,\n",
       " 11,\n",
       " 1,\n",
       " 12,\n",
       " 3,\n",
       " 4,\n",
       " 1,\n",
       " 9,\n",
       " 2,\n",
       " 4,\n",
       " 4,\n",
       " 4]"
      ]
     },
     "execution_count": 631,
     "metadata": {},
     "output_type": "execute_result"
    }
   ],
   "source": [
    "act_set"
   ]
  },
  {
   "cell_type": "code",
   "execution_count": 632,
   "metadata": {},
   "outputs": [
    {
     "name": "stdout",
     "output_type": "stream",
     "text": [
      "b''\n",
      "4 gold pieces\u0000\u0000\u0000\u0000\u0000\u0000\u0000\u0000\u0000\u0000\u0000\u0000\u0000\u0000\u0000\u0000\u0000\u0000\u0000\u0000\u0000\u0000\u0000\u0000\u0000\u0000\u0000\u0000\u0000\u0000\u0000\u0000\u0000\u0000\u0000\u0000\u0000\u0000\u0000\u0000\u0000\u0000\u0000\u0000\u0000\u0000\u0000\u0000\u0000\u0000\u0000\u0000\u0000\u0000\u0000\u0000\u0000\u0000\u0000\u0000\u0000\u0000\u0000\u0000\u0000\u0000\u0000\n",
      "an uncursed +2 pair of leather gloves (being worn)\u0000\u0000\u0000\u0000\u0000\u0000\u0000\u0000\u0000\u0000\u0000\u0000\u0000\u0000\u0000\u0000\u0000\u0000\u0000\u0000\u0000\u0000\u0000\u0000\u0000\u0000\u0000\u0000\u0000\u0000\n",
      "an uncursed +1 robe (being worn)\u0000\u0000\u0000\u0000\u0000\u0000\u0000\u0000\u0000\u0000\u0000\u0000\u0000\u0000\u0000\u0000\u0000\u0000\u0000\u0000\u0000\u0000\u0000\u0000\u0000\u0000\u0000\u0000\u0000\u0000\u0000\u0000\u0000\u0000\u0000\u0000\u0000\u0000\u0000\u0000\u0000\u0000\u0000\u0000\u0000\u0000\u0000\u0000\n",
      "a blessed spellbook of healing\u0000\u0000\u0000\u0000\u0000\u0000\u0000\u0000\u0000\u0000\u0000\u0000\u0000\u0000\u0000\u0000\u0000\u0000\u0000\u0000\u0000\u0000\u0000\u0000\u0000\u0000\u0000\u0000\u0000\u0000\u0000\u0000\u0000\u0000\u0000\u0000\u0000\u0000\u0000\u0000\u0000\u0000\u0000\u0000\u0000\u0000\u0000\u0000\u0000\u0000\n",
      "an uncursed scroll of destroy armor\u0000\u0000\u0000\u0000\u0000\u0000\u0000\u0000\u0000\u0000\u0000\u0000\u0000\u0000\u0000\u0000\u0000\u0000\u0000\u0000\u0000\u0000\u0000\u0000\u0000\u0000\u0000\u0000\u0000\u0000\u0000\u0000\u0000\u0000\u0000\u0000\u0000\u0000\u0000\u0000\u0000\u0000\u0000\u0000\u0000\n",
      "3 uncursed potions of healing\u0000\u0000\u0000\u0000\u0000\u0000\u0000\u0000\u0000\u0000\u0000\u0000\u0000\u0000\u0000\u0000\u0000\u0000\u0000\u0000\u0000\u0000\u0000\u0000\u0000\u0000\u0000\u0000\u0000\u0000\u0000\u0000\u0000\u0000\u0000\u0000\u0000\u0000\u0000\u0000\u0000\u0000\u0000\u0000\u0000\u0000\u0000\u0000\u0000\u0000\u0000\n",
      "3 uncursed food rations\u0000\u0000\u0000\u0000\u0000\u0000\u0000\u0000\u0000\u0000\u0000\u0000\u0000\u0000\u0000\u0000\u0000\u0000\u0000\u0000\u0000\u0000\u0000\u0000\u0000\u0000\u0000\u0000\u0000\u0000\u0000\u0000\u0000\u0000\u0000\u0000\u0000\u0000\u0000\u0000\u0000\u0000\u0000\u0000\u0000\u0000\u0000\u0000\u0000\u0000\u0000\u0000\u0000\u0000\u0000\u0000\u0000\n",
      "5 uncursed apples\u0000\u0000\u0000\u0000\u0000\u0000\u0000\u0000\u0000\u0000\u0000\u0000\u0000\u0000\u0000\u0000\u0000\u0000\u0000\u0000\u0000\u0000\u0000\u0000\u0000\u0000\u0000\u0000\u0000\u0000\u0000\u0000\u0000\u0000\u0000\u0000\u0000\u0000\u0000\u0000\u0000\u0000\u0000\u0000\u0000\u0000\u0000\u0000\u0000\u0000\u0000\u0000\u0000\u0000\u0000\u0000\u0000\u0000\u0000\u0000\u0000\u0000\u0000\n",
      "5 uncursed oranges\u0000\u0000\u0000\u0000\u0000\u0000\u0000\u0000\u0000\u0000\u0000\u0000\u0000\u0000\u0000\u0000\u0000\u0000\u0000\u0000\u0000\u0000\u0000\u0000\u0000\u0000\u0000\u0000\u0000\u0000\u0000\u0000\u0000\u0000\u0000\u0000\u0000\u0000\u0000\u0000\u0000\u0000\u0000\u0000\u0000\u0000\u0000\u0000\u0000\u0000\u0000\u0000\u0000\u0000\u0000\u0000\u0000\u0000\u0000\u0000\u0000\u0000\n",
      "3 uncursed fortune cookies\u0000\u0000\u0000\u0000\u0000\u0000\u0000\u0000\u0000\u0000\u0000\u0000\u0000\u0000\u0000\u0000\u0000\u0000\u0000\u0000\u0000\u0000\u0000\u0000\u0000\u0000\u0000\u0000\u0000\u0000\u0000\u0000\u0000\u0000\u0000\u0000\u0000\u0000\u0000\u0000\u0000\u0000\u0000\u0000\u0000\u0000\u0000\u0000\u0000\u0000\u0000\u0000\u0000\u0000\n",
      "a magic marker (0:95)\u0000\u0000\u0000\u0000\u0000\u0000\u0000\u0000\u0000\u0000\u0000\u0000\u0000\u0000\u0000\u0000\u0000\u0000\u0000\u0000\u0000\u0000\u0000\u0000\u0000\u0000\u0000\u0000\u0000\u0000\u0000\u0000\u0000\u0000\u0000\u0000\u0000\u0000\u0000\u0000\u0000\u0000\u0000\u0000\u0000\u0000\u0000\u0000\u0000\u0000\u0000\u0000\u0000\u0000\u0000\u0000\u0000\u0000\u0000\n",
      "\u001b[0;30m \u001b[0m\u001b[0;30m \u001b[0m\u001b[0;30m \u001b[0m\u001b[0;30m \u001b[0m\u001b[0;30m \u001b[0m\u001b[0;30m \u001b[0m\u001b[0;30m \u001b[0m\u001b[0;30m \u001b[0m\u001b[0;30m \u001b[0m\u001b[0;30m \u001b[0m\u001b[0;30m \u001b[0m\u001b[0;30m \u001b[0m\u001b[0;30m \u001b[0m\u001b[0;30m \u001b[0m\u001b[0;30m \u001b[0m\u001b[0;30m \u001b[0m\u001b[0;30m \u001b[0m\u001b[0;30m \u001b[0m\u001b[0;30m \u001b[0m\u001b[0;30m \u001b[0m\u001b[0;30m \u001b[0m\u001b[0;30m \u001b[0m\u001b[0;30m \u001b[0m\u001b[0;30m \u001b[0m\u001b[0;30m \u001b[0m\u001b[0;30m \u001b[0m\u001b[0;30m \u001b[0m\u001b[0;30m \u001b[0m\u001b[0;30m \u001b[0m\u001b[0;30m \u001b[0m\u001b[0;30m \u001b[0m\u001b[0;30m \u001b[0m\u001b[0;30m \u001b[0m\u001b[0;30m \u001b[0m\u001b[0;30m \u001b[0m\u001b[0;30m \u001b[0m\u001b[0;30m \u001b[0m\u001b[0;30m \u001b[0m\u001b[0;30m \u001b[0m\u001b[0;30m \u001b[0m\u001b[0;30m \u001b[0m\u001b[0;30m \u001b[0m\u001b[0;30m \u001b[0m\u001b[0;30m \u001b[0m\u001b[0;30m \u001b[0m\u001b[0;30m \u001b[0m\u001b[0;30m \u001b[0m\u001b[0;30m \u001b[0m\u001b[0;30m \u001b[0m\u001b[0;30m \u001b[0m\u001b[0;30m \u001b[0m\u001b[0;30m \u001b[0m\u001b[0;30m \u001b[0m\u001b[0;30m \u001b[0m\u001b[0;30m \u001b[0m\u001b[0;30m \u001b[0m\u001b[0;30m \u001b[0m\u001b[0;30m \u001b[0m\u001b[0;30m \u001b[0m\u001b[0;30m \u001b[0m\u001b[0;30m \u001b[0m\u001b[0;30m \u001b[0m\u001b[0;30m \u001b[0m\u001b[0;30m \u001b[0m\u001b[0;30m \u001b[0m\u001b[0;30m \u001b[0m\u001b[0;30m \u001b[0m\u001b[0;30m \u001b[0m\u001b[0;30m \u001b[0m\u001b[0;30m \u001b[0m\u001b[0;30m \u001b[0m\u001b[0;30m \u001b[0m\u001b[0;30m \u001b[0m\u001b[0;30m \u001b[0m\u001b[0;30m \u001b[0m\u001b[0;30m \u001b[0m\u001b[0;30m \u001b[0m\u001b[0;30m \u001b[0m\u001b[0;30m \u001b[0m\n",
      "\u001b[0;30m \u001b[0m\u001b[0;30m \u001b[0m\u001b[0;30m \u001b[0m\u001b[0;30m \u001b[0m\u001b[0;30m \u001b[0m\u001b[0;30m \u001b[0m\u001b[0;30m \u001b[0m\u001b[0;30m \u001b[0m\u001b[0;30m \u001b[0m\u001b[0;30m \u001b[0m\u001b[0;30m \u001b[0m\u001b[0;30m \u001b[0m\u001b[0;30m \u001b[0m\u001b[0;30m \u001b[0m\u001b[0;30m \u001b[0m\u001b[0;30m \u001b[0m\u001b[0;30m \u001b[0m\u001b[0;30m \u001b[0m\u001b[0;30m \u001b[0m\u001b[0;30m \u001b[0m\u001b[0;30m \u001b[0m\u001b[0;30m \u001b[0m\u001b[0;30m \u001b[0m\u001b[0;30m \u001b[0m\u001b[0;30m \u001b[0m\u001b[0;30m \u001b[0m\u001b[0;30m \u001b[0m\u001b[0;30m \u001b[0m\u001b[0;30m \u001b[0m\u001b[0;30m \u001b[0m\u001b[0;30m \u001b[0m\u001b[0;30m \u001b[0m\u001b[0;30m \u001b[0m\u001b[0;30m \u001b[0m\u001b[0;30m \u001b[0m\u001b[0;37m-\u001b[0m\u001b[0;37m-\u001b[0m\u001b[0;37m-\u001b[0m\u001b[0;37m-\u001b[0m\u001b[0;37m-\u001b[0m\u001b[0;37m-\u001b[0m\u001b[0;37m-\u001b[0m\u001b[0;37m-\u001b[0m\u001b[0;37m-\u001b[0m\u001b[0;37m-\u001b[0m\u001b[0;37m-\u001b[0m\u001b[0;37m-\u001b[0m\u001b[0;37m-\u001b[0m\u001b[0;30m \u001b[0m\u001b[0;30m \u001b[0m\u001b[0;30m \u001b[0m\u001b[0;30m \u001b[0m\u001b[0;30m \u001b[0m\u001b[0;30m \u001b[0m\u001b[0;30m \u001b[0m\u001b[0;30m \u001b[0m\u001b[0;30m \u001b[0m\u001b[0;30m \u001b[0m\u001b[0;30m \u001b[0m\u001b[0;30m \u001b[0m\u001b[0;30m \u001b[0m\u001b[0;30m \u001b[0m\u001b[0;30m \u001b[0m\u001b[0;30m \u001b[0m\u001b[0;30m \u001b[0m\u001b[0;30m \u001b[0m\u001b[0;30m \u001b[0m\u001b[0;30m \u001b[0m\u001b[0;30m \u001b[0m\u001b[0;30m \u001b[0m\u001b[0;30m \u001b[0m\u001b[0;30m \u001b[0m\u001b[0;30m \u001b[0m\u001b[0;30m \u001b[0m\u001b[0;30m \u001b[0m\u001b[0;30m \u001b[0m\u001b[0;30m \u001b[0m\u001b[0;30m \u001b[0m\u001b[0;30m \u001b[0m\n",
      "\u001b[0;30m \u001b[0m\u001b[0;30m \u001b[0m\u001b[0;30m \u001b[0m\u001b[0;30m \u001b[0m\u001b[0;30m \u001b[0m\u001b[0;30m \u001b[0m\u001b[0;30m \u001b[0m\u001b[0;30m \u001b[0m\u001b[0;30m \u001b[0m\u001b[0;30m \u001b[0m\u001b[0;30m \u001b[0m\u001b[0;30m \u001b[0m\u001b[0;30m \u001b[0m\u001b[0;30m \u001b[0m\u001b[0;30m \u001b[0m\u001b[0;30m \u001b[0m\u001b[0;30m \u001b[0m\u001b[0;30m \u001b[0m\u001b[0;30m \u001b[0m\u001b[0;30m \u001b[0m\u001b[0;30m \u001b[0m\u001b[0;30m \u001b[0m\u001b[0;30m \u001b[0m\u001b[0;30m \u001b[0m\u001b[0;30m \u001b[0m\u001b[0;37m-\u001b[0m\u001b[0;37m-\u001b[0m\u001b[0;37m-\u001b[0m\u001b[0;37m-\u001b[0m\u001b[0;37m-\u001b[0m\u001b[0;30m \u001b[0m\u001b[0;30m \u001b[0m\u001b[0;30m \u001b[0m\u001b[0;30m \u001b[0m\u001b[0;30m \u001b[0m\u001b[0;37m|\u001b[0m\u001b[0;30m.\u001b[0m\u001b[0;30m.\u001b[0m\u001b[0;30m.\u001b[0m\u001b[0;30m.\u001b[0m\u001b[0;30m.\u001b[0m\u001b[0;30m.\u001b[0m\u001b[0;30m.\u001b[0m\u001b[0;30m.\u001b[0m\u001b[0;30m.\u001b[0m\u001b[0;30m.\u001b[0m\u001b[0;30m.\u001b[0m\u001b[0;30m.\u001b[0m\u001b[0;30m \u001b[0m\u001b[0;30m \u001b[0m\u001b[0;30m \u001b[0m\u001b[0;30m \u001b[0m\u001b[0;30m \u001b[0m\u001b[0;30m \u001b[0m\u001b[0;30m \u001b[0m\u001b[0;30m \u001b[0m\u001b[0;30m \u001b[0m\u001b[0;30m \u001b[0m\u001b[0;30m \u001b[0m\u001b[0;30m \u001b[0m\u001b[0;30m \u001b[0m\u001b[0;30m \u001b[0m\u001b[0;30m \u001b[0m\u001b[0;30m \u001b[0m\u001b[0;30m \u001b[0m\u001b[0;30m \u001b[0m\u001b[0;30m \u001b[0m\u001b[0;30m \u001b[0m\u001b[0;30m \u001b[0m\u001b[0;30m \u001b[0m\u001b[0;30m \u001b[0m\u001b[0;30m \u001b[0m\u001b[0;30m \u001b[0m\u001b[0;30m \u001b[0m\u001b[0;30m \u001b[0m\u001b[0;30m \u001b[0m\u001b[0;30m \u001b[0m\u001b[0;30m \u001b[0m\u001b[0;30m \u001b[0m\n",
      "\u001b[0;30m \u001b[0m\u001b[0;30m \u001b[0m\u001b[0;30m \u001b[0m\u001b[0;30m \u001b[0m\u001b[0;30m \u001b[0m\u001b[0;30m \u001b[0m\u001b[0;30m \u001b[0m\u001b[0;30m \u001b[0m\u001b[0;30m \u001b[0m\u001b[0;30m \u001b[0m\u001b[0;30m \u001b[0m\u001b[0;30m \u001b[0m\u001b[0;30m \u001b[0m\u001b[0;30m \u001b[0m\u001b[0;30m \u001b[0m\u001b[0;30m \u001b[0m\u001b[0;30m \u001b[0m\u001b[0;30m \u001b[0m\u001b[0;30m \u001b[0m\u001b[0;30m \u001b[0m\u001b[0;30m \u001b[0m\u001b[0;30m \u001b[0m\u001b[0;30m \u001b[0m\u001b[0;30m \u001b[0m\u001b[0;30m \u001b[0m\u001b[0;37m|\u001b[0m\u001b[0;30m.\u001b[0m\u001b[0;37m>\u001b[0m\u001b[0;30m.\u001b[0m\u001b[0;33m+\u001b[0m\u001b[0;30m \u001b[0m\u001b[0;30m \u001b[0m\u001b[0;30m \u001b[0m\u001b[0;30m \u001b[0m\u001b[0;30m \u001b[0m\u001b[0;37m.\u001b[0m\u001b[0;30m.\u001b[0m\u001b[0;30m.\u001b[0m\u001b[0;30m.\u001b[0m\u001b[0;30m.\u001b[0m\u001b[0;30m.\u001b[0m\u001b[0;30m.\u001b[0m\u001b[0;30m.\u001b[0m\u001b[0;30m.\u001b[0m\u001b[0;30m.\u001b[0m\u001b[0;30m.\u001b[0m\u001b[0;30m.\u001b[0m\u001b[0;30m.\u001b[0m\u001b[0;30m.\u001b[0m\u001b[0;30m \u001b[0m\u001b[0;30m \u001b[0m\u001b[0;30m \u001b[0m\u001b[0;30m \u001b[0m\u001b[0;30m \u001b[0m\u001b[0;30m \u001b[0m\u001b[0;30m \u001b[0m\u001b[0;30m \u001b[0m\u001b[0;30m \u001b[0m\u001b[0;30m \u001b[0m\u001b[0;30m \u001b[0m\u001b[0;30m \u001b[0m\u001b[0;30m \u001b[0m\u001b[0;30m \u001b[0m\u001b[0;30m \u001b[0m\u001b[0;37m-\u001b[0m\u001b[0;37m-\u001b[0m\u001b[0;37m-\u001b[0m\u001b[0;37m-\u001b[0m\u001b[0;30m \u001b[0m\u001b[0;30m \u001b[0m\u001b[0;30m \u001b[0m\u001b[0;30m \u001b[0m\u001b[0;30m \u001b[0m\u001b[0;30m \u001b[0m\u001b[0;30m \u001b[0m\u001b[0;30m \u001b[0m\u001b[0;30m \u001b[0m\u001b[0;30m \u001b[0m\u001b[0;30m \u001b[0m\n",
      "\u001b[0;30m \u001b[0m\u001b[0;30m \u001b[0m\u001b[0;30m \u001b[0m\u001b[0;30m \u001b[0m\u001b[0;30m \u001b[0m\u001b[0;30m \u001b[0m\u001b[0;30m \u001b[0m\u001b[0;30m \u001b[0m\u001b[0;30m \u001b[0m\u001b[0;30m \u001b[0m\u001b[0;30m \u001b[0m\u001b[0;30m \u001b[0m\u001b[0;30m \u001b[0m\u001b[0;30m \u001b[0m\u001b[0;30m \u001b[0m\u001b[0;30m \u001b[0m\u001b[0;30m \u001b[0m\u001b[0;30m \u001b[0m\u001b[0;30m \u001b[0m\u001b[0;30m \u001b[0m\u001b[0;30m \u001b[0m\u001b[0;30m \u001b[0m\u001b[0;30m \u001b[0m\u001b[0;30m \u001b[0m\u001b[0;30m \u001b[0m\u001b[0;37m|\u001b[0m\u001b[0;30m.\u001b[0m\u001b[1;33m$\u001b[0m\u001b[0;30m.\u001b[0m\u001b[0;37m|\u001b[0m\u001b[0;30m \u001b[0m\u001b[0;30m \u001b[0m\u001b[0;30m \u001b[0m\u001b[0;30m \u001b[0m\u001b[0;30m \u001b[0m\u001b[0;37m|\u001b[0m\u001b[0;30m.\u001b[0m\u001b[0;30m.\u001b[0m\u001b[0;30m.\u001b[0m\u001b[0;30m.\u001b[0m\u001b[0;30m.\u001b[0m\u001b[0;30m.\u001b[0m\u001b[0;30m.\u001b[0m\u001b[0;30m.\u001b[0m\u001b[0;30m.\u001b[0m\u001b[0;30m.\u001b[0m\u001b[0;30m.\u001b[0m\u001b[0;30m.\u001b[0m\u001b[0;30m.\u001b[0m\u001b[0;37m|\u001b[0m\u001b[0;30m \u001b[0m\u001b[0;30m \u001b[0m\u001b[0;30m \u001b[0m\u001b[0;30m \u001b[0m\u001b[0;30m \u001b[0m\u001b[0;30m \u001b[0m\u001b[0;30m \u001b[0m\u001b[0;30m \u001b[0m\u001b[0;30m \u001b[0m\u001b[0;30m \u001b[0m\u001b[0;30m \u001b[0m\u001b[0;30m \u001b[0m\u001b[0;30m \u001b[0m\u001b[0;30m \u001b[0m\u001b[0;30m \u001b[0m\u001b[0;30m.\u001b[0m\u001b[0;30m.\u001b[0m\u001b[0;37m|\u001b[0m\u001b[0;30m \u001b[0m\u001b[0;30m \u001b[0m\u001b[0;30m \u001b[0m\u001b[0;30m \u001b[0m\u001b[0;30m \u001b[0m\u001b[0;30m \u001b[0m\u001b[0;30m \u001b[0m\u001b[0;30m \u001b[0m\u001b[0;30m \u001b[0m\u001b[0;30m \u001b[0m\u001b[0;30m \u001b[0m\n",
      "\u001b[0;30m \u001b[0m\u001b[0;30m \u001b[0m\u001b[0;30m \u001b[0m\u001b[0;37m-\u001b[0m\u001b[0;37m-\u001b[0m\u001b[0;37m-\u001b[0m\u001b[0;37m-\u001b[0m\u001b[0;37m-\u001b[0m\u001b[0;33m+\u001b[0m\u001b[0;37m-\u001b[0m\u001b[0;37m-\u001b[0m\u001b[0;37m-\u001b[0m\u001b[0;37m-\u001b[0m\u001b[0;37m-\u001b[0m\u001b[0;37m-\u001b[0m\u001b[0;37m-\u001b[0m\u001b[0;37m-\u001b[0m\u001b[0;37m-\u001b[0m\u001b[0;37m-\u001b[0m\u001b[0;30m \u001b[0m\u001b[0;30m \u001b[0m\u001b[0;30m \u001b[0m\u001b[0;30m \u001b[0m\u001b[0;30m \u001b[0m\u001b[0;30m \u001b[0m\u001b[0;37m|\u001b[0m\u001b[1;33m%\u001b[0m\u001b[0;30m.\u001b[0m\u001b[0;30m.\u001b[0m\u001b[0;37m.\u001b[0m\u001b[0;30m \u001b[0m\u001b[0;30m \u001b[0m\u001b[0;30m \u001b[0m\u001b[0;30m \u001b[0m\u001b[0;30m \u001b[0m\u001b[0;37m|\u001b[0m\u001b[0;30m.\u001b[0m\u001b[0;30m.\u001b[0m\u001b[0;30m.\u001b[0m\u001b[0;30m.\u001b[0m\u001b[0;30m.\u001b[0m\u001b[0;30m.\u001b[0m\u001b[0;30m.\u001b[0m\u001b[0;30m.\u001b[0m\u001b[0;30m.\u001b[0m\u001b[0;30m.\u001b[0m\u001b[0;30m.\u001b[0m\u001b[0;30m.\u001b[0m\u001b[0;30m.\u001b[0m\u001b[0;37m.\u001b[0m\u001b[0;37m#\u001b[0m\u001b[0;30m \u001b[0m\u001b[0;30m \u001b[0m\u001b[0;30m \u001b[0m\u001b[0;30m \u001b[0m\u001b[0;30m \u001b[0m\u001b[0;30m \u001b[0m\u001b[0;30m \u001b[0m\u001b[0;30m \u001b[0m\u001b[0;30m \u001b[0m\u001b[0;30m \u001b[0m\u001b[0;30m \u001b[0m\u001b[0;30m \u001b[0m\u001b[0;30m \u001b[0m\u001b[0;30m \u001b[0m\u001b[0;30m \u001b[0m\u001b[0;30m.\u001b[0m\u001b[0;37m|\u001b[0m\u001b[0;30m \u001b[0m\u001b[0;30m \u001b[0m\u001b[0;30m \u001b[0m\u001b[0;30m \u001b[0m\u001b[0;30m \u001b[0m\u001b[0;30m \u001b[0m\u001b[0;30m \u001b[0m\u001b[0;30m \u001b[0m\u001b[0;30m \u001b[0m\u001b[0;30m \u001b[0m\u001b[0;30m \u001b[0m\n",
      "\u001b[0;30m \u001b[0m\u001b[0;30m \u001b[0m\u001b[0;30m \u001b[0m\u001b[0;37m|\u001b[0m\u001b[0;30m.\u001b[0m\u001b[0;30m.\u001b[0m\u001b[0;30m.\u001b[0m\u001b[0;30m.\u001b[0m\u001b[0;30m.\u001b[0m\u001b[0;30m.\u001b[0m\u001b[0;30m.\u001b[0m\u001b[0;30m.\u001b[0m\u001b[0;30m.\u001b[0m\u001b[0;37m<\u001b[0m\u001b[0;30m.\u001b[0m\u001b[0;30m.\u001b[0m\u001b[0;30m.\u001b[0m\u001b[0;30m.\u001b[0m\u001b[0;37m.\u001b[0m\u001b[0;30m \u001b[0m\u001b[0;30m \u001b[0m\u001b[0;30m \u001b[0m\u001b[0;30m \u001b[0m\u001b[0;37m#\u001b[0m\u001b[0;37m#\u001b[0m\u001b[0;30m \u001b[0m\u001b[0;30m.\u001b[0m\u001b[0;30m.\u001b[0m\u001b[0;30m.\u001b[0m\u001b[0;30m \u001b[0m\u001b[0;30m \u001b[0m\u001b[0;30m \u001b[0m\u001b[0;30m \u001b[0m\u001b[0;30m \u001b[0m\u001b[0;30m \u001b[0m\u001b[0;37m-\u001b[0m\u001b[0;37m-\u001b[0m\u001b[0;37m-\u001b[0m\u001b[0;37m-\u001b[0m\u001b[0;37m-\u001b[0m\u001b[0;33m|\u001b[0m\u001b[0;37m-\u001b[0m\u001b[0;37m-\u001b[0m\u001b[0;37m-\u001b[0m\u001b[0;37m-\u001b[0m\u001b[0;37m-\u001b[0m\u001b[0;37m-\u001b[0m\u001b[0;37m-\u001b[0m\u001b[0;37m-\u001b[0m\u001b[0;37m-\u001b[0m\u001b[0;37m#\u001b[0m\u001b[0;37m#\u001b[0m\u001b[0;37m#\u001b[0m\u001b[0;37m#\u001b[0m\u001b[0;37m#\u001b[0m\u001b[0;37m#\u001b[0m\u001b[0;37m#\u001b[0m\u001b[0;37m#\u001b[0m\u001b[0;37m#\u001b[0m\u001b[0;37m#\u001b[0m\u001b[0;37m#\u001b[0m\u001b[0;37m#\u001b[0m\u001b[0;37m#\u001b[0m\u001b[0;37m`\u001b[0m\u001b[0;30m \u001b[0m\u001b[0;30m \u001b[0m\u001b[0;30m.\u001b[0m\u001b[0;37m|\u001b[0m\u001b[0;30m \u001b[0m\u001b[0;30m \u001b[0m\u001b[0;30m \u001b[0m\u001b[0;30m \u001b[0m\u001b[0;30m \u001b[0m\u001b[0;30m \u001b[0m\u001b[0;30m \u001b[0m\u001b[0;30m \u001b[0m\u001b[0;30m \u001b[0m\u001b[0;30m \u001b[0m\u001b[0;30m \u001b[0m\n",
      "\u001b[0;30m \u001b[0m\u001b[0;30m \u001b[0m\u001b[0;30m \u001b[0m\u001b[0;37m|\u001b[0m\u001b[0;30m.\u001b[0m\u001b[0;30m.\u001b[0m\u001b[0;30m.\u001b[0m\u001b[0;30m.\u001b[0m\u001b[0;30m.\u001b[0m\u001b[0;30m.\u001b[0m\u001b[0;30m.\u001b[0m\u001b[0;30m.\u001b[0m\u001b[0;30m.\u001b[0m\u001b[0;30m.\u001b[0m\u001b[0;30m.\u001b[0m\u001b[0;30m.\u001b[0m\u001b[0;30m.\u001b[0m\u001b[0;30m.\u001b[0m\u001b[0;37m|\u001b[0m\u001b[0;30m \u001b[0m\u001b[0;30m \u001b[0m\u001b[0;30m \u001b[0m\u001b[0;30m \u001b[0m\u001b[0;30m \u001b[0m\u001b[0;37m#\u001b[0m\u001b[0;30m \u001b[0m\u001b[0;30m \u001b[0m\u001b[0;33m|\u001b[0m\u001b[0;30m \u001b[0m\u001b[0;30m \u001b[0m\u001b[0;30m \u001b[0m\u001b[0;30m \u001b[0m\u001b[0;30m \u001b[0m\u001b[0;30m \u001b[0m\u001b[0;37m#\u001b[0m\u001b[0;37m#\u001b[0m\u001b[0;37m`\u001b[0m\u001b[0;37m#\u001b[0m\u001b[0;37m#\u001b[0m\u001b[0;37m#\u001b[0m\u001b[0;37m#\u001b[0m\u001b[0;37m#\u001b[0m\u001b[0;37m#\u001b[0m\u001b[0;37m#\u001b[0m\u001b[0;37m#\u001b[0m\u001b[0;37m#\u001b[0m\u001b[0;37m#\u001b[0m\u001b[0;37m#\u001b[0m\u001b[0;37m#\u001b[0m\u001b[0;37m#\u001b[0m\u001b[0;37m#\u001b[0m\u001b[0;37m#\u001b[0m\u001b[0;37m#\u001b[0m\u001b[0;37m#\u001b[0m\u001b[0;30m \u001b[0m\u001b[0;30m \u001b[0m\u001b[0;30m \u001b[0m\u001b[0;30m \u001b[0m\u001b[0;30m \u001b[0m\u001b[0;30m \u001b[0m\u001b[0;30m \u001b[0m\u001b[0;30m \u001b[0m\u001b[0;30m \u001b[0m\u001b[0;30m \u001b[0m\u001b[0;30m \u001b[0m\u001b[0;30m \u001b[0m\u001b[0;30m.\u001b[0m\u001b[0;37m|\u001b[0m\u001b[0;30m \u001b[0m\u001b[0;30m \u001b[0m\u001b[0;30m \u001b[0m\u001b[0;30m \u001b[0m\u001b[0;30m \u001b[0m\u001b[0;30m \u001b[0m\u001b[0;30m \u001b[0m\u001b[0;30m \u001b[0m\u001b[0;30m \u001b[0m\u001b[0;30m \u001b[0m\u001b[0;30m \u001b[0m\n"
     ]
    },
    {
     "name": "stdout",
     "output_type": "stream",
     "text": [
      "\u001b[0;30m \u001b[0m\u001b[0;30m \u001b[0m\u001b[0;30m \u001b[0m\u001b[0;37m|\u001b[0m\u001b[0;30m.\u001b[0m\u001b[0;30m.\u001b[0m\u001b[0;30m.\u001b[0m\u001b[0;30m.\u001b[0m\u001b[0;30m.\u001b[0m\u001b[0;30m.\u001b[0m\u001b[0;30m.\u001b[0m\u001b[0;30m.\u001b[0m\u001b[0;30m.\u001b[0m\u001b[0;30m.\u001b[0m\u001b[0;33m%\u001b[0m\u001b[0;30m.\u001b[0m\u001b[0;30m.\u001b[0m\u001b[0;30m.\u001b[0m\u001b[0;37m|\u001b[0m\u001b[0;30m \u001b[0m\u001b[0;30m \u001b[0m\u001b[0;30m \u001b[0m\u001b[0;30m \u001b[0m\u001b[0;30m \u001b[0m\u001b[0;37m#\u001b[0m\u001b[0;37m#\u001b[0m\u001b[0;37m#\u001b[0m\u001b[0;37m#\u001b[0m\u001b[0;37m#\u001b[0m\u001b[0;37m#\u001b[0m\u001b[0;37m#\u001b[0m\u001b[0;37m#\u001b[0m\u001b[0;37m#\u001b[0m\u001b[0;37m#\u001b[0m\u001b[1;37m@\u001b[0m\u001b[0;37m#\u001b[0m\u001b[0;37m#\u001b[0m\u001b[0;37m#\u001b[0m\u001b[0;37m#\u001b[0m\u001b[0;37m#\u001b[0m\u001b[0;37m#\u001b[0m\u001b[0;37m#\u001b[0m\u001b[0;37m#\u001b[0m\u001b[0;37m#\u001b[0m\u001b[0;37m#\u001b[0m\u001b[0;37m#\u001b[0m\u001b[0;37m#\u001b[0m\u001b[0;37m#\u001b[0m\u001b[0;37m#\u001b[0m\u001b[0;37m#\u001b[0m\u001b[0;37m#\u001b[0m\u001b[0;37m#\u001b[0m\u001b[0;37m#\u001b[0m\u001b[0;37m#\u001b[0m\u001b[0;37m#\u001b[0m\u001b[0;37m#\u001b[0m\u001b[0;37m#\u001b[0m\u001b[0;30m \u001b[0m\u001b[0;30m \u001b[0m\u001b[0;30m \u001b[0m\u001b[0;30m \u001b[0m\u001b[0;30m \u001b[0m\u001b[0;30m \u001b[0m\u001b[0;30m \u001b[0m\u001b[0;30m \u001b[0m\u001b[0;30m \u001b[0m\u001b[0;30m.\u001b[0m\u001b[0;37m|\u001b[0m\u001b[0;30m \u001b[0m\u001b[0;30m \u001b[0m\u001b[0;30m \u001b[0m\u001b[0;30m \u001b[0m\u001b[0;30m \u001b[0m\u001b[0;30m \u001b[0m\u001b[0;30m \u001b[0m\u001b[0;30m \u001b[0m\u001b[0;30m \u001b[0m\u001b[0;30m \u001b[0m\u001b[0;30m \u001b[0m\n",
      "\u001b[0;30m \u001b[0m\u001b[0;30m \u001b[0m\u001b[0;30m \u001b[0m\u001b[0;37m|\u001b[0m\u001b[0;37m!\u001b[0m\u001b[0;33m%\u001b[0m\u001b[0;30m.\u001b[0m\u001b[0;30m.\u001b[0m\u001b[0;30m.\u001b[0m\u001b[0;30m.\u001b[0m\u001b[0;30m.\u001b[0m\u001b[0;30m.\u001b[0m\u001b[0;30m.\u001b[0m\u001b[0;30m.\u001b[0m\u001b[0;30m.\u001b[0m\u001b[0;30m.\u001b[0m\u001b[0;30m.\u001b[0m\u001b[0;30m.\u001b[0m\u001b[0;37m.\u001b[0m\u001b[0;37m#\u001b[0m\u001b[0;30m \u001b[0m\u001b[0;30m \u001b[0m\u001b[0;30m \u001b[0m\u001b[0;30m \u001b[0m\u001b[0;30m \u001b[0m\u001b[0;30m \u001b[0m\u001b[0;30m \u001b[0m\u001b[0;37m#\u001b[0m\u001b[0;30m \u001b[0m\u001b[0;30m \u001b[0m\u001b[0;30m \u001b[0m\u001b[0;30m \u001b[0m\u001b[0;30m \u001b[0m\u001b[0;30m \u001b[0m\u001b[0;30m \u001b[0m\u001b[0;30m \u001b[0m\u001b[0;30m \u001b[0m\u001b[0;30m \u001b[0m\u001b[0;30m \u001b[0m\u001b[0;30m \u001b[0m\u001b[0;30m \u001b[0m\u001b[0;37m#\u001b[0m\u001b[0;30m \u001b[0m\u001b[0;30m \u001b[0m\u001b[0;37m#\u001b[0m\u001b[0;37m#\u001b[0m\u001b[0;37m#\u001b[0m\u001b[0;30m \u001b[0m\u001b[0;30m \u001b[0m\u001b[0;30m \u001b[0m\u001b[0;30m \u001b[0m\u001b[0;30m \u001b[0m\u001b[0;30m \u001b[0m\u001b[0;37m#\u001b[0m\u001b[0;37m#\u001b[0m\u001b[0;37m#\u001b[0m\u001b[0;37m#\u001b[0m\u001b[0;37m#\u001b[0m\u001b[0;37m#\u001b[0m\u001b[0;37m#\u001b[0m\u001b[0;30m \u001b[0m\u001b[0;37m#\u001b[0m\u001b[0;30m \u001b[0m\u001b[0;30m \u001b[0m\u001b[0;30m \u001b[0m\u001b[0;30m \u001b[0m\u001b[0;37m.\u001b[0m\u001b[0;30m \u001b[0m\u001b[0;30m \u001b[0m\u001b[0;30m \u001b[0m\u001b[0;30m \u001b[0m\u001b[0;30m \u001b[0m\u001b[0;30m \u001b[0m\u001b[0;30m \u001b[0m\u001b[0;30m \u001b[0m\u001b[0;30m \u001b[0m\u001b[0;30m \u001b[0m\u001b[0;30m \u001b[0m\u001b[0;30m \u001b[0m\n",
      "\u001b[0;30m \u001b[0m\u001b[0;30m \u001b[0m\u001b[0;30m \u001b[0m\u001b[0;37m-\u001b[0m\u001b[0;37m-\u001b[0m\u001b[0;37m-\u001b[0m\u001b[0;37m-\u001b[0m\u001b[0;37m-\u001b[0m\u001b[0;37m-\u001b[0m\u001b[0;37m-\u001b[0m\u001b[0;37m-\u001b[0m\u001b[0;37m-\u001b[0m\u001b[0;37m-\u001b[0m\u001b[0;37m-\u001b[0m\u001b[0;37m-\u001b[0m\u001b[0;37m-\u001b[0m\u001b[0;37m-\u001b[0m\u001b[0;37m-\u001b[0m\u001b[0;37m-\u001b[0m\u001b[0;37m#\u001b[0m\u001b[0;37m#\u001b[0m\u001b[0;30m \u001b[0m\u001b[0;30m \u001b[0m\u001b[0;30m \u001b[0m\u001b[0;30m \u001b[0m\u001b[0;30m \u001b[0m\u001b[0;37m#\u001b[0m\u001b[0;37m#\u001b[0m\u001b[0;30m \u001b[0m\u001b[0;30m \u001b[0m\u001b[0;30m \u001b[0m\u001b[0;30m \u001b[0m\u001b[0;30m \u001b[0m\u001b[0;30m \u001b[0m\u001b[0;30m \u001b[0m\u001b[0;30m \u001b[0m\u001b[0;30m \u001b[0m\u001b[0;30m \u001b[0m\u001b[0;30m \u001b[0m\u001b[0;30m \u001b[0m\u001b[0;30m \u001b[0m\u001b[0;30m \u001b[0m\u001b[0;30m \u001b[0m\u001b[0;30m \u001b[0m\u001b[0;30m \u001b[0m\u001b[0;30m \u001b[0m\u001b[0;30m \u001b[0m\u001b[0;30m \u001b[0m\u001b[0;30m \u001b[0m\u001b[0;30m \u001b[0m\u001b[0;30m \u001b[0m\u001b[0;30m \u001b[0m\u001b[0;37m#\u001b[0m\u001b[0;37m#\u001b[0m\u001b[0;37m#\u001b[0m\u001b[0;37m#\u001b[0m\u001b[0;37m#\u001b[0m\u001b[0;30m \u001b[0m\u001b[0;30m \u001b[0m\u001b[0;37m#\u001b[0m\u001b[0;37m#\u001b[0m\u001b[0;37m#\u001b[0m\u001b[0;30m \u001b[0m\u001b[0;30m \u001b[0m\u001b[0;30m \u001b[0m\u001b[0;30m \u001b[0m\u001b[0;30m \u001b[0m\u001b[0;30m \u001b[0m\u001b[0;30m \u001b[0m\u001b[0;30m \u001b[0m\u001b[0;30m \u001b[0m\u001b[0;30m \u001b[0m\u001b[0;30m \u001b[0m\u001b[0;30m \u001b[0m\u001b[0;30m \u001b[0m\u001b[0;30m \u001b[0m\u001b[0;30m \u001b[0m\u001b[0;30m \u001b[0m\u001b[0;30m \u001b[0m\n",
      "\u001b[0;30m \u001b[0m\u001b[0;30m \u001b[0m\u001b[0;30m \u001b[0m\u001b[0;30m \u001b[0m\u001b[0;30m \u001b[0m\u001b[0;30m \u001b[0m\u001b[0;30m \u001b[0m\u001b[0;30m \u001b[0m\u001b[0;30m \u001b[0m\u001b[0;30m \u001b[0m\u001b[0;30m \u001b[0m\u001b[0;30m \u001b[0m\u001b[0;30m \u001b[0m\u001b[0;30m \u001b[0m\u001b[0;30m \u001b[0m\u001b[0;30m \u001b[0m\u001b[0;30m \u001b[0m\u001b[0;30m \u001b[0m\u001b[0;30m \u001b[0m\u001b[0;30m \u001b[0m\u001b[0;37m#\u001b[0m\u001b[0;37m#\u001b[0m\u001b[0;30m \u001b[0m\u001b[0;30m \u001b[0m\u001b[0;30m \u001b[0m\u001b[0;30m \u001b[0m\u001b[0;37m#\u001b[0m\u001b[0;30m \u001b[0m\u001b[0;30m \u001b[0m\u001b[0;30m \u001b[0m\u001b[0;30m \u001b[0m\u001b[0;30m \u001b[0m\u001b[0;30m \u001b[0m\u001b[0;30m \u001b[0m\u001b[0;30m \u001b[0m\u001b[0;30m \u001b[0m\u001b[0;30m \u001b[0m\u001b[0;30m \u001b[0m\u001b[0;30m \u001b[0m\u001b[0;30m \u001b[0m\u001b[0;37m-\u001b[0m\u001b[0;37m-\u001b[0m\u001b[0;37m-\u001b[0m\u001b[0;37m-\u001b[0m\u001b[0;37m-\u001b[0m\u001b[0;37m.\u001b[0m\u001b[0;37m-\u001b[0m\u001b[0;37m-\u001b[0m\u001b[0;37m-\u001b[0m\u001b[0;37m-\u001b[0m\u001b[0;37m-\u001b[0m\u001b[0;37m-\u001b[0m\u001b[0;37m-\u001b[0m\u001b[0;30m \u001b[0m\u001b[0;30m \u001b[0m\u001b[0;37m#\u001b[0m\u001b[0;37m#\u001b[0m\u001b[0;37m#\u001b[0m\u001b[0;30m \u001b[0m\u001b[0;37m#\u001b[0m\u001b[0;30m \u001b[0m\u001b[0;30m \u001b[0m\u001b[0;30m \u001b[0m\u001b[0;30m \u001b[0m\u001b[0;30m \u001b[0m\u001b[0;30m \u001b[0m\u001b[0;30m \u001b[0m\u001b[0;30m \u001b[0m\u001b[0;30m \u001b[0m\u001b[0;30m \u001b[0m\u001b[0;30m \u001b[0m\u001b[0;30m \u001b[0m\u001b[0;30m \u001b[0m\u001b[0;30m \u001b[0m\u001b[0;30m \u001b[0m\u001b[0;30m \u001b[0m\u001b[0;30m \u001b[0m\u001b[0;30m \u001b[0m\u001b[0;30m \u001b[0m\n",
      "\u001b[0;30m \u001b[0m\u001b[0;30m \u001b[0m\u001b[0;30m \u001b[0m\u001b[0;30m \u001b[0m\u001b[0;30m \u001b[0m\u001b[0;30m \u001b[0m\u001b[0;30m \u001b[0m\u001b[0;30m \u001b[0m\u001b[0;30m \u001b[0m\u001b[0;30m \u001b[0m\u001b[0;30m \u001b[0m\u001b[0;30m \u001b[0m\u001b[0;30m \u001b[0m\u001b[0;30m \u001b[0m\u001b[0;30m \u001b[0m\u001b[0;30m \u001b[0m\u001b[0;30m \u001b[0m\u001b[0;30m \u001b[0m\u001b[0;30m \u001b[0m\u001b[0;30m \u001b[0m\u001b[0;30m \u001b[0m\u001b[0;37m#\u001b[0m\u001b[0;37m#\u001b[0m\u001b[0;30m \u001b[0m\u001b[0;30m \u001b[0m\u001b[0;30m \u001b[0m\u001b[0;37m#\u001b[0m\u001b[0;30m \u001b[0m\u001b[0;30m \u001b[0m\u001b[0;30m \u001b[0m\u001b[0;30m \u001b[0m\u001b[0;30m \u001b[0m\u001b[0;30m \u001b[0m\u001b[0;30m \u001b[0m\u001b[0;30m \u001b[0m\u001b[0;30m \u001b[0m\u001b[0;30m \u001b[0m\u001b[0;30m \u001b[0m\u001b[0;30m \u001b[0m\u001b[0;30m \u001b[0m\u001b[0;37m.\u001b[0m\u001b[0;30m.\u001b[0m\u001b[0;30m.\u001b[0m\u001b[0;30m.\u001b[0m\u001b[0;30m.\u001b[0m\u001b[0;30m.\u001b[0m\u001b[0;30m.\u001b[0m\u001b[0;30m.\u001b[0m\u001b[0;30m.\u001b[0m\u001b[0;30m.\u001b[0m\u001b[0;30m.\u001b[0m\u001b[0;30m.\u001b[0m\u001b[0;30m.\u001b[0m\u001b[0;30m \u001b[0m\u001b[0;30m \u001b[0m\u001b[0;37m#\u001b[0m\u001b[0;30m \u001b[0m\u001b[0;37m#\u001b[0m\u001b[0;37m#\u001b[0m\u001b[0;37m#\u001b[0m\u001b[0;37m#\u001b[0m\u001b[0;30m \u001b[0m\u001b[0;30m \u001b[0m\u001b[0;30m \u001b[0m\u001b[0;30m \u001b[0m\u001b[0;30m \u001b[0m\u001b[0;37m#\u001b[0m\u001b[0;30m \u001b[0m\u001b[0;30m \u001b[0m\u001b[0;30m \u001b[0m\u001b[0;30m \u001b[0m\u001b[0;30m \u001b[0m\u001b[0;30m \u001b[0m\u001b[0;30m \u001b[0m\u001b[0;30m \u001b[0m\u001b[0;30m \u001b[0m\u001b[0;30m \u001b[0m\u001b[0;30m \u001b[0m\u001b[0;30m \u001b[0m\n",
      "\u001b[0;30m \u001b[0m\u001b[0;30m \u001b[0m\u001b[0;30m \u001b[0m\u001b[0;30m \u001b[0m\u001b[0;30m \u001b[0m\u001b[0;30m \u001b[0m\u001b[0;30m \u001b[0m\u001b[0;30m \u001b[0m\u001b[0;30m \u001b[0m\u001b[0;30m \u001b[0m\u001b[0;30m \u001b[0m\u001b[0;30m \u001b[0m\u001b[0;30m \u001b[0m\u001b[0;30m \u001b[0m\u001b[0;30m \u001b[0m\u001b[0;30m \u001b[0m\u001b[0;30m \u001b[0m\u001b[0;30m \u001b[0m\u001b[0;30m \u001b[0m\u001b[0;30m \u001b[0m\u001b[0;30m \u001b[0m\u001b[0;30m \u001b[0m\u001b[0;37m#\u001b[0m\u001b[0;30m \u001b[0m\u001b[0;30m \u001b[0m\u001b[0;37m-\u001b[0m\u001b[0;33m|\u001b[0m\u001b[0;37m-\u001b[0m\u001b[0;37m-\u001b[0m\u001b[0;37m-\u001b[0m\u001b[0;30m \u001b[0m\u001b[0;30m \u001b[0m\u001b[0;30m \u001b[0m\u001b[0;30m \u001b[0m\u001b[0;30m \u001b[0m\u001b[0;30m \u001b[0m\u001b[0;30m \u001b[0m\u001b[0;30m \u001b[0m\u001b[0;30m \u001b[0m\u001b[0;30m \u001b[0m\u001b[0;37m|\u001b[0m\u001b[0;30m.\u001b[0m\u001b[0;30m.\u001b[0m\u001b[0;30m.\u001b[0m\u001b[0;30m.\u001b[0m\u001b[0;30m.\u001b[0m\u001b[0;30m.\u001b[0m\u001b[0;30m.\u001b[0m\u001b[0;30m.\u001b[0m\u001b[0;30m.\u001b[0m\u001b[0;30m.\u001b[0m\u001b[0;30m.\u001b[0m\u001b[0;30m.\u001b[0m\u001b[0;30m.\u001b[0m\u001b[0;37m|\u001b[0m\u001b[0;37m#\u001b[0m\u001b[0;37m#\u001b[0m\u001b[0;37m#\u001b[0m\u001b[0;37m#\u001b[0m\u001b[0;37m#\u001b[0m\u001b[0;37m#\u001b[0m\u001b[0;37m#\u001b[0m\u001b[0;37m#\u001b[0m\u001b[0;37m#\u001b[0m\u001b[0;37m#\u001b[0m\u001b[0;37m`\u001b[0m\u001b[0;37m#\u001b[0m\u001b[0;37m#\u001b[0m\u001b[0;37m#\u001b[0m\u001b[0;30m \u001b[0m\u001b[0;30m \u001b[0m\u001b[0;30m \u001b[0m\u001b[0;30m \u001b[0m\u001b[0;30m \u001b[0m\u001b[0;30m \u001b[0m\u001b[0;30m \u001b[0m\u001b[0;30m \u001b[0m\u001b[0;30m \u001b[0m\u001b[0;30m \u001b[0m\n",
      "\u001b[0;30m \u001b[0m\u001b[0;30m \u001b[0m\u001b[0;30m \u001b[0m\u001b[0;30m \u001b[0m\u001b[0;30m \u001b[0m\u001b[0;30m \u001b[0m\u001b[0;30m \u001b[0m\u001b[0;30m \u001b[0m\u001b[0;30m \u001b[0m\u001b[0;30m \u001b[0m\u001b[0;30m \u001b[0m\u001b[0;30m \u001b[0m\u001b[0;30m \u001b[0m\u001b[0;30m \u001b[0m\u001b[0;30m \u001b[0m\u001b[0;30m \u001b[0m\u001b[0;30m \u001b[0m\u001b[0;30m \u001b[0m\u001b[0;30m \u001b[0m\u001b[0;30m \u001b[0m\u001b[0;30m \u001b[0m\u001b[0;30m \u001b[0m\u001b[0;37m#\u001b[0m\u001b[0;30m \u001b[0m\u001b[0;30m \u001b[0m\u001b[0;37m|\u001b[0m\u001b[0;30m.\u001b[0m\u001b[0;30m.\u001b[0m\u001b[0;30m.\u001b[0m\u001b[0;37m|\u001b[0m\u001b[0;30m \u001b[0m\u001b[0;30m \u001b[0m\u001b[0;30m \u001b[0m\u001b[0;30m \u001b[0m\u001b[0;30m \u001b[0m\u001b[0;37m`\u001b[0m\u001b[0;30m \u001b[0m\u001b[0;30m \u001b[0m\u001b[0;30m \u001b[0m\u001b[0;30m \u001b[0m\u001b[0;37m|\u001b[0m\u001b[0;30m.\u001b[0m\u001b[0;30m.\u001b[0m\u001b[0;30m.\u001b[0m\u001b[0;30m.\u001b[0m\u001b[0;30m.\u001b[0m\u001b[0;30m.\u001b[0m\u001b[0;36m[\u001b[0m\u001b[0;30m.\u001b[0m\u001b[0;30m.\u001b[0m\u001b[0;30m.\u001b[0m\u001b[0;30m.\u001b[0m\u001b[0;30m.\u001b[0m\u001b[0;30m.\u001b[0m\u001b[0;37m|\u001b[0m\u001b[0;30m \u001b[0m\u001b[0;30m \u001b[0m\u001b[0;33m%\u001b[0m\u001b[0;30m \u001b[0m\u001b[0;30m \u001b[0m\u001b[0;37m#\u001b[0m\u001b[0;37m#\u001b[0m\u001b[0;37m#\u001b[0m\u001b[0;37m#\u001b[0m\u001b[0;37m#\u001b[0m\u001b[0;37m-\u001b[0m\u001b[0;37m.\u001b[0m\u001b[0;37m-\u001b[0m\u001b[0;37m.\u001b[0m\u001b[0;37m-\u001b[0m\u001b[0;30m \u001b[0m\u001b[0;30m \u001b[0m\u001b[0;30m \u001b[0m\u001b[0;30m \u001b[0m\u001b[0;30m \u001b[0m\u001b[0;30m \u001b[0m\u001b[0;30m \u001b[0m\u001b[0;30m \u001b[0m\u001b[0;30m \u001b[0m\n",
      "\u001b[0;30m \u001b[0m\u001b[0;30m \u001b[0m\u001b[0;30m \u001b[0m\u001b[0;30m \u001b[0m\u001b[0;30m \u001b[0m\u001b[0;30m \u001b[0m\u001b[0;30m \u001b[0m\u001b[0;30m \u001b[0m\u001b[0;30m \u001b[0m\u001b[0;30m \u001b[0m\u001b[0;30m \u001b[0m\u001b[0;30m \u001b[0m\u001b[0;30m \u001b[0m\u001b[0;30m \u001b[0m\u001b[0;30m \u001b[0m\u001b[0;30m \u001b[0m\u001b[0;30m \u001b[0m\u001b[0;30m \u001b[0m\u001b[0;30m \u001b[0m\u001b[0;30m \u001b[0m\u001b[0;30m \u001b[0m\u001b[0;30m \u001b[0m\u001b[0;37m#\u001b[0m\u001b[0;30m \u001b[0m\u001b[0;30m \u001b[0m\u001b[0;37m|\u001b[0m\u001b[0;30m.\u001b[0m\u001b[0;37m`\u001b[0m\u001b[0;30m.\u001b[0m\u001b[0;37m.\u001b[0m\u001b[0;37m#\u001b[0m\u001b[0;37m#\u001b[0m\u001b[0;37m#\u001b[0m\u001b[0;37m#\u001b[0m\u001b[0;37m#\u001b[0m\u001b[0;37m#\u001b[0m\u001b[0;30m \u001b[0m\u001b[0;30m \u001b[0m\u001b[0;30m \u001b[0m\u001b[0;30m \u001b[0m\u001b[0;37m.\u001b[0m\u001b[0;30m.\u001b[0m\u001b[0;30m.\u001b[0m\u001b[0;30m.\u001b[0m\u001b[0;30m.\u001b[0m\u001b[0;30m.\u001b[0m\u001b[0;30m.\u001b[0m\u001b[0;30m.\u001b[0m\u001b[0;30m.\u001b[0m\u001b[0;30m.\u001b[0m\u001b[0;30m.\u001b[0m\u001b[0;30m.\u001b[0m\u001b[0;30m.\u001b[0m\u001b[0;30m.\u001b[0m\u001b[0;37m.\u001b[0m\u001b[0;37m#\u001b[0m\u001b[0;37m#\u001b[0m\u001b[0;37m#\u001b[0m\u001b[0;30m \u001b[0m\u001b[0;30m \u001b[0m\u001b[0;30m \u001b[0m\u001b[0;30m \u001b[0m\u001b[0;30m \u001b[0m\u001b[0;30m \u001b[0m\u001b[0;37m#\u001b[0m\u001b[0;37m|\u001b[0m\u001b[0;30m.\u001b[0m\u001b[0;30m.\u001b[0m\u001b[0;30m.\u001b[0m\u001b[0;37m|\u001b[0m\u001b[0;30m \u001b[0m\u001b[0;30m \u001b[0m\u001b[0;30m \u001b[0m\u001b[0;30m \u001b[0m\u001b[0;30m \u001b[0m\u001b[0;30m \u001b[0m\u001b[0;30m \u001b[0m\u001b[0;30m \u001b[0m\u001b[0;30m \u001b[0m\n"
     ]
    },
    {
     "name": "stdout",
     "output_type": "stream",
     "text": [
      "\u001b[0;30m \u001b[0m\u001b[0;30m \u001b[0m\u001b[0;30m \u001b[0m\u001b[0;30m \u001b[0m\u001b[0;30m \u001b[0m\u001b[0;30m \u001b[0m\u001b[0;30m \u001b[0m\u001b[0;30m \u001b[0m\u001b[0;30m \u001b[0m\u001b[0;30m \u001b[0m\u001b[0;30m \u001b[0m\u001b[0;30m \u001b[0m\u001b[0;30m \u001b[0m\u001b[0;30m \u001b[0m\u001b[0;30m \u001b[0m\u001b[0;30m \u001b[0m\u001b[0;30m \u001b[0m\u001b[0;30m \u001b[0m\u001b[0;30m \u001b[0m\u001b[0;30m \u001b[0m\u001b[0;30m \u001b[0m\u001b[0;30m \u001b[0m\u001b[0;37m#\u001b[0m\u001b[0;37m#\u001b[0m\u001b[0;37m#\u001b[0m\u001b[0;37m.\u001b[0m\u001b[0;30m.\u001b[0m\u001b[0;30m.\u001b[0m\u001b[0;30m.\u001b[0m\u001b[0;37m|\u001b[0m\u001b[0;30m \u001b[0m\u001b[0;37m#\u001b[0m\u001b[0;37m#\u001b[0m\u001b[0;37m#\u001b[0m\u001b[0;30m \u001b[0m\u001b[0;30m \u001b[0m\u001b[0;30m \u001b[0m\u001b[0;30m \u001b[0m\u001b[0;30m \u001b[0m\u001b[0;30m \u001b[0m\u001b[0;37m|\u001b[0m\u001b[0;30m.\u001b[0m\u001b[0;30m.\u001b[0m\u001b[0;30m.\u001b[0m\u001b[0;30m.\u001b[0m\u001b[0;30m.\u001b[0m\u001b[0;30m.\u001b[0m\u001b[0;30m.\u001b[0m\u001b[0;30m.\u001b[0m\u001b[0;30m.\u001b[0m\u001b[0;30m.\u001b[0m\u001b[0;30m.\u001b[0m\u001b[0;30m.\u001b[0m\u001b[0;30m.\u001b[0m\u001b[0;37m|\u001b[0m\u001b[0;30m \u001b[0m\u001b[0;30m \u001b[0m\u001b[0;30m \u001b[0m\u001b[0;30m \u001b[0m\u001b[0;30m \u001b[0m\u001b[0;30m \u001b[0m\u001b[0;30m \u001b[0m\u001b[0;30m \u001b[0m\u001b[0;30m \u001b[0m\u001b[0;37m#\u001b[0m\u001b[0;37m|\u001b[0m\u001b[0;30m.\u001b[0m\u001b[0;30m.\u001b[0m\u001b[0;30m.\u001b[0m\u001b[0;37m|\u001b[0m\u001b[0;30m \u001b[0m\u001b[0;30m \u001b[0m\u001b[0;30m \u001b[0m\u001b[0;30m \u001b[0m\u001b[0;30m \u001b[0m\u001b[0;30m \u001b[0m\u001b[0;30m \u001b[0m\u001b[0;30m \u001b[0m\u001b[0;30m \u001b[0m\n",
      "\u001b[0;30m \u001b[0m\u001b[0;30m \u001b[0m\u001b[0;30m \u001b[0m\u001b[0;30m \u001b[0m\u001b[0;30m \u001b[0m\u001b[0;30m \u001b[0m\u001b[0;30m \u001b[0m\u001b[0;30m \u001b[0m\u001b[0;30m \u001b[0m\u001b[0;30m \u001b[0m\u001b[0;30m \u001b[0m\u001b[0;30m \u001b[0m\u001b[0;30m \u001b[0m\u001b[0;30m \u001b[0m\u001b[0;30m \u001b[0m\u001b[0;30m \u001b[0m\u001b[0;30m \u001b[0m\u001b[0;30m \u001b[0m\u001b[0;30m \u001b[0m\u001b[0;30m \u001b[0m\u001b[0;30m \u001b[0m\u001b[0;30m \u001b[0m\u001b[0;30m \u001b[0m\u001b[0;30m \u001b[0m\u001b[0;30m \u001b[0m\u001b[0;37m|\u001b[0m\u001b[0;30m^\u001b[0m\u001b[0;30m.\u001b[0m\u001b[0;30m.\u001b[0m\u001b[0;33m-\u001b[0m\u001b[0;37m#\u001b[0m\u001b[0;37m#\u001b[0m\u001b[0;30m \u001b[0m\u001b[0;30m \u001b[0m\u001b[0;30m \u001b[0m\u001b[0;30m \u001b[0m\u001b[0;30m \u001b[0m\u001b[0;30m \u001b[0m\u001b[0;30m \u001b[0m\u001b[0;30m \u001b[0m\u001b[0;37m-\u001b[0m\u001b[0;37m-\u001b[0m\u001b[0;37m-\u001b[0m\u001b[0;37m-\u001b[0m\u001b[0;37m-\u001b[0m\u001b[0;37m-\u001b[0m\u001b[0;37m-\u001b[0m\u001b[0;37m-\u001b[0m\u001b[0;37m-\u001b[0m\u001b[0;37m-\u001b[0m\u001b[0;37m-\u001b[0m\u001b[0;37m-\u001b[0m\u001b[0;37m-\u001b[0m\u001b[0;37m-\u001b[0m\u001b[0;37m-\u001b[0m\u001b[0;30m \u001b[0m\u001b[0;30m \u001b[0m\u001b[0;30m \u001b[0m\u001b[0;30m \u001b[0m\u001b[0;30m \u001b[0m\u001b[0;30m \u001b[0m\u001b[0;30m \u001b[0m\u001b[0;30m \u001b[0m\u001b[0;30m \u001b[0m\u001b[0;37m#\u001b[0m\u001b[0;37m.\u001b[0m\u001b[0;30m.\u001b[0m\u001b[0;30m.\u001b[0m\u001b[1;37m?\u001b[0m\u001b[0;37m|\u001b[0m\u001b[0;30m \u001b[0m\u001b[0;30m \u001b[0m\u001b[0;30m \u001b[0m\u001b[0;30m \u001b[0m\u001b[0;30m \u001b[0m\u001b[0;30m \u001b[0m\u001b[0;30m \u001b[0m\u001b[0;30m \u001b[0m\u001b[0;30m \u001b[0m\n",
      "\u001b[0;30m \u001b[0m\u001b[0;30m \u001b[0m\u001b[0;30m \u001b[0m\u001b[0;30m \u001b[0m\u001b[0;30m \u001b[0m\u001b[0;30m \u001b[0m\u001b[0;30m \u001b[0m\u001b[0;30m \u001b[0m\u001b[0;30m \u001b[0m\u001b[0;30m \u001b[0m\u001b[0;30m \u001b[0m\u001b[0;30m \u001b[0m\u001b[0;30m \u001b[0m\u001b[0;30m \u001b[0m\u001b[0;30m \u001b[0m\u001b[0;30m \u001b[0m\u001b[0;30m \u001b[0m\u001b[0;30m \u001b[0m\u001b[0;30m \u001b[0m\u001b[0;30m \u001b[0m\u001b[0;30m \u001b[0m\u001b[0;30m \u001b[0m\u001b[0;30m \u001b[0m\u001b[0;30m \u001b[0m\u001b[0;30m \u001b[0m\u001b[0;37m-\u001b[0m\u001b[0;37m-\u001b[0m\u001b[0;37m-\u001b[0m\u001b[0;37m-\u001b[0m\u001b[0;37m-\u001b[0m\u001b[0;30m \u001b[0m\u001b[0;30m \u001b[0m\u001b[0;30m \u001b[0m\u001b[0;30m \u001b[0m\u001b[0;30m \u001b[0m\u001b[0;30m \u001b[0m\u001b[0;30m \u001b[0m\u001b[0;30m \u001b[0m\u001b[0;30m \u001b[0m\u001b[0;30m \u001b[0m\u001b[0;30m \u001b[0m\u001b[0;30m \u001b[0m\u001b[0;30m \u001b[0m\u001b[0;30m \u001b[0m\u001b[0;30m \u001b[0m\u001b[0;30m \u001b[0m\u001b[0;30m \u001b[0m\u001b[0;30m \u001b[0m\u001b[0;30m \u001b[0m\u001b[0;30m \u001b[0m\u001b[0;30m \u001b[0m\u001b[0;30m \u001b[0m\u001b[0;30m \u001b[0m\u001b[0;30m \u001b[0m\u001b[0;30m \u001b[0m\u001b[0;30m \u001b[0m\u001b[0;30m \u001b[0m\u001b[0;30m \u001b[0m\u001b[0;30m \u001b[0m\u001b[0;30m \u001b[0m\u001b[0;30m \u001b[0m\u001b[0;30m \u001b[0m\u001b[0;30m \u001b[0m\u001b[0;30m \u001b[0m\u001b[0;30m \u001b[0m\u001b[0;37m-\u001b[0m\u001b[0;37m-\u001b[0m\u001b[0;37m-\u001b[0m\u001b[0;37m-\u001b[0m\u001b[0;37m-\u001b[0m\u001b[0;30m \u001b[0m\u001b[0;30m \u001b[0m\u001b[0;30m \u001b[0m\u001b[0;30m \u001b[0m\u001b[0;30m \u001b[0m\u001b[0;30m \u001b[0m\u001b[0;30m \u001b[0m\u001b[0;30m \u001b[0m\u001b[0;30m \u001b[0m\n",
      "\u001b[0;30m \u001b[0m\u001b[0;30m \u001b[0m\u001b[0;30m \u001b[0m\u001b[0;30m \u001b[0m\u001b[0;30m \u001b[0m\u001b[0;30m \u001b[0m\u001b[0;30m \u001b[0m\u001b[0;30m \u001b[0m\u001b[0;30m \u001b[0m\u001b[0;30m \u001b[0m\u001b[0;30m \u001b[0m\u001b[0;30m \u001b[0m\u001b[0;30m \u001b[0m\u001b[0;30m \u001b[0m\u001b[0;30m \u001b[0m\u001b[0;30m \u001b[0m\u001b[0;30m \u001b[0m\u001b[0;30m \u001b[0m\u001b[0;30m \u001b[0m\u001b[0;30m \u001b[0m\u001b[0;30m \u001b[0m\u001b[0;30m \u001b[0m\u001b[0;30m \u001b[0m\u001b[0;30m \u001b[0m\u001b[0;30m \u001b[0m\u001b[0;30m \u001b[0m\u001b[0;30m \u001b[0m\u001b[0;30m \u001b[0m\u001b[0;30m \u001b[0m\u001b[0;30m \u001b[0m\u001b[0;30m \u001b[0m\u001b[0;30m \u001b[0m\u001b[0;30m \u001b[0m\u001b[0;30m \u001b[0m\u001b[0;30m \u001b[0m\u001b[0;30m \u001b[0m\u001b[0;30m \u001b[0m\u001b[0;30m \u001b[0m\u001b[0;30m \u001b[0m\u001b[0;30m \u001b[0m\u001b[0;30m \u001b[0m\u001b[0;30m \u001b[0m\u001b[0;30m \u001b[0m\u001b[0;30m \u001b[0m\u001b[0;30m \u001b[0m\u001b[0;30m \u001b[0m\u001b[0;30m \u001b[0m\u001b[0;30m \u001b[0m\u001b[0;30m \u001b[0m\u001b[0;30m \u001b[0m\u001b[0;30m \u001b[0m\u001b[0;30m \u001b[0m\u001b[0;30m \u001b[0m\u001b[0;30m \u001b[0m\u001b[0;30m \u001b[0m\u001b[0;30m \u001b[0m\u001b[0;30m \u001b[0m\u001b[0;30m \u001b[0m\u001b[0;30m \u001b[0m\u001b[0;30m \u001b[0m\u001b[0;30m \u001b[0m\u001b[0;30m \u001b[0m\u001b[0;30m \u001b[0m\u001b[0;30m \u001b[0m\u001b[0;30m \u001b[0m\u001b[0;30m \u001b[0m\u001b[0;30m \u001b[0m\u001b[0;30m \u001b[0m\u001b[0;30m \u001b[0m\u001b[0;30m \u001b[0m\u001b[0;30m \u001b[0m\u001b[0;30m \u001b[0m\u001b[0;30m \u001b[0m\u001b[0;30m \u001b[0m\u001b[0;30m \u001b[0m\u001b[0;30m \u001b[0m\u001b[0;30m \u001b[0m\u001b[0;30m \u001b[0m\u001b[0;30m \u001b[0m\n",
      "\u001b[0;30m \u001b[0m\u001b[0;30m \u001b[0m\u001b[0;30m \u001b[0m\u001b[0;30m \u001b[0m\u001b[0;30m \u001b[0m\u001b[0;30m \u001b[0m\u001b[0;30m \u001b[0m\u001b[0;30m \u001b[0m\u001b[0;30m \u001b[0m\u001b[0;30m \u001b[0m\u001b[0;30m \u001b[0m\u001b[0;30m \u001b[0m\u001b[0;30m \u001b[0m\u001b[0;30m \u001b[0m\u001b[0;30m \u001b[0m\u001b[0;30m \u001b[0m\u001b[0;30m \u001b[0m\u001b[0;30m \u001b[0m\u001b[0;30m \u001b[0m\u001b[0;30m \u001b[0m\u001b[0;30m \u001b[0m\u001b[0;30m \u001b[0m\u001b[0;30m \u001b[0m\u001b[0;30m \u001b[0m\u001b[0;30m \u001b[0m\u001b[0;30m \u001b[0m\u001b[0;30m \u001b[0m\u001b[0;30m \u001b[0m\u001b[0;30m \u001b[0m\u001b[0;30m \u001b[0m\u001b[0;30m \u001b[0m\u001b[0;30m \u001b[0m\u001b[0;30m \u001b[0m\u001b[0;30m \u001b[0m\u001b[0;30m \u001b[0m\u001b[0;30m \u001b[0m\u001b[0;30m \u001b[0m\u001b[0;30m \u001b[0m\u001b[0;30m \u001b[0m\u001b[0;30m \u001b[0m\u001b[0;30m \u001b[0m\u001b[0;30m \u001b[0m\u001b[0;30m \u001b[0m\u001b[0;30m \u001b[0m\u001b[0;30m \u001b[0m\u001b[0;30m \u001b[0m\u001b[0;30m \u001b[0m\u001b[0;30m \u001b[0m\u001b[0;30m \u001b[0m\u001b[0;30m \u001b[0m\u001b[0;30m \u001b[0m\u001b[0;30m \u001b[0m\u001b[0;30m \u001b[0m\u001b[0;30m \u001b[0m\u001b[0;30m \u001b[0m\u001b[0;30m \u001b[0m\u001b[0;30m \u001b[0m\u001b[0;30m \u001b[0m\u001b[0;30m \u001b[0m\u001b[0;30m \u001b[0m\u001b[0;30m \u001b[0m\u001b[0;30m \u001b[0m\u001b[0;30m \u001b[0m\u001b[0;30m \u001b[0m\u001b[0;30m \u001b[0m\u001b[0;30m \u001b[0m\u001b[0;30m \u001b[0m\u001b[0;30m \u001b[0m\u001b[0;30m \u001b[0m\u001b[0;30m \u001b[0m\u001b[0;30m \u001b[0m\u001b[0;30m \u001b[0m\u001b[0;30m \u001b[0m\u001b[0;30m \u001b[0m\u001b[0;30m \u001b[0m\u001b[0;30m \u001b[0m\u001b[0;30m \u001b[0m\u001b[0;30m \u001b[0m\u001b[0;30m \u001b[0m\n"
     ]
    }
   ],
   "source": [
    "env.render()"
   ]
  },
  {
   "cell_type": "code",
   "execution_count": 623,
   "metadata": {},
   "outputs": [
    {
     "data": {
      "text/plain": [
       "1830"
      ]
     },
     "execution_count": 623,
     "metadata": {},
     "output_type": "execute_result"
    }
   ],
   "source": [
    "len(agent.actions) - 1 - agent.actions[::-1].index(18)"
   ]
  },
  {
   "cell_type": "code",
   "execution_count": 625,
   "metadata": {},
   "outputs": [
    {
     "data": {
      "text/plain": [
       "1831"
      ]
     },
     "execution_count": 625,
     "metadata": {},
     "output_type": "execute_result"
    }
   ],
   "source": [
    "len(agent.actions)"
   ]
  },
  {
   "cell_type": "code",
   "execution_count": 689,
   "metadata": {},
   "outputs": [
    {
     "name": "stdout",
     "output_type": "stream",
     "text": [
      "Gib move: 2\n"
     ]
    },
    {
     "ename": "RuntimeError",
     "evalue": "Called step on finished NetHack",
     "output_type": "error",
     "traceback": [
      "\u001b[0;31m---------------------------------------------------------------------------\u001b[0m",
      "\u001b[0;31mRuntimeError\u001b[0m                              Traceback (most recent call last)",
      "\u001b[0;32m<ipython-input-689-0c0fba7e30f0>\u001b[0m in \u001b[0;36m<module>\u001b[0;34m\u001b[0m\n\u001b[1;32m      1\u001b[0m \u001b[0maction\u001b[0m \u001b[0;34m=\u001b[0m \u001b[0mint\u001b[0m\u001b[0;34m(\u001b[0m\u001b[0minput\u001b[0m\u001b[0;34m(\u001b[0m\u001b[0;34m'Gib move: '\u001b[0m\u001b[0;34m)\u001b[0m\u001b[0;34m)\u001b[0m\u001b[0;34m\u001b[0m\u001b[0;34m\u001b[0m\u001b[0m\n\u001b[0;32m----> 2\u001b[0;31m \u001b[0mnew_state\u001b[0m\u001b[0;34m,\u001b[0m \u001b[0mreward\u001b[0m\u001b[0;34m,\u001b[0m \u001b[0mdone\u001b[0m\u001b[0;34m,\u001b[0m \u001b[0mr2\u001b[0m \u001b[0;34m=\u001b[0m \u001b[0menv\u001b[0m\u001b[0;34m.\u001b[0m\u001b[0mstep\u001b[0m\u001b[0;34m(\u001b[0m\u001b[0maction\u001b[0m\u001b[0;34m)\u001b[0m\u001b[0;34m\u001b[0m\u001b[0;34m\u001b[0m\u001b[0m\n\u001b[0m\u001b[1;32m      3\u001b[0m \u001b[0;31m# new_state2, reward2, done2, r2 = env2.step(action)\u001b[0m\u001b[0;34m\u001b[0m\u001b[0;34m\u001b[0m\u001b[0;34m\u001b[0m\u001b[0m\n\u001b[1;32m      4\u001b[0m \u001b[0mepisode_return\u001b[0m \u001b[0;34m+=\u001b[0m \u001b[0mreward\u001b[0m\u001b[0;34m\u001b[0m\u001b[0;34m\u001b[0m\u001b[0m\n\u001b[1;32m      5\u001b[0m \u001b[0mprint\u001b[0m\u001b[0;34m(\u001b[0m\u001b[0;34m'reward1'\u001b[0m\u001b[0;34m,\u001b[0m\u001b[0mreward\u001b[0m\u001b[0;34m)\u001b[0m\u001b[0;34m\u001b[0m\u001b[0;34m\u001b[0m\u001b[0m\n",
      "\u001b[0;32m~/anaconda3/envs/nle/lib/python3.8/site-packages/nle/env/base.py\u001b[0m in \u001b[0;36mstep\u001b[0;34m(self, action)\u001b[0m\n\u001b[1;32m    294\u001b[0m         \u001b[0mlast_observation\u001b[0m \u001b[0;34m=\u001b[0m \u001b[0mtuple\u001b[0m\u001b[0;34m(\u001b[0m\u001b[0ma\u001b[0m\u001b[0;34m.\u001b[0m\u001b[0mcopy\u001b[0m\u001b[0;34m(\u001b[0m\u001b[0;34m)\u001b[0m \u001b[0;32mfor\u001b[0m \u001b[0ma\u001b[0m \u001b[0;32min\u001b[0m \u001b[0mself\u001b[0m\u001b[0;34m.\u001b[0m\u001b[0mlast_observation\u001b[0m\u001b[0;34m)\u001b[0m\u001b[0;34m\u001b[0m\u001b[0;34m\u001b[0m\u001b[0m\n\u001b[1;32m    295\u001b[0m \u001b[0;34m\u001b[0m\u001b[0m\n\u001b[0;32m--> 296\u001b[0;31m         \u001b[0mobservation\u001b[0m\u001b[0;34m,\u001b[0m \u001b[0mdone\u001b[0m \u001b[0;34m=\u001b[0m \u001b[0mself\u001b[0m\u001b[0;34m.\u001b[0m\u001b[0menv\u001b[0m\u001b[0;34m.\u001b[0m\u001b[0mstep\u001b[0m\u001b[0;34m(\u001b[0m\u001b[0mself\u001b[0m\u001b[0;34m.\u001b[0m\u001b[0m_actions\u001b[0m\u001b[0;34m[\u001b[0m\u001b[0maction\u001b[0m\u001b[0;34m]\u001b[0m\u001b[0;34m)\u001b[0m\u001b[0;34m\u001b[0m\u001b[0;34m\u001b[0m\u001b[0m\n\u001b[0m\u001b[1;32m    297\u001b[0m         \u001b[0mobservation\u001b[0m\u001b[0;34m,\u001b[0m \u001b[0mdone\u001b[0m \u001b[0;34m=\u001b[0m \u001b[0mself\u001b[0m\u001b[0;34m.\u001b[0m\u001b[0m_perform_known_steps\u001b[0m\u001b[0;34m(\u001b[0m\u001b[0mobservation\u001b[0m\u001b[0;34m,\u001b[0m \u001b[0mdone\u001b[0m\u001b[0;34m)\u001b[0m\u001b[0;34m\u001b[0m\u001b[0;34m\u001b[0m\u001b[0m\n\u001b[1;32m    298\u001b[0m \u001b[0;34m\u001b[0m\u001b[0m\n",
      "\u001b[0;32m~/anaconda3/envs/nle/lib/python3.8/site-packages/nle/nethack/nethack.py\u001b[0m in \u001b[0;36mstep\u001b[0;34m(self, action)\u001b[0m\n\u001b[1;32m    139\u001b[0m \u001b[0;34m\u001b[0m\u001b[0m\n\u001b[1;32m    140\u001b[0m     \u001b[0;32mdef\u001b[0m \u001b[0mstep\u001b[0m\u001b[0;34m(\u001b[0m\u001b[0mself\u001b[0m\u001b[0;34m,\u001b[0m \u001b[0maction\u001b[0m\u001b[0;34m)\u001b[0m\u001b[0;34m:\u001b[0m\u001b[0;34m\u001b[0m\u001b[0;34m\u001b[0m\u001b[0m\n\u001b[0;32m--> 141\u001b[0;31m         \u001b[0mself\u001b[0m\u001b[0;34m.\u001b[0m\u001b[0m_pynethack\u001b[0m\u001b[0;34m.\u001b[0m\u001b[0mstep\u001b[0m\u001b[0;34m(\u001b[0m\u001b[0maction\u001b[0m\u001b[0;34m)\u001b[0m\u001b[0;34m\u001b[0m\u001b[0;34m\u001b[0m\u001b[0m\n\u001b[0m\u001b[1;32m    142\u001b[0m         \u001b[0;32mreturn\u001b[0m \u001b[0mself\u001b[0m\u001b[0;34m.\u001b[0m\u001b[0m_step_return\u001b[0m\u001b[0;34m(\u001b[0m\u001b[0;34m)\u001b[0m\u001b[0;34m,\u001b[0m \u001b[0mself\u001b[0m\u001b[0;34m.\u001b[0m\u001b[0m_pynethack\u001b[0m\u001b[0;34m.\u001b[0m\u001b[0mdone\u001b[0m\u001b[0;34m(\u001b[0m\u001b[0;34m)\u001b[0m\u001b[0;34m\u001b[0m\u001b[0;34m\u001b[0m\u001b[0m\n\u001b[1;32m    143\u001b[0m \u001b[0;34m\u001b[0m\u001b[0m\n",
      "\u001b[0;31mRuntimeError\u001b[0m: Called step on finished NetHack"
     ]
    }
   ],
   "source": [
    "action = int(input('Gib move: '))\n",
    "new_state, reward, done, r2 = env.step(action)\n",
    "# new_state2, reward2, done2, r2 = env2.step(action)\n",
    "episode_return += reward\n",
    "print('reward1',reward)\n",
    "# print('reward2',reward2)\n",
    "env.render()\n",
    "# env2.render()\n",
    "state = new_state\n"
   ]
  },
  {
   "cell_type": "code",
   "execution_count": 694,
   "metadata": {},
   "outputs": [
    {
     "data": {
      "text/plain": [
       "defaultdict(<function Node.Tree.__init__.<locals>.<lambda>()>,\n",
       "            {3560: {'pre_descend': -1,\n",
       "              'parent': None,\n",
       "              'actions': [10,\n",
       "               10,\n",
       "               2,\n",
       "               2,\n",
       "               10,\n",
       "               4,\n",
       "               11,\n",
       "               4,\n",
       "               1,\n",
       "               4,\n",
       "               1,\n",
       "               4,\n",
       "               10,\n",
       "               10,\n",
       "               12,\n",
       "               10,\n",
       "               4,\n",
       "               9,\n",
       "               3,\n",
       "               11,\n",
       "               12,\n",
       "               2,\n",
       "               2,\n",
       "               2,\n",
       "               4,\n",
       "               10,\n",
       "               1,\n",
       "               1,\n",
       "               11,\n",
       "               1,\n",
       "               11,\n",
       "               1,\n",
       "               3,\n",
       "               1,\n",
       "               11,\n",
       "               11,\n",
       "               4,\n",
       "               10,\n",
       "               9,\n",
       "               9,\n",
       "               1,\n",
       "               3,\n",
       "               9,\n",
       "               3,\n",
       "               4,\n",
       "               11,\n",
       "               2,\n",
       "               4,\n",
       "               10,\n",
       "               11,\n",
       "               1,\n",
       "               4,\n",
       "               2,\n",
       "               1,\n",
       "               4,\n",
       "               4,\n",
       "               3,\n",
       "               4,\n",
       "               10,\n",
       "               1,\n",
       "               10,\n",
       "               2,\n",
       "               12,\n",
       "               3,\n",
       "               10,\n",
       "               12,\n",
       "               12,\n",
       "               12,\n",
       "               10,\n",
       "               10,\n",
       "               1,\n",
       "               9,\n",
       "               12,\n",
       "               10,\n",
       "               3,\n",
       "               1,\n",
       "               11,\n",
       "               2,\n",
       "               4,\n",
       "               2,\n",
       "               4,\n",
       "               10,\n",
       "               11,\n",
       "               1,\n",
       "               4,\n",
       "               12,\n",
       "               2,\n",
       "               11,\n",
       "               1,\n",
       "               10,\n",
       "               10,\n",
       "               11,\n",
       "               10,\n",
       "               9,\n",
       "               3,\n",
       "               1,\n",
       "               11,\n",
       "               4,\n",
       "               1,\n",
       "               3,\n",
       "               2,\n",
       "               9,\n",
       "               3,\n",
       "               1,\n",
       "               11,\n",
       "               9,\n",
       "               1,\n",
       "               12,\n",
       "               3,\n",
       "               9,\n",
       "               9,\n",
       "               9,\n",
       "               9,\n",
       "               2,\n",
       "               4,\n",
       "               9,\n",
       "               10,\n",
       "               1,\n",
       "               12,\n",
       "               1,\n",
       "               3,\n",
       "               1,\n",
       "               3,\n",
       "               3,\n",
       "               3,\n",
       "               1,\n",
       "               3,\n",
       "               11,\n",
       "               12,\n",
       "               4,\n",
       "               10,\n",
       "               4,\n",
       "               4,\n",
       "               4,\n",
       "               2,\n",
       "               2,\n",
       "               4,\n",
       "               12,\n",
       "               12,\n",
       "               12,\n",
       "               4,\n",
       "               10,\n",
       "               11,\n",
       "               2,\n",
       "               4,\n",
       "               1,\n",
       "               2,\n",
       "               11,\n",
       "               1,\n",
       "               3,\n",
       "               10,\n",
       "               12,\n",
       "               4,\n",
       "               12,\n",
       "               9,\n",
       "               3,\n",
       "               11,\n",
       "               10,\n",
       "               10,\n",
       "               9,\n",
       "               2,\n",
       "               3,\n",
       "               12,\n",
       "               10,\n",
       "               12,\n",
       "               2,\n",
       "               9,\n",
       "               11,\n",
       "               2,\n",
       "               10,\n",
       "               9,\n",
       "               10,\n",
       "               3,\n",
       "               10,\n",
       "               4,\n",
       "               3,\n",
       "               2,\n",
       "               4,\n",
       "               4,\n",
       "               3,\n",
       "               9],\n",
       "              'isTerminal': True,\n",
       "              'children': [],\n",
       "              'good_children': [],\n",
       "              'reward': 0.0,\n",
       "              'visits': 8,\n",
       "              'is_good': True},\n",
       "             None: {}})"
      ]
     },
     "execution_count": 694,
     "metadata": {},
     "output_type": "execute_result"
    }
   ],
   "source": [
    "agent.tree.dictionary"
   ]
  },
  {
   "cell_type": "code",
   "execution_count": 695,
   "metadata": {},
   "outputs": [],
   "source": [
    "s,r,d = agent.StepEnvironment(3560)"
   ]
  },
  {
   "cell_type": "code",
   "execution_count": 696,
   "metadata": {},
   "outputs": [
    {
     "data": {
      "text/plain": [
       "{'stats': {}, 'end_status': <StepStatus.DEATH: 1>}"
      ]
     },
     "execution_count": 696,
     "metadata": {},
     "output_type": "execute_result"
    }
   ],
   "source": [
    "d"
   ]
  },
  {
   "cell_type": "code",
   "execution_count": 675,
   "metadata": {},
   "outputs": [],
   "source": [
    "def getSurrounding(state):\n",
    "    col,row = state['blstats'][0],state['blstats'][1]\n",
    "    vicinity = state['glyphs'][row-1:row+2,col-1:col+2]\n",
    "    plt.imshow(vicinity,cmap='inferno')\n",
    "    print(vicinity)\n",
    "    return vicinity"
   ]
  },
  {
   "cell_type": "code",
   "execution_count": 676,
   "metadata": {},
   "outputs": [],
   "source": [
    "def getLegalMoves(state):\n",
    "    vicinity = getSurrounding(state).flatten()\n",
    "    stairs = np.where(vic.flatten()==2383)\n",
    "    descend = len(stairs[0])==1\n",
    "\n",
    "    legals = [int(i==0) or int(i>2359 and i<2370) for i in vicinity]\n",
    "#     [null_space,dog,space in room, hallway space,doorway or broken door,open door]\n",
    "#     kickables = [int(i in [0,397,333,2378,2380,2371,2373]) or int(i>2359 and i<2370) for i in vicinity.flatten()]\n",
    "    legals = np.ones(len(legals),dtype=np.int8) - legals\n",
    "#     kickables = np.ones(len(kickables),dtype=np.int8) - kickables\n",
    "    close_move = [8,1,5,4,19,2,7,3,6] #first eight positions\n",
    "#     long_move = [16,9,13,12,19,10,15,11,14] #long eight positions\n",
    "    legal_close = np.unique(close_move*legals)[1:-1]\n",
    "#     legal_long = np.unique(long_move*legals)[1:-1]\n",
    "#     kickables = np.unique(close_move*kickables)[1:]\n",
    "    if not descend:\n",
    "        descend = []\n",
    "    else:\n",
    "        descend = [close_move[stairs[0][0]]]\n",
    "    return list(legal_close),vicinity,descend\n",
    "#     return(list(legal_close) + list(legal_long)),kickables\n",
    "    \n",
    "    "
   ]
  },
  {
   "cell_type": "code",
   "execution_count": 677,
   "metadata": {},
   "outputs": [
    {
     "name": "stdout",
     "output_type": "stream",
     "text": [
      "[]\n"
     ]
    },
    {
     "name": "stderr",
     "output_type": "stream",
     "text": [
      "<ipython-input-675-be16ac0dc5e1>:4: UserWarning: Attempting to set identical left == right == -0.5 results in singular transformations; automatically expanding.\n",
      "  plt.imshow(vicinity,cmap='inferno')\n",
      "<ipython-input-675-be16ac0dc5e1>:4: UserWarning: Attempting to set identical bottom == top == -0.5 results in singular transformations; automatically expanding.\n",
      "  plt.imshow(vicinity,cmap='inferno')\n"
     ]
    },
    {
     "ename": "ValueError",
     "evalue": "operands could not be broadcast together with shapes (9,) (0,) ",
     "output_type": "error",
     "traceback": [
      "\u001b[0;31m---------------------------------------------------------------------------\u001b[0m",
      "\u001b[0;31mValueError\u001b[0m                                Traceback (most recent call last)",
      "\u001b[0;32m<ipython-input-677-078265e90a17>\u001b[0m in \u001b[0;36m<module>\u001b[0;34m\u001b[0m\n\u001b[0;32m----> 1\u001b[0;31m \u001b[0mmoves\u001b[0m\u001b[0;34m,\u001b[0m\u001b[0mvic\u001b[0m\u001b[0;34m,\u001b[0m\u001b[0mdes\u001b[0m \u001b[0;34m=\u001b[0m \u001b[0mgetLegalMoves\u001b[0m\u001b[0;34m(\u001b[0m\u001b[0mlatest_state\u001b[0m\u001b[0;34m)\u001b[0m\u001b[0;34m\u001b[0m\u001b[0;34m\u001b[0m\u001b[0m\n\u001b[0m",
      "\u001b[0;32m<ipython-input-676-18f3f5fdfdc5>\u001b[0m in \u001b[0;36mgetLegalMoves\u001b[0;34m(state)\u001b[0m\n\u001b[1;32m     11\u001b[0m     \u001b[0mclose_move\u001b[0m \u001b[0;34m=\u001b[0m \u001b[0;34m[\u001b[0m\u001b[0;36m8\u001b[0m\u001b[0;34m,\u001b[0m\u001b[0;36m1\u001b[0m\u001b[0;34m,\u001b[0m\u001b[0;36m5\u001b[0m\u001b[0;34m,\u001b[0m\u001b[0;36m4\u001b[0m\u001b[0;34m,\u001b[0m\u001b[0;36m19\u001b[0m\u001b[0;34m,\u001b[0m\u001b[0;36m2\u001b[0m\u001b[0;34m,\u001b[0m\u001b[0;36m7\u001b[0m\u001b[0;34m,\u001b[0m\u001b[0;36m3\u001b[0m\u001b[0;34m,\u001b[0m\u001b[0;36m6\u001b[0m\u001b[0;34m]\u001b[0m \u001b[0;31m#first eight positions\u001b[0m\u001b[0;34m\u001b[0m\u001b[0;34m\u001b[0m\u001b[0m\n\u001b[1;32m     12\u001b[0m \u001b[0;31m#     long_move = [16,9,13,12,19,10,15,11,14] #long eight positions\u001b[0m\u001b[0;34m\u001b[0m\u001b[0;34m\u001b[0m\u001b[0;34m\u001b[0m\u001b[0m\n\u001b[0;32m---> 13\u001b[0;31m     \u001b[0mlegal_close\u001b[0m \u001b[0;34m=\u001b[0m \u001b[0mnp\u001b[0m\u001b[0;34m.\u001b[0m\u001b[0munique\u001b[0m\u001b[0;34m(\u001b[0m\u001b[0mclose_move\u001b[0m\u001b[0;34m*\u001b[0m\u001b[0mlegals\u001b[0m\u001b[0;34m)\u001b[0m\u001b[0;34m[\u001b[0m\u001b[0;36m1\u001b[0m\u001b[0;34m:\u001b[0m\u001b[0;34m-\u001b[0m\u001b[0;36m1\u001b[0m\u001b[0;34m]\u001b[0m\u001b[0;34m\u001b[0m\u001b[0;34m\u001b[0m\u001b[0m\n\u001b[0m\u001b[1;32m     14\u001b[0m \u001b[0;31m#     legal_long = np.unique(long_move*legals)[1:-1]\u001b[0m\u001b[0;34m\u001b[0m\u001b[0;34m\u001b[0m\u001b[0;34m\u001b[0m\u001b[0m\n\u001b[1;32m     15\u001b[0m \u001b[0;31m#     kickables = np.unique(close_move*kickables)[1:]\u001b[0m\u001b[0;34m\u001b[0m\u001b[0;34m\u001b[0m\u001b[0;34m\u001b[0m\u001b[0m\n",
      "\u001b[0;31mValueError\u001b[0m: operands could not be broadcast together with shapes (9,) (0,) "
     ]
    },
    {
     "data": {
      "image/png": "[encoded data removed]",
      "text/plain": [
       "<Figure size 432x288 with 1 Axes>"
      ]
     },
     "metadata": {
      "needs_background": "light"
     },
     "output_type": "display_data"
    }
   ],
   "source": [
    "moves,vic,des = getLegalMoves(latest_state)"
   ]
  }
 ],
 "metadata": {
  "kernelspec": {
   "display_name": "nle",
   "language": "python",
   "name": "nle"
  },
  "language_info": {
   "codemirror_mode": {
    "name": "ipython",
    "version": 3
   },
   "file_extension": ".py",
   "mimetype": "text/x-python",
   "name": "python",
   "nbconvert_exporter": "python",
   "pygments_lexer": "ipython3",
   "version": "3.8.5"
  }
 },
 "nbformat": 4,
 "nbformat_minor": 4
}
