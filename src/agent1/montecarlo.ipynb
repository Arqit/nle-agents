{
 "cells": [
  {
   "cell_type": "code",
   "execution_count": 11,
   "metadata": {},
   "outputs": [],
   "source": [
    "import numpy as np\n",
    "from collections import defaultdict\n",
    "import os\n",
    "\n",
    "import numpy as np\n",
    "from copy import deepcopy\n",
    "from tqdm import tqdm\n",
    "import nle\n",
    "import gym\n",
    "from matplotlib import animation\n",
    "from MyAgent import MyAgent\n",
    "from Node import Tree\n",
    "import matplotlib.pyplot as plt"
   ]
  },
  {
   "cell_type": "code",
   "execution_count": 13,
   "metadata": {},
   "outputs": [],
   "source": [
    "#run mcts on blackjack\n",
    "rewards = []\n",
    "done = False\n",
    "for  j in tqdm(range(1000)):\n",
    "    bj = gym.make(\"Blackjack-v0\")\n",
    "    bj.seed(j)\n",
    "    bj.reset()\n",
    "    agent = MyAgent(bj.observation_space,bj.action_space,j,10,\"Blackjack-v0\")\n",
    "    done = False\n",
    "    while done == False:\n",
    "        a = agent.act(None)\n",
    "        state,reward,done, _ = bj.step(a)\n",
    "        rewards.append(reward)"
   ]
  },
  {
   "cell_type": "code",
   "execution_count": 5,
   "metadata": {},
   "outputs": [
    {
     "name": "stderr",
     "output_type": "stream",
     "text": [
      "100%|██████████| 1000/1000 [00:00<00:00, 37821.62it/s]\n"
     ]
    }
   ],
   "source": [
    "#run mcts on \n",
    "rewards2 = []\n",
    "done = False\n",
    "for  j in tqdm(range(1000)):\n",
    "    done = False\n",
    "    while done == False:\n",
    "        state,reward,done, _ = bj.step(np.random.choice([0,1]))\n",
    "        rewards2.append(reward)"
   ]
  },
  {
   "cell_type": "code",
   "execution_count": 15,
   "metadata": {},
   "outputs": [],
   "source": [
    "plt.title('Random agent rewards')\n",
    "plt.hist(rewards2)\n",
    "plt.hist(rewards)\n",
    "plt.legend(['random agent','monte agent'])\n",
    "plt.xlabel('steps')\n",
    "plt.ylabel('rewards')\n",
    "plt.show()"
   ]
  },
  {
   "cell_type": "markdown",
   "metadata": {},
   "source": [
    "# Cartpole"
   ]
  },
  {
   "cell_type": "code",
   "execution_count": 6,
   "metadata": {},
   "outputs": [],
   "source": [
    "def save_frames_as_gif(frames, path='./', filename='cp2.gif'):\n",
    "\n",
    "    #function to animate the frames\n",
    "    plt.figure(figsize=(frames[0].shape[1] / 72.0, frames[0].shape[0] / 72.0), dpi=72)\n",
    "\n",
    "    patch = plt.imshow(frames[0])\n",
    "    plt.axis('off')\n",
    "\n",
    "    def animate(i):\n",
    "        patch.set_data(frames[i])\n",
    "\n",
    "    anim = animation.FuncAnimation(plt.gcf(), animate, frames = len(frames), interval=50)\n",
    "    a = anim.save(path + filename, writer='imagemagick', fps=60)"
   ]
  },
  {
   "cell_type": "code",
   "execution_count": 16,
   "metadata": {},
   "outputs": [],
   "source": [
    "#mcts cartpole\n",
    "_, ax = plt.subplots(1, 1)\n",
    "cartpole = gym.make('CartPole-v0')\n",
    "cp_seed = 3\n",
    "cartpole.seed(cp_seed)\n",
    "state = cartpole.reset()\n",
    "img = ax.imshow(cartpole.render(mode='rgb_array'))\n",
    "done = False\n",
    "Frames = []\n",
    "agent = MyAgent(cartpole.observation_space,cartpole.action_space,cp_seed,10,'CartPole-v0')\n",
    "mcts_cartpole_rewards = []\n",
    "\n",
    "for i in tqdm(range(200)): #the env is solved if you're upright for more than 199 steps\n",
    "\n",
    "    a = agent.act(None)\n",
    "    frame = cartpole.render(mode='rgb_array')\n",
    "    Frames.append(frame)\n",
    "    state, reward, done, _ = cartpole.step(a)      \n",
    "    mcts_cartpole_rewards.append(reward)\n",
    "    if done:\n",
    "        break\n",
    "cartpole.close()"
   ]
  },
  {
   "cell_type": "code",
   "execution_count": 17,
   "metadata": {},
   "outputs": [],
   "source": [
    "#to save the gif\n",
    "# save_frames_as_gif(Frames,filename='mcts_cartpole.gif')"
   ]
  },
  {
   "cell_type": "code",
   "execution_count": 18,
   "metadata": {},
   "outputs": [
    {
     "name": "stderr",
     "output_type": "stream",
     "text": [
      "  8%|▊         | 16/200 [00:00<00:00, 532.91it/s]\n"
     ]
    },
    {
     "data": {
      "image/png": "[encoded data removed]",
      "text/plain": [
       "<Figure size 432x288 with 1 Axes>"
      ]
     },
     "metadata": {
      "needs_background": "light"
     },
     "output_type": "display_data"
    }
   ],
   "source": [
    "#random agent cartpole\n",
    "_, ax = plt.subplots(1, 1)\n",
    "cartpole = gym.make('CartPole-v0')\n",
    "cp_seed = 3\n",
    "cartpole.seed(cp_seed)\n",
    "state = cartpole.reset()\n",
    "img = ax.imshow(cartpole.render(mode='rgb_array'))\n",
    "done = False\n",
    "Frames = []\n",
    "random_cartpole_rewards = []\n",
    "\n",
    "for i in tqdm(range(200)): #the env is solved if you're upright for more than 199 steps\n",
    "\n",
    "    a = np.random.choice([0,1])\n",
    "    frame = cartpole.render(mode='rgb_array')\n",
    "    Frames.append(frame)\n",
    "    state, reward, done, _ = cartpole.step(a)      \n",
    "    random_cartpole_rewards.append(reward)\n",
    "    if done:\n",
    "        break\n",
    "cartpole.close()"
   ]
  },
  {
   "cell_type": "code",
   "execution_count": 19,
   "metadata": {},
   "outputs": [],
   "source": [
    "#to save the gif\n",
    "# save_frames_as_gif(Frames,filename='random_cartpole.gif')"
   ]
  },
  {
   "cell_type": "code",
   "execution_count": 20,
   "metadata": {},
   "outputs": [],
   "source": [
    "plt.title('Random agent rewards')\n",
    "plt.plot(random_cartpole_rewards,linewidth=10)\n",
    "plt.plot(mcts_cartpole_rewards,linewidth=2)\n",
    "plt.legend(['random agent','monte agent'])\n",
    "plt.xlabel('steps')\n",
    "plt.ylabel('rewards')\n",
    "plt.show()"
   ]
  }
 ],
 "metadata": {
  "kernelspec": {
   "display_name": "nle",
   "language": "python",
   "name": "nle"
  },
  "language_info": {
   "codemirror_mode": {
    "name": "ipython",
    "version": 3
   },
   "file_extension": ".py",
   "mimetype": "text/x-python",
   "name": "python",
   "nbconvert_exporter": "python",
   "pygments_lexer": "ipython3",
   "version": "3.8.5"
  }
 },
 "nbformat": 4,
 "nbformat_minor": 4
}
